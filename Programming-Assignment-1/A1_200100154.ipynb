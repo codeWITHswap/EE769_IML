{
  "nbformat": 4,
  "nbformat_minor": 0,
  "metadata": {
    "colab": {
      "provenance": []
    },
    "kernelspec": {
      "name": "python3",
      "display_name": "Python 3"
    },
    "language_info": {
      "name": "python"
    }
  },
  "cells": [
    {
      "cell_type": "markdown",
      "source": [
        "# Task 1 : Function to generate a data matrix X.\n",
        "## Inputs : Number of samples, feature dimension\n",
        "## Output : Data matrix, X\n"
      ],
      "metadata": {
        "id": "4DvWGjT0PDcF"
      }
    },
    {
      "cell_type": "code",
      "source": [
        "import numpy as np\n",
        "def generateDataMatrix(numberOfSamples, featureDimension):\n",
        "  # numberOfSamples would correspond to number of rows\n",
        "  # featureDimension would correspond to number of columns\n",
        "  return np.random.randn(numberOfSamples,featureDimension)"
      ],
      "metadata": {
        "id": "uuM-RESjPUb7"
      },
      "execution_count": 1,
      "outputs": []
    },
    {
      "cell_type": "code",
      "source": [
        "# Unit Testing Block\n",
        "numSamples = 8\n",
        "numVariables = 5\n",
        "x = generateDataMatrix(numSamples, numVariables)\n",
        "print(x)"
      ],
      "metadata": {
        "colab": {
          "base_uri": "https://localhost:8080/"
        },
        "id": "QQgC8X1ssMha",
        "outputId": "087d2f66-cb0c-47ed-83c0-6335ad70c2d9"
      },
      "execution_count": 20,
      "outputs": [
        {
          "output_type": "stream",
          "name": "stdout",
          "text": [
            "[[ 1.2759888  -0.52551641  0.68608569  1.30651399 -0.05345351]\n",
            " [-1.36118153  2.14180252 -1.22366885 -1.03003128 -0.85115619]\n",
            " [-0.70802296 -0.4144219   0.72188903 -0.9436177   0.37795052]\n",
            " [-0.53830479  0.17244447  0.13084297  1.05140359 -1.14829787]\n",
            " [ 0.05566284 -1.30351029 -1.01765896  0.47741051  1.52842196]\n",
            " [-1.04374805  0.88330752  0.04894983 -0.58814736 -0.76620077]\n",
            " [-2.05636187 -0.19857374  0.28114242 -0.64315982 -1.20731906]\n",
            " [ 0.98269565  0.21194887  2.00602235 -0.86187977  1.33296893]]\n"
          ]
        }
      ]
    },
    {
      "cell_type": "markdown",
      "source": [
        "# Task 2 : Function to generate the dependent variable column 't' i.e. the target vector\n",
        "\n",
        "## Inputs : Data matrix X, weight vector for each column, bias $w_{0}$, noise variance\n",
        "\n",
        "## Output : Target vector t\n"
      ],
      "metadata": {
        "id": "ct8klEirQjQU"
      }
    },
    {
      "cell_type": "code",
      "source": [
        "def generateTargetVector(dataMatrix, weights, bias, noise_variance):\n",
        "  return (dataMatrix).dot(weights.T) + bias + np.sqrt(noise_variance)*np.random.randn(np.shape(dataMatrix)[0], 1) # (std_dev)^2 = variance"
      ],
      "metadata": {
        "id": "6IYru_Q2Q-wF"
      },
      "execution_count": 2,
      "outputs": []
    },
    {
      "cell_type": "code",
      "source": [
        "# Unit Testing Block\n",
        "# Using the same dataMatrix that I have generated in the Unit Testing Block for Task-1\n",
        "weights = np.random.rand(1,np.shape(x)[1])\n",
        "bias = 1\n",
        "noise_variance = 0.25\n",
        "\n",
        "t = generateTargetVector(x, weights, bias, noise_variance)\n",
        "print(t)"
      ],
      "metadata": {
        "colab": {
          "base_uri": "https://localhost:8080/"
        },
        "id": "J9UeOJ93a_Kd",
        "outputId": "2085ceb1-37c8-471c-83c0-e215ccbe4035"
      },
      "execution_count": 21,
      "outputs": [
        {
          "output_type": "stream",
          "name": "stdout",
          "text": [
            "[[ 1.14536795]\n",
            " [-1.4547137 ]\n",
            " [ 1.39342065]\n",
            " [ 0.53947491]\n",
            " [ 0.97860867]\n",
            " [-0.64650762]\n",
            " [-0.6591754 ]\n",
            " [ 4.92470312]]\n"
          ]
        }
      ]
    },
    {
      "cell_type": "markdown",
      "source": [
        "# Task 3 : Function to compute a linear regression estimate \n",
        "\n",
        "## Inputs : data matrix X, weight vector w\n",
        "## Output : y"
      ],
      "metadata": {
        "id": "F4Hs7jYvTxy8"
      }
    },
    {
      "cell_type": "code",
      "source": [
        "def computeLRestimate(dataMatrix, weights): # I am assuming that the weight vector includes the bias term i.e. w_0 \n",
        "  X = np.c_[np.ones(np.shape(dataMatrix)[0]), dataMatrix] # Appending a column of ones from the left to the dataMatrix\n",
        "  return (X).dot(weights.T)"
      ],
      "metadata": {
        "id": "Omq_-L8sUL28"
      },
      "execution_count": 3,
      "outputs": []
    },
    {
      "cell_type": "code",
      "source": [
        "# Unit Testing Block\n",
        "# Using the same dataMatrix that I have generated in the Unit Testing Block for Task-1\n",
        "weights = np.random.rand(1, np.shape(x)[1]+1)\n",
        "y = computeLRestimate(x, weights)\n",
        "\n",
        "print(y)"
      ],
      "metadata": {
        "colab": {
          "base_uri": "https://localhost:8080/"
        },
        "id": "v9kaabQ76nqV",
        "outputId": "3d643ad8-cd7e-426e-9dfe-9309f52b24b5"
      },
      "execution_count": 22,
      "outputs": [
        {
          "output_type": "stream",
          "name": "stdout",
          "text": [
            "[[ 2.05107585]\n",
            " [-0.37072717]\n",
            " [-0.82770543]\n",
            " [ 0.0411043 ]\n",
            " [ 1.01628562]\n",
            " [-0.71430025]\n",
            " [-2.89263655]\n",
            " [ 2.07645225]]\n"
          ]
        }
      ]
    },
    {
      "cell_type": "markdown",
      "source": [
        "# Task 4 : Function to compute the Mean Square Error (MSE) of two vectors, y and t\n",
        "\n",
        "## Inputs : y, t\n",
        "## Outputs : MSE of y and t\n"
      ],
      "metadata": {
        "id": "1dd2GNDgUn0i"
      }
    },
    {
      "cell_type": "code",
      "source": [
        "def computeMSE(y, t):\n",
        "  N = np.shape(y-t)[0] # number of samples\n",
        "  return np.sum(np.square(y-t)) / N"
      ],
      "metadata": {
        "id": "6vJAZImcUwjQ"
      },
      "execution_count": 4,
      "outputs": []
    },
    {
      "cell_type": "code",
      "source": [
        "# Unit Testing Block\n",
        "# t and y have been previously generated in the Unit Testing Blocks for Task-2 and Task-3 respectively\n",
        "print(computeMSE(y, t))"
      ],
      "metadata": {
        "colab": {
          "base_uri": "https://localhost:8080/"
        },
        "id": "6r_QzIAd7Z6L",
        "outputId": "ac31f506-eeb9-484b-d5d7-8339d89fe149"
      },
      "execution_count": 23,
      "outputs": [
        {
          "output_type": "stream",
          "name": "stdout",
          "text": [
            "2.535500621500451\n"
          ]
        }
      ]
    },
    {
      "cell_type": "markdown",
      "source": [
        "# Task 5 : Function to estimate the weights of linear regression using pseudo-inverse, assuming L2 regularization\n",
        "\n",
        "## Inputs : X, t, and lambda\n",
        "## Outputs : w, MSE and y"
      ],
      "metadata": {
        "id": "GNQbXY2sUxZ3"
      }
    },
    {
      "cell_type": "code",
      "source": [
        "# Assuming that phi(x) = X\n",
        "def estimateWeights(X, t, Lambda):\n",
        "  dim = np.shape(X)[1] + 1 # dimension = shape of the weight vector including the bias term = NumVariables + 1\n",
        "  X_modified = np.c_[np.ones(np.shape(X)[0]), X] # Appended a column of ones from the left to X\n",
        "  w = np.linalg.pinv(Lambda*np.identity(dim) + (X_modified.T).dot(X_modified)).dot((X_modified.T).dot(t)) \n",
        "  y = computeLRestimate(X, w.T)\n",
        "  MSE = computeMSE(y, t)\n",
        "  return w.T, MSE, y"
      ],
      "metadata": {
        "id": "8IfqlyTdi55M"
      },
      "execution_count": 5,
      "outputs": []
    },
    {
      "cell_type": "code",
      "source": [
        "# Unit Testing Block\n",
        "Lambda = 0.5 # random value taken for lambda2\n",
        "# x and t have been previously generated in the Unit Testing Blocks for Task-1 and Task-2 respectively\n",
        "w, MSE, y = estimateWeights(x, t, Lambda)\n",
        "print(\"Weights : \", w)\n",
        "print(\"MSE : \", MSE)\n",
        "print(\"y : \", y)"
      ],
      "metadata": {
        "colab": {
          "base_uri": "https://localhost:8080/"
        },
        "id": "DDk9W4137ue4",
        "outputId": "572fa8ac-c03a-4d46-ce2f-2a8ce197ca28"
      },
      "execution_count": 24,
      "outputs": [
        {
          "output_type": "stream",
          "name": "stdout",
          "text": [
            "Weights :  [[0.6749543  0.18558195 0.16800511 1.12466527 0.10927972 0.95469127]]\n",
            "MSE :  0.19712913122878745\n",
            "y :  [[ 1.68682598]\n",
            " [-1.51919342]\n",
            " [ 1.54352433]\n",
            " [-0.23019211]\n",
            " [ 0.83310464]\n",
            " [-0.11105191]\n",
            " [-0.64674092]\n",
            " [ 4.32742485]]\n"
          ]
        }
      ]
    },
    {
      "cell_type": "markdown",
      "source": [
        "# Task 6 : Function to compute the gradient of MSE with respect to its weight vector\n",
        "\n",
        "## Inputs : X matrix, t vector, and w vector\n",
        "## Outputs : gradient vector"
      ],
      "metadata": {
        "id": "mP7sidjoub_4"
      }
    },
    {
      "cell_type": "code",
      "source": [
        "# You should include the bias term in this task\n",
        "def computeMSEgradient(X, t, weights):\n",
        "  N = np.shape(X)[0] # Number of Samples\n",
        "  MSEgradient = np.append(np.sum(2*(computeLRestimate(X, weights)-t))/N, 2*(X.T).dot(computeLRestimate(X, weights)-t)/N) # Appending the gradient of MSE wrt to the bias term to the gradient vector of MSE wrt to the weights vector\n",
        "  return MSEgradient.T"
      ],
      "metadata": {
        "id": "6L60PuD4udb9"
      },
      "execution_count": 6,
      "outputs": []
    },
    {
      "cell_type": "code",
      "source": [
        "# Unit Testing Block\n",
        "# Randomly generating the weight vector\n",
        "weights = np.random.randn(1, 1 + np.shape(x)[1])\n",
        "# x and t have been previously generated in the Unit Testing Blocks for Task-1 and Task-2 respectively\n",
        "print(computeMSEgradient(x, t, weights))"
      ],
      "metadata": {
        "colab": {
          "base_uri": "https://localhost:8080/"
        },
        "id": "lP6PfrRd-kAR",
        "outputId": "cefe826c-13d5-46e8-ca2a-5049af34f4ef"
      },
      "execution_count": 25,
      "outputs": [
        {
          "output_type": "stream",
          "name": "stdout",
          "text": [
            "[ 0.53052493 -3.76069902  2.14356546 -2.08546484  0.84961049 -5.37869804]\n"
          ]
        }
      ]
    },
    {
      "cell_type": "markdown",
      "source": [
        "# Task 7 : Function to compute L2 norm of a vector w passed as a numpy array. Exclude bias w0.\n",
        "\n",
        "## Inputs : w\n",
        "## Outputs : L2 norm of the vector "
      ],
      "metadata": {
        "id": "phb351dczX3V"
      }
    },
    {
      "cell_type": "code",
      "source": [
        "def L2norm(weights):\n",
        "  w = np.copy(weights) # deep copy\n",
        "  w[0][0] = 0 # since we are asked to exclude the bias term i.e. w_0\n",
        "  return np.sqrt(np.sum(np.square(w)))\n",
        "  # Note : this could have been implemented using np.linalg.norm(weights)"
      ],
      "metadata": {
        "id": "B8HgXAC6zZAe"
      },
      "execution_count": 7,
      "outputs": []
    },
    {
      "cell_type": "code",
      "source": [
        "# Unit Testing Block\n",
        "w = np.array([[1.07425434, 0.88373724, 1.68189801, 2.84855541, 3.48447525]])\n",
        "print(L2norm(w))"
      ],
      "metadata": {
        "colab": {
          "base_uri": "https://localhost:8080/"
        },
        "id": "Scfi8O0VTDds",
        "outputId": "45df7fa3-2f3c-4f16-a2ef-f884e312922e"
      },
      "execution_count": 26,
      "outputs": [
        {
          "output_type": "stream",
          "name": "stdout",
          "text": [
            "4.8852439158252485\n"
          ]
        }
      ]
    },
    {
      "cell_type": "markdown",
      "source": [
        "#Task 8 : Function to compute the gradient of L2 norm with respect to weight vector \n",
        "\n",
        "## Inputs : w vector\n",
        "## Outputs : gradient vector, where the gradient wrt the bias term is 0"
      ],
      "metadata": {
        "id": "Wa4s6_WYzcXm"
      }
    },
    {
      "cell_type": "code",
      "source": [
        "# Exclude the bias term in this task\n",
        "def computeL2gradient(weights):\n",
        "  w = np.copy(weights) # deep copy\n",
        "  ans = 2*w\n",
        "  ans[0][0] = 0 # since the gradient wrt the bias term is 0\n",
        "  return ans"
      ],
      "metadata": {
        "id": "suJUuIvUzfY0"
      },
      "execution_count": 8,
      "outputs": []
    },
    {
      "cell_type": "code",
      "source": [
        "# Unit Testing Block\n",
        "w = np.array([[1.07425434, 0.88373724, 1.68189801, 2.84855541, 3.48447525]])\n",
        "print(computeL2gradient(w))"
      ],
      "metadata": {
        "colab": {
          "base_uri": "https://localhost:8080/"
        },
        "id": "B2IY8vEzIynJ",
        "outputId": "4f72f260-a3b2-46ff-f85f-534bf8a3a74d"
      },
      "execution_count": 27,
      "outputs": [
        {
          "output_type": "stream",
          "name": "stdout",
          "text": [
            "[[0.         1.76747448 3.36379602 5.69711082 6.9689505 ]]\n"
          ]
        }
      ]
    },
    {
      "cell_type": "markdown",
      "source": [
        "# Task 9 : Function to compute L1 norm of a vector w passed as a numpy array. Exclude bias w0.\n",
        "\n",
        "## Inputs : w\n",
        "## Outputs : L1 norm of the vector "
      ],
      "metadata": {
        "id": "xOr250iAI8TN"
      }
    },
    {
      "cell_type": "code",
      "source": [
        "def L1norm(weights):\n",
        "  w = np.copy(weights) # deep copy\n",
        "  w[0][0] = 0 # since we are asked to exclude the bias term i.e. w_0\n",
        "  return np.sum(np.absolute(w))"
      ],
      "metadata": {
        "id": "mTaLU77XJCJ-"
      },
      "execution_count": 9,
      "outputs": []
    },
    {
      "cell_type": "code",
      "source": [
        "# Unit Testing Block\n",
        "w = np.array([[1, 0.2, -0.2, 0.5, -0.5]])\n",
        "print(L1norm(w))"
      ],
      "metadata": {
        "colab": {
          "base_uri": "https://localhost:8080/"
        },
        "id": "Th6q-VgVJbw8",
        "outputId": "46aa26f3-9288-48c6-a5b8-48e0feaad37f"
      },
      "execution_count": 28,
      "outputs": [
        {
          "output_type": "stream",
          "name": "stdout",
          "text": [
            "1.4\n"
          ]
        }
      ]
    },
    {
      "cell_type": "markdown",
      "source": [
        "# Task 10 : Function to compute the gradient of L1 norm with respect to the weight vectors\n",
        "\n",
        "## Inputs : w vector\n",
        "## Outputs : gradient vector, where gradient with respect to w0 is 0"
      ],
      "metadata": {
        "id": "OFy2rYQsJ8Em"
      }
    },
    {
      "cell_type": "code",
      "source": [
        "def computeL1gradient(weights):\n",
        "  w = np.copy(weights) # deep copy\n",
        "  ans = np.sign(w) # np.sign -> returns -1 if x < 0, 0 if x==0, 1 if x > 0\n",
        "  ans[0][0] = 0 # since the gradient wrt the bias term is 0\n",
        "  return ans"
      ],
      "metadata": {
        "id": "E1J6PNCuKeg3"
      },
      "execution_count": 11,
      "outputs": []
    },
    {
      "cell_type": "code",
      "source": [
        "# Unit Testing Block\n",
        "w = np.array([[1, 0.2, -0.2, 0.5, -0.5]])\n",
        "print(computeL1gradient(w))"
      ],
      "metadata": {
        "colab": {
          "base_uri": "https://localhost:8080/"
        },
        "id": "mOr2wpDKLqL0",
        "outputId": "91575700-dc43-4089-8558-5d0959468b05"
      },
      "execution_count": 29,
      "outputs": [
        {
          "output_type": "stream",
          "name": "stdout",
          "text": [
            "[[ 0.  1. -1.  1. -1.]]\n"
          ]
        }
      ]
    },
    {
      "cell_type": "markdown",
      "source": [
        "# Task 11 : Function for a single update of weights of linear regression using gradient descent\n",
        "\n",
        "## Inputs : X, t, w, eta, lambda2, lambda1 \n",
        "## Outputs : Updated weights, Updated MSE"
      ],
      "metadata": {
        "id": "HkVtF7UxL_hJ"
      }
    },
    {
      "cell_type": "code",
      "source": [
        "def singleWeightUpdate(X, t, weights, eta, Lambda1=0, Lambda2=0):\n",
        "  # Implementing the same update rule as given in the Book : Bishop - Pattern Recognition And Machine Learning - Springer - 2006 Edition\n",
        "  updated_weights = weights - eta*(computeMSEgradient(X, t, weights) + Lambda2*computeL2gradient(weights) + Lambda1*computeL1gradient(weights))\n",
        "  updated_y = computeLRestimate(X, updated_weights)\n",
        "  updated_mse = computeMSE(updated_y, t)\n",
        "  return updated_weights, updated_mse"
      ],
      "metadata": {
        "id": "-Py0ry3xMh96"
      },
      "execution_count": 30,
      "outputs": []
    },
    {
      "cell_type": "code",
      "source": [
        "# Unit Testing Block\n",
        "weights = np.random.rand(1, 1 + np.shape(x)[1])\n",
        "print(\"Weights : \", weights)\n",
        "print(\"MSE : \", computeMSE(computeLRestimate(x, weights), t))\n",
        "updated_weights, updated_mse = singleWeightUpdate(x, t, weights, 0.01, 0, 0)\n",
        "print(\"Updated Weights : \", updated_weights)\n",
        "print(\"Updated MSE : \", updated_mse)"
      ],
      "metadata": {
        "colab": {
          "base_uri": "https://localhost:8080/"
        },
        "id": "0PtYrp_5RZvG",
        "outputId": "0e14ab29-9c20-41a5-95b4-51b8e11271ef"
      },
      "execution_count": 31,
      "outputs": [
        {
          "output_type": "stream",
          "name": "stdout",
          "text": [
            "Weights :  [[0.10678827 0.16187086 0.27610982 0.1300903  0.3527141  0.32780396]]\n",
            "MSE :  2.837111070264461\n",
            "Updated Weights :  [[0.12211046 0.17397384 0.26703966 0.15685739 0.34641659 0.34710004]]\n",
            "Updated MSE :  2.680617443429711\n"
          ]
        }
      ]
    },
    {
      "cell_type": "code",
      "source": [
        "def estimateLRweights(X, t, eta, max_iter, min_change_NRMSE, Lambda1=0, Lambda2=0):\n",
        "  iter = 0 # a counter to keep a track of the number of iterations\n",
        "  w = np.random.rand(1, 1 + np.shape(X)[1]) # randomly initializing the initial weight vector including the bias term\n",
        "  old_mse = computeMSE(computeLRestimate(X, w), t)\n",
        "  old_rmse = np.sqrt(old_mse)\n",
        "  old_nrmse = old_rmse / np.sqrt(np.std(t))\n",
        "  while(iter<max_iter): # iter-Stopping criteria : max_iter has been reached\n",
        "\n",
        "    new_w, new_mse = singleWeightUpdate(X, t, w, eta, Lambda1, Lambda2)\n",
        "    new_rmse = np.sqrt(new_mse)\n",
        "    new_nrmse = new_rmse / np.sqrt(np.std(t))\n",
        "\n",
        "    if abs(new_nrmse - old_nrmse) < min_change_NRMSE:\n",
        "      break # epsilon-Stopping criteria : the normalized RMSE does not change by more than min_change_NRMSE\n",
        "    else:\n",
        "      iter += 1 # incrementing the number of iterations by 1 after every single weight update in case the epsilon-stopping criteria is not satisfied\n",
        "      w = new_w\n",
        "      old_nrmse = new_nrmse\n",
        "\n",
        "  return new_w, new_nrmse"
      ],
      "metadata": {
        "id": "AI0ekKhoS8lP"
      },
      "execution_count": 13,
      "outputs": []
    },
    {
      "cell_type": "code",
      "source": [
        "# Unit Testing Block\n",
        "FinalWeights, FinalNRMSE = estimateLRweights(x, t, 0.001, 1000, 0.01 , 0, 0)\n",
        "\n",
        "print(\"Final Weights : \", FinalWeights)\n",
        "print(\"Final NRMSE : \", FinalNRMSE)"
      ],
      "metadata": {
        "colab": {
          "base_uri": "https://localhost:8080/"
        },
        "id": "jv8c9A-v_Vaw",
        "outputId": "9af5b54c-6de4-429e-ab43-271428d6e2f1"
      },
      "execution_count": 34,
      "outputs": [
        {
          "output_type": "stream",
          "name": "stdout",
          "text": [
            "Final Weights :  [[0.32277442 0.7775416  0.10622468 0.5993509  0.89596631 0.42708616]]\n",
            "Final NRMSE :  1.120256475050676\n"
          ]
        }
      ]
    },
    {
      "cell_type": "markdown",
      "source": [
        "#Task 13 (a) : Training and validation NRMSE obtained using pseudo inverse with number of training samples"
      ],
      "metadata": {
        "id": "BKptOZ0nOfAB"
      }
    },
    {
      "cell_type": "code",
      "source": [
        "# Use the same weights and noise variance, but vary the number of training samples. But first, for each number of training samples, try new random seeds (say 11 to 21) to generate the training data. Have a good number of validation samples. What you are looking for is the mean and variance (spread) of NMRSE.\n",
        "import random\n",
        "import numpy as np\n",
        "import seaborn as sns\n",
        "\n",
        "featureDimension = 10\n",
        "weights = np.random.rand(1, featureDimension)\n",
        "bias = 1\n",
        "noise_variance = 0.25\n",
        "Lambda = 0\n",
        "\n",
        "def nrmse(mse, noise_variance):\n",
        "  return np.sqrt(mse) / np.sqrt(noise_variance)\n",
        "\n",
        "\n",
        "# Generating training datasets with different number of training samples\n",
        "random.seed(11)\n",
        "x1 = generateDataMatrix(100, featureDimension)\n",
        "\n",
        "random.seed(12)\n",
        "x2 = generateDataMatrix(200, featureDimension)\n",
        "\n",
        "random.seed(13)\n",
        "x3 = generateDataMatrix(300, featureDimension)\n",
        "\n",
        "random.seed(14)\n",
        "x4 = generateDataMatrix(400, featureDimension)\n",
        "\n",
        "random.seed(15)\n",
        "x5 = generateDataMatrix(500, featureDimension)\n",
        "\n",
        "random.seed(16)\n",
        "x6 = generateDataMatrix(600, featureDimension)\n",
        "\n",
        "random.seed(17)\n",
        "x7 = generateDataMatrix(700, featureDimension)\n",
        "\n",
        "random.seed(18)\n",
        "x8 = generateDataMatrix(800, featureDimension)\n",
        "\n",
        "random.seed(19)\n",
        "x9 = generateDataMatrix(900, featureDimension)\n",
        "\n",
        "random.seed(20)\n",
        "x10 = generateDataMatrix(1000, featureDimension)\n",
        "\n",
        "# Now I have generated 10 training datasets. Now I would be splitting each training dataset into a training and validation dataset on a 80-20 split-ratio.\n",
        "training_data1, validation_data1 = x1[:80,], x1[-20:,]\n",
        "t1 = generateTargetVector(training_data1, weights, bias, noise_variance)\n",
        "v1 = generateTargetVector(validation_data1, weights, bias, noise_variance)\n",
        "\n",
        "training_data2, validation_data2 = x2[:160,], x2[-40:,]\n",
        "t2 = generateTargetVector(training_data2, weights, bias, noise_variance)\n",
        "v2 = generateTargetVector(validation_data2, weights, bias, noise_variance)\n",
        "\n",
        "training_data3, validation_data3 = x3[:240,], x3[-60:,]\n",
        "t3 = generateTargetVector(training_data3, weights, bias, noise_variance)\n",
        "v3 = generateTargetVector(validation_data3, weights, bias, noise_variance)\n",
        "\n",
        "training_data4, validation_data4 = x4[:320,], x4[-80:,]\n",
        "t4 = generateTargetVector(training_data4, weights, bias, noise_variance)\n",
        "v4 = generateTargetVector(validation_data4, weights, bias, noise_variance)\n",
        "\n",
        "training_data5, validation_data5 = x5[:400,], x5[-100:,]\n",
        "t5 = generateTargetVector(training_data5, weights, bias, noise_variance)\n",
        "v5 = generateTargetVector(validation_data5, weights, bias, noise_variance)\n",
        "\n",
        "training_data6, validation_data6 = x6[:480,], x6[-120:,]\n",
        "t6 = generateTargetVector(training_data6, weights, bias, noise_variance)\n",
        "v6 = generateTargetVector(validation_data6, weights, bias, noise_variance)\n",
        "\n",
        "training_data7, validation_data7 = x7[:560,], x7[-140:,]\n",
        "t7 = generateTargetVector(training_data7, weights, bias, noise_variance)\n",
        "v7 = generateTargetVector(validation_data7, weights, bias, noise_variance)\n",
        "\n",
        "training_data8, validation_data8 = x8[:640,], x8[-160:,]\n",
        "t8 = generateTargetVector(training_data8, weights, bias, noise_variance)\n",
        "v8 = generateTargetVector(validation_data8, weights, bias, noise_variance)\n",
        "\n",
        "training_data9, validation_data9 = x9[:720,], x9[-180:,]\n",
        "t9 = generateTargetVector(training_data9, weights, bias, noise_variance)\n",
        "v9 = generateTargetVector(validation_data9, weights, bias, noise_variance)\n",
        "\n",
        "training_data10, validation_data10 = x10[:800,], x10[-200:,]\n",
        "t10 = generateTargetVector(training_data10, weights, bias, noise_variance)\n",
        "v10 = generateTargetVector(validation_data10, weights, bias, noise_variance)\n",
        "\n",
        "w_t1, mse_t1, y_t1 = estimateWeights(training_data1, t1, Lambda)\n",
        "w_t2, mse_t2, y_t2 = estimateWeights(training_data2, t2, Lambda)\n",
        "w_t3, mse_t3, y_t3 = estimateWeights(training_data3, t3, Lambda)\n",
        "w_t4, mse_t4, y_t4 = estimateWeights(training_data4, t4, Lambda)\n",
        "w_t5, mse_t5, y_t5 = estimateWeights(training_data5, t5, Lambda)\n",
        "w_t6, mse_t6, y_t6 = estimateWeights(training_data6, t6, Lambda)\n",
        "w_t7, mse_t7, y_t7 = estimateWeights(training_data7, t7, Lambda)\n",
        "w_t8, mse_t8, y_t8 = estimateWeights(training_data8, t8, Lambda)\n",
        "w_t9, mse_t9, y_t9 = estimateWeights(training_data9, t9, Lambda)\n",
        "w_t10, mse_t10, y_t10 = estimateWeights(training_data10, t10, Lambda)\n",
        "\n",
        "mse_v1 = computeMSE(computeLRestimate(validation_data1, w_t1), v1)\n",
        "mse_v2 = computeMSE(computeLRestimate(validation_data2, w_t2), v2)\n",
        "mse_v3 = computeMSE(computeLRestimate(validation_data3, w_t3), v3)\n",
        "mse_v4 = computeMSE(computeLRestimate(validation_data4, w_t4), v4)\n",
        "mse_v5 = computeMSE(computeLRestimate(validation_data5, w_t5), v5)\n",
        "mse_v6 = computeMSE(computeLRestimate(validation_data6, w_t6), v6)\n",
        "mse_v7 = computeMSE(computeLRestimate(validation_data7, w_t7), v7)\n",
        "mse_v8 = computeMSE(computeLRestimate(validation_data8, w_t8), v8)\n",
        "mse_v9 = computeMSE(computeLRestimate(validation_data9, w_t9), v9)\n",
        "mse_v10 = computeMSE(computeLRestimate(validation_data10, w_t10), v10)\n",
        "\n",
        "mse_t = np.array([mse_t1, mse_t2, mse_t3, mse_t4, mse_t5, mse_t6, mse_t7, mse_t8, mse_t9, mse_t10])\n",
        "mse_v = np.array([mse_v1, mse_v2, mse_v3, mse_v4, mse_v5, mse_v6, mse_v7, mse_v8, mse_v9, mse_v10])\n",
        "\n",
        "nrmse_t = nrmse(mse_t, noise_variance)\n",
        "nrmse_v = nrmse(mse_v, noise_variance)\n",
        "\n",
        "plot_arr = [nrmse_t, nrmse_v]\n",
        "sns.boxplot(data=plot_arr)\n"
      ],
      "metadata": {
        "colab": {
          "base_uri": "https://localhost:8080/",
          "height": 283
        },
        "id": "yM--HePPOeXo",
        "outputId": "3cd00ffc-f3c5-4339-8111-61f7ec0865fa"
      },
      "execution_count": null,
      "outputs": [
        {
          "output_type": "execute_result",
          "data": {
            "text/plain": [
              "<matplotlib.axes._subplots.AxesSubplot at 0x7f2283f53c40>"
            ]
          },
          "metadata": {},
          "execution_count": 18
        },
        {
          "output_type": "display_data",
          "data": {
            "text/plain": [
              "<Figure size 432x288 with 1 Axes>"
            ],
            "image/png": "[encoded data removed]"
          },
          "metadata": {
            "needs_background": "light"
          }
        }
      ]
    },
    {
      "cell_type": "markdown",
      "source": [
        "# Observations : \n",
        "\n",
        "1.   Spread of Validation_NRMSE > Spread of Training_NRMSE\n",
        "2.   Mean of Validation_NRMSE > Mean of Training_NRMSE\n",
        "\n",
        "# Potential Reason :    \n",
        "The validation_NRMSE error is generally higher than Training_NRMSE because the error is computed on an unknown dataset that the model hasn't seen.\n"
      ],
      "metadata": {
        "id": "cBVMZE1s1vm7"
      }
    },
    {
      "cell_type": "markdown",
      "source": [
        "#Task 13 (b) : Training and validation NRMSE obtained using pseudo inverse with number of variables"
      ],
      "metadata": {
        "id": "OivKyfmCPlKO"
      }
    },
    {
      "cell_type": "code",
      "source": [
        "import random\n",
        "import numpy as np\n",
        "import seaborn as sns\n",
        "\n",
        "NumberOfSamples = 1000\n",
        "bias = 1\n",
        "noise_variance = 0.25\n",
        "Lambda = 0\n",
        "\n",
        "def nrmse(mse, noise_variance):\n",
        "  return np.sqrt(mse) / np.sqrt(noise_variance)\n",
        "\n",
        "# Generating training datasets with different number of training samples\n",
        "random.seed(11)\n",
        "x1 = generateDataMatrix(NumberOfSamples, 5)\n",
        "w1 = np.random.rand(1, 5)\n",
        "\n",
        "random.seed(12)\n",
        "x2 = generateDataMatrix(NumberOfSamples, 7)\n",
        "w2 = np.random.rand(1, 7)\n",
        "\n",
        "random.seed(13)\n",
        "x3 = generateDataMatrix(NumberOfSamples, 9)\n",
        "w3 = np.random.rand(1, 9)\n",
        "\n",
        "random.seed(14)\n",
        "x4 = generateDataMatrix(NumberOfSamples, 11)\n",
        "w4 = np.random.rand(1, 11)\n",
        "\n",
        "random.seed(15)\n",
        "x5 = generateDataMatrix(NumberOfSamples, 13)\n",
        "w5 = np.random.rand(1, 13)\n",
        "\n",
        "random.seed(16)\n",
        "x6 = generateDataMatrix(NumberOfSamples, 15)\n",
        "w6 = np.random.rand(1, 15)\n",
        "\n",
        "random.seed(17)\n",
        "x7 = generateDataMatrix(NumberOfSamples, 17)\n",
        "w7 = np.random.rand(1, 17)\n",
        "\n",
        "random.seed(18)\n",
        "x8 = generateDataMatrix(NumberOfSamples, 19)\n",
        "w8 = np.random.rand(1, 19)\n",
        "\n",
        "random.seed(19)\n",
        "x9 = generateDataMatrix(NumberOfSamples, 21)\n",
        "w9 = np.random.rand(1, 21)\n",
        "\n",
        "random.seed(20)\n",
        "x10 = generateDataMatrix(NumberOfSamples, 23)\n",
        "w10 = np.random.rand(1, 23)\n",
        "\n",
        "# Now I have generated 10 training datasets. Now I would be splitting each training dataset into a training and validation dataset on a 80-20 split-ratio.\n",
        "training_data1, validation_data1 = x1[:800,], x1[-200:,]\n",
        "t1 = generateTargetVector(training_data1, w1, bias, noise_variance)\n",
        "v1 = generateTargetVector(validation_data1, w1, bias, noise_variance)\n",
        "\n",
        "training_data2, validation_data2 = x2[:800,], x2[-200:,]\n",
        "t2 = generateTargetVector(training_data2, w2, bias, noise_variance)\n",
        "v2 = generateTargetVector(validation_data2, w2, bias, noise_variance)\n",
        "\n",
        "training_data3, validation_data3 = x3[:800,], x3[-200:,]\n",
        "t3 = generateTargetVector(training_data3, w3, bias, noise_variance)\n",
        "v3 = generateTargetVector(validation_data3, w3, bias, noise_variance)\n",
        "\n",
        "training_data4, validation_data4 = x4[:800,], x4[-200:,]\n",
        "t4 = generateTargetVector(training_data4, w4, bias, noise_variance)\n",
        "v4 = generateTargetVector(validation_data4, w4, bias, noise_variance)\n",
        "\n",
        "training_data5, validation_data5 = x5[:800,], x5[-200:,]\n",
        "t5 = generateTargetVector(training_data5, w5, bias, noise_variance)\n",
        "v5 = generateTargetVector(validation_data5, w5, bias, noise_variance)\n",
        "\n",
        "training_data6, validation_data6 = x6[:800,], x6[-200:,]\n",
        "t6 = generateTargetVector(training_data6, w6, bias, noise_variance)\n",
        "v6 = generateTargetVector(validation_data6, w6, bias, noise_variance)\n",
        "\n",
        "training_data7, validation_data7 = x7[:800,], x7[-200:,]\n",
        "t7 = generateTargetVector(training_data7, w7, bias, noise_variance)\n",
        "v7 = generateTargetVector(validation_data7, w7, bias, noise_variance)\n",
        "\n",
        "training_data8, validation_data8 = x8[:800,], x8[-200:,]\n",
        "t8 = generateTargetVector(training_data8, w8, bias, noise_variance)\n",
        "v8 = generateTargetVector(validation_data8, w8, bias, noise_variance)\n",
        "\n",
        "training_data9, validation_data9 = x9[:800,], x9[-200:,]\n",
        "t9 = generateTargetVector(training_data9, w9, bias, noise_variance)\n",
        "v9 = generateTargetVector(validation_data9, w9, bias, noise_variance)\n",
        "\n",
        "training_data10, validation_data10 = x10[:800,], x10[-200:,]\n",
        "t10 = generateTargetVector(training_data10, w10, bias, noise_variance)\n",
        "v10 = generateTargetVector(validation_data10, w10, bias, noise_variance)\n",
        "\n",
        "w_t1, mse_t1, y_t1 = estimateWeights(training_data1, t1, Lambda)\n",
        "w_t2, mse_t2, y_t2 = estimateWeights(training_data2, t2, Lambda)\n",
        "w_t3, mse_t3, y_t3 = estimateWeights(training_data3, t3, Lambda)\n",
        "w_t4, mse_t4, y_t4 = estimateWeights(training_data4, t4, Lambda)\n",
        "w_t5, mse_t5, y_t5 = estimateWeights(training_data5, t5, Lambda)\n",
        "w_t6, mse_t6, y_t6 = estimateWeights(training_data6, t6, Lambda)\n",
        "w_t7, mse_t7, y_t7 = estimateWeights(training_data7, t7, Lambda)\n",
        "w_t8, mse_t8, y_t8 = estimateWeights(training_data8, t8, Lambda)\n",
        "w_t9, mse_t9, y_t9 = estimateWeights(training_data9, t9, Lambda)\n",
        "w_t10, mse_t10, y_t10 = estimateWeights(training_data10, t10, Lambda)\n",
        "\n",
        "mse_v1 = computeMSE(computeLRestimate(validation_data1, w_t1), v1)\n",
        "mse_v2 = computeMSE(computeLRestimate(validation_data2, w_t2), v2)\n",
        "mse_v3 = computeMSE(computeLRestimate(validation_data3, w_t3), v3)\n",
        "mse_v4 = computeMSE(computeLRestimate(validation_data4, w_t4), v4)\n",
        "mse_v5 = computeMSE(computeLRestimate(validation_data5, w_t5), v5)\n",
        "mse_v6 = computeMSE(computeLRestimate(validation_data6, w_t6), v6)\n",
        "mse_v7 = computeMSE(computeLRestimate(validation_data7, w_t7), v7)\n",
        "mse_v8 = computeMSE(computeLRestimate(validation_data8, w_t8), v8)\n",
        "mse_v9 = computeMSE(computeLRestimate(validation_data9, w_t9), v9)\n",
        "mse_v10 = computeMSE(computeLRestimate(validation_data10, w_t10), v10)\n",
        "\n",
        "mse_t = np.array([mse_t1, mse_t2, mse_t3, mse_t4, mse_t5, mse_t6, mse_t7, mse_t8, mse_t9, mse_t10])\n",
        "mse_v = np.array([mse_v1, mse_v2, mse_v3, mse_v4, mse_v5, mse_v6, mse_v7, mse_v8, mse_v9, mse_v10])\n",
        "\n",
        "nrmse_t = nrmse(mse_t, noise_variance)\n",
        "nrmse_v = nrmse(mse_v, noise_variance)\n",
        "\n",
        "plot_arr = [nrmse_t, nrmse_v]\n",
        "sns.boxplot(data=plot_arr)\n"
      ],
      "metadata": {
        "colab": {
          "base_uri": "https://localhost:8080/",
          "height": 283
        },
        "id": "NdZ947xcTdrR",
        "outputId": "9951c42a-b6e8-4a09-ec19-054472437c44"
      },
      "execution_count": null,
      "outputs": [
        {
          "output_type": "execute_result",
          "data": {
            "text/plain": [
              "<matplotlib.axes._subplots.AxesSubplot at 0x7f2284145670>"
            ]
          },
          "metadata": {},
          "execution_count": 20
        },
        {
          "output_type": "display_data",
          "data": {
            "text/plain": [
              "<Figure size 432x288 with 1 Axes>"
            ],
            "image/png": "[encoded data removed]"
          },
          "metadata": {
            "needs_background": "light"
          }
        }
      ]
    },
    {
      "cell_type": "markdown",
      "source": [
        "# Observations : \n",
        "\n",
        "1.   Spread of Validation_NRMSE > Spread of Training_NRMSE\n",
        "2.   Mean of Validation_NRMSE > Mean of Training_NRMSE\n",
        "\n",
        "# Potential Reason :    \n",
        "The validation_NRMSE error is generally higher than Training_NRMSE because the error is computed on an unknown dataset that the model hasn't seen."
      ],
      "metadata": {
        "id": "6oQkxUk34HjD"
      }
    },
    {
      "cell_type": "markdown",
      "source": [
        "#Task 13 (c) : Training and validation NRMSE obtained using pseudo inverse with noise variance"
      ],
      "metadata": {
        "id": "7QPF1LsoV61Z"
      }
    },
    {
      "cell_type": "code",
      "source": [
        "# noise_variance range -> [1, 20]\n",
        "# std_dev range -> [1, sqrt(20)]\n",
        "\n",
        "import random\n",
        "import numpy as np\n",
        "import seaborn as sns\n",
        "\n",
        "NumberOfSamples = 1000\n",
        "FeatureDimension = 15\n",
        "w = np.random.rand(1, FeatureDimension)\n",
        "bias = 1\n",
        "Lambda = 0\n",
        "\n",
        "def nrmse(mse, noise_variance):\n",
        "  return np.sqrt(mse) / np.sqrt(noise_variance)\n",
        "\n",
        "# Generating training datasets with different number of training samples\n",
        "random.seed(11)\n",
        "x1 = generateDataMatrix(NumberOfSamples, FeatureDimension)\n",
        "\n",
        "random.seed(12)\n",
        "x2 = generateDataMatrix(NumberOfSamples, FeatureDimension)\n",
        "\n",
        "random.seed(13)\n",
        "x3 = generateDataMatrix(NumberOfSamples, FeatureDimension)\n",
        "\n",
        "random.seed(14)\n",
        "x4 = generateDataMatrix(NumberOfSamples, FeatureDimension)\n",
        "\n",
        "random.seed(15)\n",
        "x5 = generateDataMatrix(NumberOfSamples, FeatureDimension)\n",
        "\n",
        "random.seed(16)\n",
        "x6 = generateDataMatrix(NumberOfSamples, FeatureDimension)\n",
        "\n",
        "random.seed(17)\n",
        "x7 = generateDataMatrix(NumberOfSamples, FeatureDimension)\n",
        "\n",
        "random.seed(18)\n",
        "x8 = generateDataMatrix(NumberOfSamples, FeatureDimension)\n",
        "\n",
        "random.seed(19)\n",
        "x9 = generateDataMatrix(NumberOfSamples, FeatureDimension)\n",
        "\n",
        "random.seed(20)\n",
        "x10 = generateDataMatrix(NumberOfSamples, FeatureDimension)\n",
        "\n",
        "# Now I have generated 10 training datasets. Now I would be splitting each training dataset into a training and validation dataset on a 80-20 split-ratio.\n",
        "training_data1, validation_data1 = x1[:800,], x1[-200:,]\n",
        "t1 = generateTargetVector(training_data1, w, bias, 1)\n",
        "v1 = generateTargetVector(validation_data1, w, bias, 1)\n",
        "\n",
        "training_data2, validation_data2 = x2[:800,], x2[-200:,]\n",
        "t2 = generateTargetVector(training_data2, w, bias, 3)\n",
        "v2 = generateTargetVector(validation_data2, w, bias, 3)\n",
        "\n",
        "training_data3, validation_data3 = x3[:800,], x3[-200:,]\n",
        "t3 = generateTargetVector(training_data3, w, bias, 5)\n",
        "v3 = generateTargetVector(validation_data3, w, bias, 5)\n",
        "\n",
        "training_data4, validation_data4 = x4[:800,], x4[-200:,]\n",
        "t4 = generateTargetVector(training_data4, w, bias, 7)\n",
        "v4 = generateTargetVector(validation_data4, w, bias, 7)\n",
        "\n",
        "training_data5, validation_data5 = x5[:800,], x5[-200:,]\n",
        "t5 = generateTargetVector(training_data5, w, bias, 9)\n",
        "v5 = generateTargetVector(validation_data5, w, bias, 9)\n",
        "\n",
        "training_data6, validation_data6 = x6[:800,], x6[-200:,]\n",
        "t6 = generateTargetVector(training_data6, w, bias, 11)\n",
        "v6 = generateTargetVector(validation_data6, w, bias, 11)\n",
        "\n",
        "training_data7, validation_data7 = x7[:800,], x7[-200:,]\n",
        "t7 = generateTargetVector(training_data7, w, bias, 13)\n",
        "v7 = generateTargetVector(validation_data7, w, bias, 13)\n",
        "\n",
        "training_data8, validation_data8 = x8[:800,], x8[-200:,]\n",
        "t8 = generateTargetVector(training_data8, w, bias, 15)\n",
        "v8 = generateTargetVector(validation_data8, w, bias, 15)\n",
        "\n",
        "training_data9, validation_data9 = x9[:800,], x9[-200:,]\n",
        "t9 = generateTargetVector(training_data9, w, bias, 17)\n",
        "v9 = generateTargetVector(validation_data9, w, bias, 17)\n",
        "\n",
        "training_data10, validation_data10 = x10[:800,], x10[-200:,]\n",
        "t10 = generateTargetVector(training_data10, w, bias, 19)\n",
        "v10 = generateTargetVector(validation_data10, w, bias, 19)\n",
        "\n",
        "w_t1, mse_t1, y_t1 = estimateWeights(training_data1, t1, Lambda)\n",
        "w_t2, mse_t2, y_t2 = estimateWeights(training_data2, t2, Lambda)\n",
        "w_t3, mse_t3, y_t3 = estimateWeights(training_data3, t3, Lambda)\n",
        "w_t4, mse_t4, y_t4 = estimateWeights(training_data4, t4, Lambda)\n",
        "w_t5, mse_t5, y_t5 = estimateWeights(training_data5, t5, Lambda)\n",
        "w_t6, mse_t6, y_t6 = estimateWeights(training_data6, t6, Lambda)\n",
        "w_t7, mse_t7, y_t7 = estimateWeights(training_data7, t7, Lambda)\n",
        "w_t8, mse_t8, y_t8 = estimateWeights(training_data8, t8, Lambda)\n",
        "w_t9, mse_t9, y_t9 = estimateWeights(training_data9, t9, Lambda)\n",
        "w_t10, mse_t10, y_t10 = estimateWeights(training_data10, t10, Lambda)\n",
        "\n",
        "mse_v1 = computeMSE(computeLRestimate(validation_data1, w_t1), v1)\n",
        "mse_v2 = computeMSE(computeLRestimate(validation_data2, w_t2), v2)\n",
        "mse_v3 = computeMSE(computeLRestimate(validation_data3, w_t3), v3)\n",
        "mse_v4 = computeMSE(computeLRestimate(validation_data4, w_t4), v4)\n",
        "mse_v5 = computeMSE(computeLRestimate(validation_data5, w_t5), v5)\n",
        "mse_v6 = computeMSE(computeLRestimate(validation_data6, w_t6), v6)\n",
        "mse_v7 = computeMSE(computeLRestimate(validation_data7, w_t7), v7)\n",
        "mse_v8 = computeMSE(computeLRestimate(validation_data8, w_t8), v8)\n",
        "mse_v9 = computeMSE(computeLRestimate(validation_data9, w_t9), v9)\n",
        "mse_v10 = computeMSE(computeLRestimate(validation_data10, w_t10), v10)\n",
        "\n",
        "mse_t = np.array([mse_t1, mse_t2, mse_t3, mse_t4, mse_t5, mse_t6, mse_t7, mse_t8, mse_t9, mse_t10])\n",
        "mse_v = np.array([mse_v1, mse_v2, mse_v3, mse_v4, mse_v5, mse_v6, mse_v7, mse_v8, mse_v9, mse_v10])\n",
        "\n",
        "nrmse_t = nrmse(mse_t, noise_variance)\n",
        "nrmse_v = nrmse(mse_v, noise_variance)\n",
        "\n",
        "plot_arr = [nrmse_t, nrmse_v]\n",
        "sns.boxplot(data=plot_arr)"
      ],
      "metadata": {
        "colab": {
          "base_uri": "https://localhost:8080/",
          "height": 283
        },
        "id": "eEK6fqHQWPPF",
        "outputId": "90c112b5-7656-412d-bb58-f0d0ae0970e9"
      },
      "execution_count": null,
      "outputs": [
        {
          "output_type": "execute_result",
          "data": {
            "text/plain": [
              "<matplotlib.axes._subplots.AxesSubplot at 0x7f22814f5070>"
            ]
          },
          "metadata": {},
          "execution_count": 23
        },
        {
          "output_type": "display_data",
          "data": {
            "text/plain": [
              "<Figure size 432x288 with 1 Axes>"
            ],
            "image/png": "[encoded data removed]"
          },
          "metadata": {
            "needs_background": "light"
          }
        }
      ]
    },
    {
      "cell_type": "markdown",
      "source": [
        "# Observations : \n",
        "\n",
        "1.   Validation_NRMSE in part (c) > Validation_NRMSE in part (a)\n",
        "2.   Validation_NRMSE in part (c) > Validation_NRMSE in part (b)\n",
        "3. Training_NRMSE in part (c) > Training_NRMSE in part (a)\n",
        "4.   Training_NRMSE in part (c) > Training_NRMSE in part (b)\n",
        "\n",
        "# Potential Reason :    \n",
        "The increase in Validation_NRMSE can be because of the variance of the noise present in the target vector due to which it is becoming difficult for the model to generalize over unseen data.\n",
        "\n",
        "The increase in Training_NRMSE can be because of the variance of the noise present in the target vector due to which it is becoming difficult for the model to fit over training data."
      ],
      "metadata": {
        "id": "LEu2k-vl4n0y"
      }
    },
    {
      "cell_type": "markdown",
      "source": [
        "#Task 13 (d) : Training and validation NRMSE obtained using pseudo inverse with w0 i.e. the bias term"
      ],
      "metadata": {
        "id": "egEH189JZFQ_"
      }
    },
    {
      "cell_type": "code",
      "source": [
        "import random\n",
        "import numpy as np\n",
        "import seaborn as sns\n",
        "\n",
        "NumberOfSamples = 1000\n",
        "FeatureDimension = 15\n",
        "w = np.random.rand(1, FeatureDimension)\n",
        "noise_variance = 0.25\n",
        "Lambda = 0\n",
        "\n",
        "def nrmse(mse, noise_variance):\n",
        "  return np.sqrt(mse) / np.sqrt(noise_variance)\n",
        "\n",
        "# Generating training datasets with different number of training samples\n",
        "random.seed(11)\n",
        "x1 = generateDataMatrix(NumberOfSamples, FeatureDimension)\n",
        "b1 = np.random.randn()\n",
        "\n",
        "random.seed(12)\n",
        "x2 = generateDataMatrix(NumberOfSamples, FeatureDimension)\n",
        "b2 = np.random.randn()\n",
        "\n",
        "random.seed(13)\n",
        "x3 = generateDataMatrix(NumberOfSamples, FeatureDimension)\n",
        "b3 = np.random.randn()\n",
        "\n",
        "random.seed(14)\n",
        "x4 = generateDataMatrix(NumberOfSamples, FeatureDimension)\n",
        "b4 = np.random.randn()\n",
        "\n",
        "random.seed(15)\n",
        "x5 = generateDataMatrix(NumberOfSamples, FeatureDimension)\n",
        "b5 = np.random.randn()\n",
        "\n",
        "random.seed(16)\n",
        "x6 = generateDataMatrix(NumberOfSamples, FeatureDimension)\n",
        "b6 = np.random.randn()\n",
        "\n",
        "random.seed(17)\n",
        "x7 = generateDataMatrix(NumberOfSamples, FeatureDimension)\n",
        "b7 = np.random.randn()\n",
        "\n",
        "random.seed(18)\n",
        "x8 = generateDataMatrix(NumberOfSamples, FeatureDimension)\n",
        "b8 = np.random.randn()\n",
        "\n",
        "random.seed(19)\n",
        "x9 = generateDataMatrix(NumberOfSamples, FeatureDimension)\n",
        "b9 = np.random.randn()\n",
        "\n",
        "random.seed(20)\n",
        "x10 = generateDataMatrix(NumberOfSamples, FeatureDimension)\n",
        "b10 = np.random.randn()\n",
        "\n",
        "# Now I have generated 10 training datasets. Now I would be splitting each training dataset into a training and validation dataset on a 80-20 split-ratio.\n",
        "training_data1, validation_data1 = x1[:800,], x1[-200:,]\n",
        "t1 = generateTargetVector(training_data1, w, b1, noise_variance)\n",
        "v1 = generateTargetVector(validation_data1, w, b1, noise_variance)\n",
        "\n",
        "training_data2, validation_data2 = x2[:800,], x2[-200:,]\n",
        "t2 = generateTargetVector(training_data2, w, b2, noise_variance)\n",
        "v2 = generateTargetVector(validation_data2, w, b2, noise_variance)\n",
        "\n",
        "training_data3, validation_data3 = x3[:800,], x3[-200:,]\n",
        "t3 = generateTargetVector(training_data3, w, b3, noise_variance)\n",
        "v3 = generateTargetVector(validation_data3, w, b3, noise_variance)\n",
        "\n",
        "training_data4, validation_data4 = x4[:800,], x4[-200:,]\n",
        "t4 = generateTargetVector(training_data4, w, b4, noise_variance)\n",
        "v4 = generateTargetVector(validation_data4, w, b4, noise_variance)\n",
        "\n",
        "training_data5, validation_data5 = x5[:800,], x5[-200:,]\n",
        "t5 = generateTargetVector(training_data5, w, b5, noise_variance)\n",
        "v5 = generateTargetVector(validation_data5, w, b6, noise_variance)\n",
        "\n",
        "training_data6, validation_data6 = x6[:800,], x6[-200:,]\n",
        "t6 = generateTargetVector(training_data6, w, b6, noise_variance)\n",
        "v6 = generateTargetVector(validation_data6, w, b6, noise_variance)\n",
        "\n",
        "training_data7, validation_data7 = x7[:800,], x7[-200:,]\n",
        "t7 = generateTargetVector(training_data7, w, b7, noise_variance)\n",
        "v7 = generateTargetVector(validation_data7, w, b7, noise_variance)\n",
        "\n",
        "training_data8, validation_data8 = x8[:800,], x8[-200:,]\n",
        "t8 = generateTargetVector(training_data8, w, b8, noise_variance)\n",
        "v8 = generateTargetVector(validation_data8, w, b8, noise_variance)\n",
        "\n",
        "training_data9, validation_data9 = x9[:800,], x9[-200:,]\n",
        "t9 = generateTargetVector(training_data9, w, b9, noise_variance)\n",
        "v9 = generateTargetVector(validation_data9, w, b9, noise_variance)\n",
        "\n",
        "training_data10, validation_data10 = x10[:800,], x10[-200:,]\n",
        "t10 = generateTargetVector(training_data10, w, b10, noise_variance)\n",
        "v10 = generateTargetVector(validation_data10, w, b10, noise_variance)\n",
        "\n",
        "w_t1, mse_t1, y_t1 = estimateWeights(training_data1, t1, Lambda)\n",
        "w_t2, mse_t2, y_t2 = estimateWeights(training_data2, t2, Lambda)\n",
        "w_t3, mse_t3, y_t3 = estimateWeights(training_data3, t3, Lambda)\n",
        "w_t4, mse_t4, y_t4 = estimateWeights(training_data4, t4, Lambda)\n",
        "w_t5, mse_t5, y_t5 = estimateWeights(training_data5, t5, Lambda)\n",
        "w_t6, mse_t6, y_t6 = estimateWeights(training_data6, t6, Lambda)\n",
        "w_t7, mse_t7, y_t7 = estimateWeights(training_data7, t7, Lambda)\n",
        "w_t8, mse_t8, y_t8 = estimateWeights(training_data8, t8, Lambda)\n",
        "w_t9, mse_t9, y_t9 = estimateWeights(training_data9, t9, Lambda)\n",
        "w_t10, mse_t10, y_t10 = estimateWeights(training_data10, t10, Lambda)\n",
        "\n",
        "mse_v1 = computeMSE(computeLRestimate(validation_data1, w_t1), v1)\n",
        "mse_v2 = computeMSE(computeLRestimate(validation_data2, w_t2), v2)\n",
        "mse_v3 = computeMSE(computeLRestimate(validation_data3, w_t3), v3)\n",
        "mse_v4 = computeMSE(computeLRestimate(validation_data4, w_t4), v4)\n",
        "mse_v5 = computeMSE(computeLRestimate(validation_data5, w_t5), v5)\n",
        "mse_v6 = computeMSE(computeLRestimate(validation_data6, w_t6), v6)\n",
        "mse_v7 = computeMSE(computeLRestimate(validation_data7, w_t7), v7)\n",
        "mse_v8 = computeMSE(computeLRestimate(validation_data8, w_t8), v8)\n",
        "mse_v9 = computeMSE(computeLRestimate(validation_data9, w_t9), v9)\n",
        "mse_v10 = computeMSE(computeLRestimate(validation_data10, w_t10), v10)\n",
        "\n",
        "mse_t = np.array([mse_t1, mse_t2, mse_t3, mse_t4, mse_t5, mse_t6, mse_t7, mse_t8, mse_t9, mse_t10])\n",
        "mse_v = np.array([mse_v1, mse_v2, mse_v3, mse_v4, mse_v5, mse_v6, mse_v7, mse_v8, mse_v9, mse_v10])\n",
        "\n",
        "nrmse_t = nrmse(mse_t, noise_variance)\n",
        "nrmse_v = nrmse(mse_v, noise_variance)\n",
        "\n",
        "plot_arr = [nrmse_t, nrmse_v]\n",
        "sns.boxplot(data=plot_arr)"
      ],
      "metadata": {
        "colab": {
          "base_uri": "https://localhost:8080/",
          "height": 283
        },
        "id": "1NQqO7xRZEOC",
        "outputId": "eab44d50-b2f7-4d1d-c03b-77e90e5d9587"
      },
      "execution_count": null,
      "outputs": [
        {
          "output_type": "execute_result",
          "data": {
            "text/plain": [
              "<matplotlib.axes._subplots.AxesSubplot at 0x7fcb1b822220>"
            ]
          },
          "metadata": {},
          "execution_count": 77
        },
        {
          "output_type": "display_data",
          "data": {
            "text/plain": [
              "<Figure size 432x288 with 1 Axes>"
            ],
            "image/png": "[encoded data removed]"
          },
          "metadata": {
            "needs_background": "light"
          }
        }
      ]
    },
    {
      "cell_type": "markdown",
      "source": [
        "# Observations : \n",
        "\n",
        "1.   We can notice 1 outlier each for both the classes i.e. (Training_NRMSE and Validation_NRMSE)\n",
        "2.   Spread for Validation_NRMSE > Spread for Training_NRMSE\n",
        "3. Upon comparing with the Validation_NRMSE obtained for (a) and (b), the Validation_NRMSE obtained in this case is closer to 0.\n",
        "\n",
        "# Potential Reason :    \n",
        "The introduction of the bias term allows us to shift the hyperplane in an attempt to better fit the data without the risk of overfitting "
      ],
      "metadata": {
        "id": "u9WsHaEz6ui6"
      }
    },
    {
      "cell_type": "markdown",
      "source": [
        "#Task 13 (e) : Training and validation NRMSE obtained using pseudo inverse with lambda2"
      ],
      "metadata": {
        "id": "jRuopjQVbIpx"
      }
    },
    {
      "cell_type": "code",
      "source": [
        "import random\n",
        "import numpy as np\n",
        "import seaborn as sns\n",
        "\n",
        "NumberOfSamples = 1000\n",
        "FeatureDimension = 15\n",
        "w = np.random.rand(1, FeatureDimension)\n",
        "noise_variance = 0.25\n",
        "bias = 1\n",
        "\n",
        "def nrmse(mse, noise_variance):\n",
        "  return np.sqrt(mse) / np.sqrt(noise_variance)\n",
        "\n",
        "# Generating training datasets with different number of training samples\n",
        "random.seed(11)\n",
        "x1 = generateDataMatrix(NumberOfSamples, FeatureDimension)\n",
        "\n",
        "random.seed(12)\n",
        "x2 = generateDataMatrix(NumberOfSamples, FeatureDimension)\n",
        "\n",
        "random.seed(13)\n",
        "x3 = generateDataMatrix(NumberOfSamples, FeatureDimension)\n",
        "\n",
        "random.seed(14)\n",
        "x4 = generateDataMatrix(NumberOfSamples, FeatureDimension)\n",
        "\n",
        "random.seed(15)\n",
        "x5 = generateDataMatrix(NumberOfSamples, FeatureDimension)\n",
        "\n",
        "random.seed(16)\n",
        "x6 = generateDataMatrix(NumberOfSamples, FeatureDimension)\n",
        "\n",
        "random.seed(17)\n",
        "x7 = generateDataMatrix(NumberOfSamples, FeatureDimension)\n",
        "\n",
        "random.seed(18)\n",
        "x8 = generateDataMatrix(NumberOfSamples, FeatureDimension)\n",
        "\n",
        "random.seed(19)\n",
        "x9 = generateDataMatrix(NumberOfSamples, FeatureDimension)\n",
        "\n",
        "random.seed(20)\n",
        "x10 = generateDataMatrix(NumberOfSamples, FeatureDimension)\n",
        "\n",
        "# Now I have generated 10 training datasets. Now I would be splitting each training dataset into a training and validation dataset on a 80-20 split-ratio.\n",
        "training_data1, validation_data1 = x1[:800,], x1[-200:,]\n",
        "t1 = generateTargetVector(training_data1, w, bias, noise_variance)\n",
        "v1 = generateTargetVector(validation_data1, w, bias, noise_variance)\n",
        "\n",
        "training_data2, validation_data2 = x2[:800,], x2[-200:,]\n",
        "t2 = generateTargetVector(training_data2, w, bias, noise_variance)\n",
        "v2 = generateTargetVector(validation_data2, w, bias, noise_variance)\n",
        "\n",
        "training_data3, validation_data3 = x3[:800,], x3[-200:,]\n",
        "t3 = generateTargetVector(training_data3, w, bias, noise_variance)\n",
        "v3 = generateTargetVector(validation_data3, w, bias, noise_variance)\n",
        "\n",
        "training_data4, validation_data4 = x4[:800,], x4[-200:,]\n",
        "t4 = generateTargetVector(training_data4, w, bias, noise_variance)\n",
        "v4 = generateTargetVector(validation_data4, w, bias, noise_variance)\n",
        "\n",
        "training_data5, validation_data5 = x5[:800,], x5[-200:,]\n",
        "t5 = generateTargetVector(training_data5, w, bias, noise_variance)\n",
        "v5 = generateTargetVector(validation_data5, w, bias, noise_variance)\n",
        "\n",
        "training_data6, validation_data6 = x6[:800,], x6[-200:,]\n",
        "t6 = generateTargetVector(training_data6, w, bias, noise_variance)\n",
        "v6 = generateTargetVector(validation_data6, w, bias, noise_variance)\n",
        "\n",
        "training_data7, validation_data7 = x7[:800,], x7[-200:,]\n",
        "t7 = generateTargetVector(training_data7, w, bias, noise_variance)\n",
        "v7 = generateTargetVector(validation_data7, w, bias, noise_variance)\n",
        "\n",
        "training_data8, validation_data8 = x8[:800,], x8[-200:,]\n",
        "t8 = generateTargetVector(training_data8, w, bias, noise_variance)\n",
        "v8 = generateTargetVector(validation_data8, w, bias, noise_variance)\n",
        "\n",
        "training_data9, validation_data9 = x9[:800,], x9[-200:,]\n",
        "t9 = generateTargetVector(training_data9, w, bias, noise_variance)\n",
        "v9 = generateTargetVector(validation_data9, w, bias, noise_variance)\n",
        "\n",
        "training_data10, validation_data10 = x10[:800,], x10[-200:,]\n",
        "t10 = generateTargetVector(training_data10, w, bias, noise_variance)\n",
        "v10 = generateTargetVector(validation_data10, w, bias, noise_variance)\n",
        "\n",
        "w_t1, mse_t1, y_t1 = estimateWeights(training_data1, t1, 0.1)\n",
        "w_t2, mse_t2, y_t2 = estimateWeights(training_data2, t2, 0.2)\n",
        "w_t3, mse_t3, y_t3 = estimateWeights(training_data3, t3, 0.3)\n",
        "w_t4, mse_t4, y_t4 = estimateWeights(training_data4, t4, 0.4)\n",
        "w_t5, mse_t5, y_t5 = estimateWeights(training_data5, t5, 0.5)\n",
        "w_t6, mse_t6, y_t6 = estimateWeights(training_data6, t6, 0.6)\n",
        "w_t7, mse_t7, y_t7 = estimateWeights(training_data7, t7, 0.7)\n",
        "w_t8, mse_t8, y_t8 = estimateWeights(training_data8, t8, 0.8)\n",
        "w_t9, mse_t9, y_t9 = estimateWeights(training_data9, t9, 0.9)\n",
        "w_t10, mse_t10, y_t10 = estimateWeights(training_data10, t10, 1)\n",
        "\n",
        "mse_v1 = computeMSE(computeLRestimate(validation_data1, w_t1), v1)\n",
        "mse_v2 = computeMSE(computeLRestimate(validation_data2, w_t2), v2)\n",
        "mse_v3 = computeMSE(computeLRestimate(validation_data3, w_t3), v3)\n",
        "mse_v4 = computeMSE(computeLRestimate(validation_data4, w_t4), v4)\n",
        "mse_v5 = computeMSE(computeLRestimate(validation_data5, w_t5), v5)\n",
        "mse_v6 = computeMSE(computeLRestimate(validation_data6, w_t6), v6)\n",
        "mse_v7 = computeMSE(computeLRestimate(validation_data7, w_t7), v7)\n",
        "mse_v8 = computeMSE(computeLRestimate(validation_data8, w_t8), v8)\n",
        "mse_v9 = computeMSE(computeLRestimate(validation_data9, w_t9), v9)\n",
        "mse_v10 = computeMSE(computeLRestimate(validation_data10, w_t10), v10)\n",
        "\n",
        "mse_t = np.array([mse_t1, mse_t2, mse_t3, mse_t4, mse_t5, mse_t6, mse_t7, mse_t8, mse_t9, mse_t10])\n",
        "mse_v = np.array([mse_v1, mse_v2, mse_v3, mse_v4, mse_v5, mse_v6, mse_v7, mse_v8, mse_v9, mse_v10])\n",
        "\n",
        "nrmse_t = nrmse(mse_t, noise_variance)\n",
        "nrmse_v = nrmse(mse_v, noise_variance)\n",
        "\n",
        "plot_arr = [nrmse_t, nrmse_v]\n",
        "sns.boxplot(data=plot_arr)"
      ],
      "metadata": {
        "colab": {
          "base_uri": "https://localhost:8080/",
          "height": 283
        },
        "id": "BnzbxJbybRTG",
        "outputId": "d88b015a-07c8-4565-faa4-f0f4ae5da448"
      },
      "execution_count": null,
      "outputs": [
        {
          "output_type": "execute_result",
          "data": {
            "text/plain": [
              "<matplotlib.axes._subplots.AxesSubplot at 0x7fcb1bc6f100>"
            ]
          },
          "metadata": {},
          "execution_count": 9
        },
        {
          "output_type": "display_data",
          "data": {
            "text/plain": [
              "<Figure size 432x288 with 1 Axes>"
            ],
            "image/png": "[encoded data removed]"
          },
          "metadata": {
            "needs_background": "light"
          }
        }
      ]
    },
    {
      "cell_type": "markdown",
      "source": [
        "# Observations : \n",
        "\n",
        "1.   We can notice 3 outliers for class-1 i.e. (Validation_NRMSE)\n",
        "2.   Spread for Validation_NRMSE < Spread for Training_NRMSE\n",
        "3. Upon comparing with the Validation_NRMSE obtained for (a) and (b), the Validation_NRMSE obtained in this case is further away from 0.\n",
        "\n",
        "# Potential Reason :    \n",
        "The introduction of the regularization term makes sure that our model is not overfitting to the training data. This allows it to generalize better on unseen data. In this way, the L2 regularization deals with independent variables that are highly correlated by constricting the coefficient and keeping all the variables. \n"
      ],
      "metadata": {
        "id": "xfadc-lS8RkR"
      }
    },
    {
      "cell_type": "markdown",
      "source": [
        "#Task 13 (f) : Time taken to solve pseudo inverse with number of samples and number of variables and its breaking points\n"
      ],
      "metadata": {
        "id": "FuZR5Sm8arYS"
      }
    },
    {
      "cell_type": "code",
      "source": [
        "# Different number of samples in powers of 10\n",
        "\n",
        "import random\n",
        "import numpy as np\n",
        "import seaborn as sns\n",
        "import time\n",
        "import matplotlib.pyplot as plt\n",
        "\n",
        "featureDimension = 10\n",
        "weights = np.random.rand(1, featureDimension)\n",
        "bias = 1\n",
        "noise_variance = 0.25\n",
        "Lambda = 0\n",
        "\n",
        "def nrmse(mse, noise_variance):\n",
        "  return np.sqrt(mse) / np.sqrt(noise_variance)\n",
        "\n",
        "# Generating training datasets with different number of training samples\n",
        "random.seed(10)\n",
        "x1 = generateDataMatrix(10, featureDimension)\n",
        "t1 = generateTargetVector(x1, weights, bias, noise_variance)\n",
        "\n",
        "x2 = generateDataMatrix(100, featureDimension)\n",
        "t2 = generateTargetVector(x2, weights, bias, noise_variance)\n",
        "\n",
        "x3 = generateDataMatrix(1000, featureDimension)\n",
        "t3 = generateTargetVector(x3, weights, bias, noise_variance)\n",
        "\n",
        "x4 = generateDataMatrix(10000, featureDimension)\n",
        "t4 = generateTargetVector(x4, weights, bias, noise_variance)\n",
        "\n",
        "x5 = generateDataMatrix(100000, featureDimension)\n",
        "t5 = generateTargetVector(x5, weights, bias, noise_variance)\n",
        "\n",
        "x6 = generateDataMatrix(1000000, featureDimension)\n",
        "t6 = generateTargetVector(x6, weights, bias, noise_variance)\n",
        "\n",
        "x7 = generateDataMatrix(10000000, featureDimension)\n",
        "t7 = generateTargetVector(x7, weights, bias, noise_variance)\n",
        "\n",
        "\n",
        "time_samples = []\n",
        "\n",
        "start = time.time()\n",
        "w_t1, mse_t1, y_t1 = estimateWeights(x1, t1, Lambda)\n",
        "end = time.time()\n",
        "time_samples.append(end-start)\n",
        "\n",
        "start = time.time()\n",
        "w_t2, mse_t2, y_t2 = estimateWeights(x2, t2, Lambda)\n",
        "end = time.time()\n",
        "time_samples.append(end-start)\n",
        "\n",
        "start = time.time()\n",
        "w_t3, mse_t3, y_t3 = estimateWeights(x3, t3, Lambda)\n",
        "end = time.time()\n",
        "time_samples.append(end-start)\n",
        "\n",
        "start = time.time()\n",
        "w_t4, mse_t4, y_t4 = estimateWeights(x4, t4, Lambda)\n",
        "end = time.time()\n",
        "time_samples.append(end-start)\n",
        "\n",
        "start = time.time()\n",
        "w_t5, mse_t5, y_t5 = estimateWeights(x5, t5, Lambda)\n",
        "end = time.time()\n",
        "time_samples.append(end-start)\n",
        "\n",
        "start = time.time()\n",
        "w_t6, mse_t6, y_t6 = estimateWeights(x6, t6, Lambda)\n",
        "end = time.time()\n",
        "time_samples.append(end-start)\n",
        "\n",
        "start = time.time()\n",
        "w_t7, mse_t7, y_t7 = estimateWeights(x7, t7, Lambda)\n",
        "end = time.time()\n",
        "time_samples.append(end-start)\n",
        "\n",
        "time_samples = np.array(time_samples)\n",
        "n_samples = np.array([10, 100, 1000, 10000, 100000, 1000000, 10000000]) # Google Colab crashes when I use n_sample = 100000000\n",
        "\n",
        "plt.plot(n_samples, time_samples)\n",
        "plt.title(\"Time Taken for Pseudo Inverse v/s Number of Samples\")\n",
        "plt.xlabel(\"Number of Samples\")\n",
        "plt.ylabel(\"Time Taken for Pseudo Inverse\")"
      ],
      "metadata": {
        "colab": {
          "base_uri": "https://localhost:8080/",
          "height": 313
        },
        "id": "1O98H2MJazjc",
        "outputId": "bf35ada3-7a6b-489e-b879-d326cacb9296"
      },
      "execution_count": null,
      "outputs": [
        {
          "output_type": "execute_result",
          "data": {
            "text/plain": [
              "Text(0, 0.5, 'Time Taken for Pseudo Inverse')"
            ]
          },
          "metadata": {},
          "execution_count": 17
        },
        {
          "output_type": "display_data",
          "data": {
            "text/plain": [
              "<Figure size 432x288 with 1 Axes>"
            ],
            "image/png": "[encoded data removed]"
          },
          "metadata": {
            "needs_background": "light"
          }
        }
      ]
    },
    {
      "cell_type": "markdown",
      "source": [
        "# Observations : \n",
        "\n",
        "1.  The plot between Time Taken for Pseudo Inverse v/s Number of Samples is Linear\n",
        "2. The breaking point in terms of number of samples = 100000000\n",
        "\n",
        "# Potential Reason :    \n",
        "As the number of rows increase, computing the pseudo inverse of the matrix increases linearly\n",
        "The RAM of the virtual machine Google colab had assigned me crashes when the number of rows = number of samples = 100000000\n"
      ],
      "metadata": {
        "id": "ipO2kT9m9OLV"
      }
    },
    {
      "cell_type": "code",
      "source": [
        "# Different number of variables in powers of 10\n",
        "\n",
        "import random\n",
        "import numpy as np\n",
        "import seaborn as sns\n",
        "import time\n",
        "import matplotlib.pyplot as plt\n",
        "\n",
        "NumberOfSamples = 1000\n",
        "bias = 1\n",
        "noise_variance = 0.25\n",
        "Lambda = 0\n",
        "\n",
        "def nrmse(mse, noise_variance):\n",
        "  return np.sqrt(mse) / np.sqrt(noise_variance)\n",
        "\n",
        "# Generating training datasets with different number of training samples\n",
        "random.seed(11)\n",
        "x1 = generateDataMatrix(NumberOfSamples, 10)\n",
        "w1 = np.random.rand(1, np.shape(x1)[1])\n",
        "t1 = generateTargetVector(x1, w1, bias, noise_variance)\n",
        "\n",
        "x2 = generateDataMatrix(NumberOfSamples, 100)\n",
        "w2 = np.random.rand(1, np.shape(x2)[1])\n",
        "t2 = generateTargetVector(x2, w2, bias, noise_variance)\n",
        "\n",
        "x3 = generateDataMatrix(NumberOfSamples, 500)\n",
        "w3 = np.random.rand(1, np.shape(x3)[1])\n",
        "t3 = generateTargetVector(x3, w3, bias, noise_variance)\n",
        "\n",
        "x4 = generateDataMatrix(NumberOfSamples, 1000)\n",
        "w4 = np.random.rand(1, np.shape(x4)[1])\n",
        "t4 = generateTargetVector(x4, w4, bias, noise_variance)\n",
        "\n",
        "x5 = generateDataMatrix(NumberOfSamples, 2000)\n",
        "w5 = np.random.rand(1, np.shape(x5)[1])\n",
        "t5 = generateTargetVector(x5, w5, bias, noise_variance)\n",
        "\n",
        "x6 = generateDataMatrix(NumberOfSamples, 4000)\n",
        "w6 = np.random.rand(1, np.shape(x6)[1])\n",
        "t6 = generateTargetVector(x6, w6, bias, noise_variance)\n",
        "\n",
        "x7 = generateDataMatrix(NumberOfSamples, 5000)\n",
        "w7 = np.random.rand(1, np.shape(x7)[1])\n",
        "t7 = generateTargetVector(x7, w7, bias, noise_variance)\n",
        "\n",
        "x8 = generateDataMatrix(NumberOfSamples, 7000)\n",
        "w8 = np.random.rand(1, np.shape(x8)[1])\n",
        "t8 = generateTargetVector(x8, w8, bias, noise_variance)\n",
        "\n",
        "x9 = generateDataMatrix(NumberOfSamples, 9000)\n",
        "w9 = np.random.rand(1, np.shape(x9)[1])\n",
        "t9 = generateTargetVector(x9, w9, bias, noise_variance)\n",
        "\n",
        "x10 = generateDataMatrix(NumberOfSamples, 10000)\n",
        "w10 = np.random.rand(1, np.shape(x10)[1])\n",
        "t10 = generateTargetVector(x10, w10, bias, noise_variance)\n",
        "\n",
        "time_vars = []\n",
        "\n",
        "start = time.time()\n",
        "w_t1, mse_t1, y_t1 = estimateWeights(x1, t1, Lambda)\n",
        "end = time.time()\n",
        "time_vars.append(end-start)\n",
        "\n",
        "start = time.time()\n",
        "w_t2, mse_t2, y_t2 = estimateWeights(x2, t2, Lambda)\n",
        "end = time.time()\n",
        "time_vars.append(end-start)\n",
        "\n",
        "start = time.time()\n",
        "w_t3, mse_t3, y_t3 = estimateWeights(x3, t3, Lambda)\n",
        "end = time.time()\n",
        "time_vars.append(end-start)\n",
        "\n",
        "start = time.time()\n",
        "w_t4, mse_t4, y_t4 = estimateWeights(x4, t4, Lambda)\n",
        "end = time.time()\n",
        "time_vars.append(end-start)\n",
        "\n",
        "start = time.time()\n",
        "w_t5, mse_t5, y_t5 = estimateWeights(x5, t5, Lambda)\n",
        "end = time.time()\n",
        "time_vars.append(end-start)\n",
        "\n",
        "start = time.time()\n",
        "w_t6, mse_t6, y_t6 = estimateWeights(x6, t6, Lambda)\n",
        "end = time.time()\n",
        "time_vars.append(end-start)\n",
        "\n",
        "start = time.time()\n",
        "w_t7, mse_t7, y_t7 = estimateWeights(x7, t7, Lambda)\n",
        "end = time.time()\n",
        "time_vars.append(end-start)\n",
        "\n",
        "start = time.time()\n",
        "w_t8, mse_t8, y_t8 = estimateWeights(x8, t8, Lambda)\n",
        "end = time.time()\n",
        "time_vars.append(end-start)\n",
        "\n",
        "start = time.time()\n",
        "w_t9, mse_t9, y_t9 = estimateWeights(x9, t9, Lambda)\n",
        "end = time.time()\n",
        "time_vars.append(end-start)\n",
        "\n",
        "start = time.time()\n",
        "w_t10, mse_t10, y_t10 = estimateWeights(x10, t10, Lambda)\n",
        "end = time.time()\n",
        "time_vars.append(end-start)\n",
        "\n",
        "time_vars = np.array(time_vars)\n",
        "n_vars = np.array([10, 100, 500, 1000, 2000, 4000, 5000, 7000, 9000, 10000]) # Google Colab crashes when I use n_vars = 100000\n",
        "\n",
        "plt.plot(n_vars, time_vars)\n",
        "plt.title(\"Time Taken for Pseudo Inverse v/s Number of Variables\")\n",
        "plt.xlabel(\"Number of Variables\")\n",
        "plt.ylabel(\"Time Taken for Pseudo Inverse\")"
      ],
      "metadata": {
        "id": "DDF35xuoUL_e",
        "colab": {
          "base_uri": "https://localhost:8080/",
          "height": 313
        },
        "outputId": "74617d20-8051-4d83-d6a5-a12b3ba1f89d"
      },
      "execution_count": 157,
      "outputs": [
        {
          "output_type": "execute_result",
          "data": {
            "text/plain": [
              "Text(0, 0.5, 'Time Taken for Pseudo Inverse')"
            ]
          },
          "metadata": {},
          "execution_count": 157
        },
        {
          "output_type": "display_data",
          "data": {
            "text/plain": [
              "<Figure size 432x288 with 1 Axes>"
            ],
            "image/png": "[encoded data removed]"
          },
          "metadata": {
            "needs_background": "light"
          }
        }
      ]
    },
    {
      "cell_type": "markdown",
      "source": [
        "# Observations : \n",
        "\n",
        "1.  The plot between Time Taken for Pseudo Inverse v/s Number of Variables is Exponential\n",
        "2. The breaking point in terms of number of samples = 100000\n",
        "\n",
        "# Potential Reason :    \n",
        "As the number of columns increase, computing the pseudo inverse of the matrix increases exponentially.\n",
        "The RAM of the virtual machine Google colab had assigned me crashes when the number of columns = number of variables = 100000"
      ],
      "metadata": {
        "id": "yQ5q_By3-U92"
      }
    },
    {
      "cell_type": "markdown",
      "source": [
        "#Task 13 (g) : Training and validation NRMSE obtained using gradient descent with max_iter"
      ],
      "metadata": {
        "id": "lBzO4709bGCG"
      }
    },
    {
      "cell_type": "code",
      "source": [
        "# Now, we will vary the value of max_iter from 10 to 10000000000\n",
        "\n",
        "import random\n",
        "import numpy as np\n",
        "import seaborn as sns\n",
        "\n",
        "NumberOfSamples = 1000\n",
        "featureDimension = 10\n",
        "weights = np.random.rand(1, featureDimension) # w is kept fixed and it includes the bias term i.e. w_0\n",
        "bias = 1\n",
        "noise_variance = 0.25 # noise_var is kept fixed\n",
        "eta = 0.01 # learning rate is kept fixed\n",
        "epsilon = 0.5 # min_change_nrmse is kept fixed\n",
        "Lambda = 0\n",
        "\n",
        "def nrmse(mse, noise_variance):\n",
        "  return np.sqrt(mse) / np.sqrt(noise_variance)\n",
        "\n",
        "# Generating training datasets with different number of training samples\n",
        "random.seed(11)\n",
        "x1 = generateDataMatrix(NumberOfSamples, featureDimension)\n",
        "\n",
        "random.seed(12)\n",
        "x2 = generateDataMatrix(NumberOfSamples, featureDimension)\n",
        "\n",
        "random.seed(13)\n",
        "x3 = generateDataMatrix(NumberOfSamples, featureDimension)\n",
        "\n",
        "random.seed(14)\n",
        "x4 = generateDataMatrix(NumberOfSamples, featureDimension)\n",
        "\n",
        "random.seed(15)\n",
        "x5 = generateDataMatrix(NumberOfSamples, featureDimension)\n",
        "\n",
        "random.seed(16)\n",
        "x6 = generateDataMatrix(NumberOfSamples, featureDimension)\n",
        "\n",
        "random.seed(17)\n",
        "x7 = generateDataMatrix(NumberOfSamples, featureDimension)\n",
        "\n",
        "random.seed(18)\n",
        "x8 = generateDataMatrix(NumberOfSamples, featureDimension)\n",
        "\n",
        "random.seed(19)\n",
        "x9 = generateDataMatrix(NumberOfSamples, featureDimension)\n",
        "\n",
        "random.seed(20)\n",
        "x10 = generateDataMatrix(NumberOfSamples, featureDimension)\n",
        "\n",
        "# Now I have generated 10 training datasets. Now I would be splitting each training dataset into a training and validation dataset on a 80-20 split-ratio.\n",
        "training_data1, validation_data1 = x1[:800,], x1[-200:,]\n",
        "t1 = generateTargetVector(training_data1, weights, bias, noise_variance)\n",
        "v1 = generateTargetVector(validation_data1, weights, bias, noise_variance)\n",
        "\n",
        "training_data2, validation_data2 = x2[:800,], x2[-200:,]\n",
        "t2 = generateTargetVector(training_data2, weights, bias, noise_variance)\n",
        "v2 = generateTargetVector(validation_data2, weights, bias, noise_variance)\n",
        "\n",
        "training_data3, validation_data3 = x3[:800,], x3[-200:,]\n",
        "t3 = generateTargetVector(training_data3, weights, bias, noise_variance)\n",
        "v3 = generateTargetVector(validation_data3, weights, bias, noise_variance)\n",
        "\n",
        "training_data4, validation_data4 = x4[:800,], x4[-200:,]\n",
        "t4 = generateTargetVector(training_data4, weights, bias, noise_variance)\n",
        "v4 = generateTargetVector(validation_data4, weights, bias, noise_variance)\n",
        "\n",
        "training_data5, validation_data5 = x5[:800,], x5[-200:,]\n",
        "t5 = generateTargetVector(training_data5, weights, bias, noise_variance)\n",
        "v5 = generateTargetVector(validation_data5, weights, bias, noise_variance)\n",
        "\n",
        "training_data6, validation_data6 = x6[:800,], x6[-200:,]\n",
        "t6 = generateTargetVector(training_data6, weights, bias, noise_variance)\n",
        "v6 = generateTargetVector(validation_data6, weights, bias, noise_variance)\n",
        "\n",
        "training_data7, validation_data7 = x7[:800,], x7[-200:,]\n",
        "t7 = generateTargetVector(training_data7, weights, bias, noise_variance)\n",
        "v7 = generateTargetVector(validation_data7, weights, bias, noise_variance)\n",
        "\n",
        "training_data8, validation_data8 = x8[:800,], x8[-200:,]\n",
        "t8 = generateTargetVector(training_data8, weights, bias, noise_variance)\n",
        "v8 = generateTargetVector(validation_data8, weights, bias, noise_variance)\n",
        "\n",
        "training_data9, validation_data9 = x9[:800,], x9[-200:,]\n",
        "t9 = generateTargetVector(training_data9, weights, bias, noise_variance)\n",
        "v9 = generateTargetVector(validation_data9, weights, bias, noise_variance)\n",
        "\n",
        "training_data10, validation_data10 = x10[:800,], x10[-200:,]\n",
        "t10 = generateTargetVector(training_data10, weights, bias, noise_variance)\n",
        "v10 = generateTargetVector(validation_data10, weights, bias, noise_variance)\n",
        "\n",
        "w_t1, nrmse_t1 = estimateLRweights(training_data1, t1, eta, 10, epsilon, 0, 0)\n",
        "w_t2, nrmse_t2 = estimateLRweights(training_data2, t2, eta, 100, epsilon, 0, 0)\n",
        "w_t3, nrmse_t3 = estimateLRweights(training_data3, t3, eta, 1000, epsilon, 0, 0)\n",
        "w_t4, nrmse_t4 = estimateLRweights(training_data4, t4, eta, 10000, epsilon, 0, 0)\n",
        "w_t5, nrmse_t5 = estimateLRweights(training_data5, t5, eta, 100000, epsilon, 0, 0)\n",
        "w_t6, nrmse_t6 = estimateLRweights(training_data6, t6, eta, 1000000, epsilon, 0, 0)\n",
        "w_t7, nrmse_t7 = estimateLRweights(training_data7, t7, eta, 10000000, epsilon, 0, 0)\n",
        "w_t8, nrmse_t8 = estimateLRweights(training_data8, t8, eta, 100000000, epsilon, 0, 0)\n",
        "w_t9, nrmse_t9 = estimateLRweights(training_data9, t9, eta, 1000000000, epsilon, 0, 0)\n",
        "w_t10, nrmse_t10 = estimateLRweights(training_data10, t10, eta, 10000000000, epsilon, 0, 0)\n",
        "\n",
        "mse_v1 = computeMSE(computeLRestimate(validation_data1, w_t1), v1)\n",
        "mse_v2 = computeMSE(computeLRestimate(validation_data2, w_t2), v2)\n",
        "mse_v3 = computeMSE(computeLRestimate(validation_data3, w_t3), v3)\n",
        "mse_v4 = computeMSE(computeLRestimate(validation_data4, w_t4), v4)\n",
        "mse_v5 = computeMSE(computeLRestimate(validation_data5, w_t5), v5)\n",
        "mse_v6 = computeMSE(computeLRestimate(validation_data6, w_t6), v6)\n",
        "mse_v7 = computeMSE(computeLRestimate(validation_data7, w_t7), v7)\n",
        "mse_v8 = computeMSE(computeLRestimate(validation_data8, w_t8), v8)\n",
        "mse_v9 = computeMSE(computeLRestimate(validation_data9, w_t9), v9)\n",
        "mse_v10 = computeMSE(computeLRestimate(validation_data10, w_t10), v10)\n",
        "\n",
        "nrmse_t = np.array([nrmse_t1, nrmse_t2, nrmse_t3, nrmse_t4, nrmse_t5, nrmse_t6, nrmse_t7, nrmse_t8, nrmse_t9, nrmse_t10])\n",
        "\n",
        "mse_v = np.array([mse_v1, mse_v2, mse_v3, mse_v4, mse_v5, mse_v6, mse_v7, mse_v8, mse_v9, mse_v10])\n",
        "nrmse_v = nrmse(mse_v, noise_variance)\n",
        "\n",
        "plot_arr = [nrmse_t, nrmse_v]\n",
        "sns.boxplot(data=plot_arr)"
      ],
      "metadata": {
        "colab": {
          "base_uri": "https://localhost:8080/",
          "height": 283
        },
        "id": "ZwdBNeBSbLO5",
        "outputId": "7579e392-d9ac-46cb-d8af-76bcd8c22fc0"
      },
      "execution_count": null,
      "outputs": [
        {
          "output_type": "execute_result",
          "data": {
            "text/plain": [
              "<matplotlib.axes._subplots.AxesSubplot at 0x7fcb1b736220>"
            ]
          },
          "metadata": {},
          "execution_count": 89
        },
        {
          "output_type": "display_data",
          "data": {
            "text/plain": [
              "<Figure size 432x288 with 1 Axes>"
            ],
            "image/png": "[encoded data removed]"
          },
          "metadata": {
            "needs_background": "light"
          }
        }
      ]
    },
    {
      "cell_type": "markdown",
      "source": [
        "# Observations : \n",
        "\n",
        "1.  Spread for Validation_NRMSE > Spread for Training_NRMSE\n",
        "2.  Mean for Validation_NRMSE > Mean for Training_NRMSE\n",
        "\n",
        "# Potential Reason :    \n",
        "As I am training the model on the training dataset for large number of iterations (by increasing max_iter and setting epsilon to 0), the model is possibly overfitting. Hence, it would not be able to generalize well on unseen data i.e. the validation dataset which also explains when the mean of the Validation_NRMSE > mean of theTraining_NRMSE"
      ],
      "metadata": {
        "id": "wjO7dXvV-v6e"
      }
    },
    {
      "cell_type": "markdown",
      "source": [
        "#Task 13 (h) : Training and validation NRMSE obtained using gradient descent with eta"
      ],
      "metadata": {
        "id": "24xy3iJq2bMh"
      }
    },
    {
      "cell_type": "code",
      "source": [
        "# Now, we will vary the value of eta from 1 to 0.000000001\n",
        "\n",
        "import random\n",
        "import numpy as np\n",
        "import seaborn as sns\n",
        "\n",
        "NumberOfSamples = 1000\n",
        "featureDimension = 10\n",
        "weights = np.random.rand(1, featureDimension) # w is kept fixed\n",
        "bias = 1 # bias is kept fixed\n",
        "noise_variance = 0.25 # noise_var is kept fixed\n",
        "max_iter = 1000 # max_iter is kept fixed\n",
        "epsilon = 0.5 # min_change_nrmse is kept fixed\n",
        "Lambda = 0\n",
        "\n",
        "def nrmse(mse, noise_variance):\n",
        "  return np.sqrt(mse) / np.sqrt(noise_variance)\n",
        "\n",
        "# Generating training datasets with different number of training samples\n",
        "random.seed(11)\n",
        "x1 = generateDataMatrix(NumberOfSamples, featureDimension)\n",
        "\n",
        "random.seed(12)\n",
        "x2 = generateDataMatrix(NumberOfSamples, featureDimension)\n",
        "\n",
        "random.seed(13)\n",
        "x3 = generateDataMatrix(NumberOfSamples, featureDimension)\n",
        "\n",
        "random.seed(14)\n",
        "x4 = generateDataMatrix(NumberOfSamples, featureDimension)\n",
        "\n",
        "random.seed(15)\n",
        "x5 = generateDataMatrix(NumberOfSamples, featureDimension)\n",
        "\n",
        "random.seed(16)\n",
        "x6 = generateDataMatrix(NumberOfSamples, featureDimension)\n",
        "\n",
        "random.seed(17)\n",
        "x7 = generateDataMatrix(NumberOfSamples, featureDimension)\n",
        "\n",
        "random.seed(18)\n",
        "x8 = generateDataMatrix(NumberOfSamples, featureDimension)\n",
        "\n",
        "random.seed(19)\n",
        "x9 = generateDataMatrix(NumberOfSamples, featureDimension)\n",
        "\n",
        "random.seed(20)\n",
        "x10 = generateDataMatrix(NumberOfSamples, featureDimension)\n",
        "\n",
        "# Now I have generated 10 training datasets. Now I would be splitting each training dataset into a training and validation dataset on a 80-20 split-ratio.\n",
        "training_data1, validation_data1 = x1[:800,], x1[-200:,]\n",
        "t1 = generateTargetVector(training_data1, weights, bias, noise_variance)\n",
        "v1 = generateTargetVector(validation_data1, weights, bias, noise_variance)\n",
        "\n",
        "training_data2, validation_data2 = x2[:800,], x2[-200:,]\n",
        "t2 = generateTargetVector(training_data2, weights, bias, noise_variance)\n",
        "v2 = generateTargetVector(validation_data2, weights, bias, noise_variance)\n",
        "\n",
        "training_data3, validation_data3 = x3[:800,], x3[-200:,]\n",
        "t3 = generateTargetVector(training_data3, weights, bias, noise_variance)\n",
        "v3 = generateTargetVector(validation_data3, weights, bias, noise_variance)\n",
        "\n",
        "training_data4, validation_data4 = x4[:800,], x4[-200:,]\n",
        "t4 = generateTargetVector(training_data4, weights, bias, noise_variance)\n",
        "v4 = generateTargetVector(validation_data4, weights, bias, noise_variance)\n",
        "\n",
        "training_data5, validation_data5 = x5[:800,], x5[-200:,]\n",
        "t5 = generateTargetVector(training_data5, weights, bias, noise_variance)\n",
        "v5 = generateTargetVector(validation_data5, weights, bias, noise_variance)\n",
        "\n",
        "training_data6, validation_data6 = x6[:800,], x6[-200:,]\n",
        "t6 = generateTargetVector(training_data6, weights, bias, noise_variance)\n",
        "v6 = generateTargetVector(validation_data6, weights, bias, noise_variance)\n",
        "\n",
        "training_data7, validation_data7 = x7[:800,], x7[-200:,]\n",
        "t7 = generateTargetVector(training_data7, weights, bias, noise_variance)\n",
        "v7 = generateTargetVector(validation_data7, weights, bias, noise_variance)\n",
        "\n",
        "training_data8, validation_data8 = x8[:800,], x8[-200:,]\n",
        "t8 = generateTargetVector(training_data8, weights, bias, noise_variance)\n",
        "v8 = generateTargetVector(validation_data8, weights, bias, noise_variance)\n",
        "\n",
        "training_data9, validation_data9 = x9[:800,], x9[-200:,]\n",
        "t9 = generateTargetVector(training_data9, weights, bias, noise_variance)\n",
        "v9 = generateTargetVector(validation_data9, weights, bias, noise_variance)\n",
        "\n",
        "training_data10, validation_data10 = x10[:800,], x10[-200:,]\n",
        "t10 = generateTargetVector(training_data10, weights, bias, noise_variance)\n",
        "v10 = generateTargetVector(validation_data10, weights, bias, noise_variance)\n",
        "\n",
        "w_t1, nrmse_t1 = estimateLRweights(training_data1, t1, 1, max_iter, epsilon, 0, 0)\n",
        "w_t2, nrmse_t2 = estimateLRweights(training_data2, t2, 0.1, max_iter, epsilon, 0, 0)\n",
        "w_t3, nrmse_t3 = estimateLRweights(training_data3, t3, 0.01, max_iter, epsilon, 0, 0)\n",
        "w_t4, nrmse_t4 = estimateLRweights(training_data4, t4, 0.001, max_iter, epsilon, 0, 0)\n",
        "w_t5, nrmse_t5 = estimateLRweights(training_data5, t5, 0.0001, max_iter, epsilon, 0, 0)\n",
        "w_t6, nrmse_t6 = estimateLRweights(training_data6, t6, 0.00001, max_iter, epsilon, 0, 0)\n",
        "w_t7, nrmse_t7 = estimateLRweights(training_data7, t7, 0.000001, max_iter, epsilon, 0, 0)\n",
        "w_t8, nrmse_t8 = estimateLRweights(training_data8, t8, 0.0000001, max_iter, epsilon, 0, 0)\n",
        "w_t9, nrmse_t9 = estimateLRweights(training_data9, t9, 0.00000001, max_iter, epsilon, 0, 0)\n",
        "w_t10, nrmse_t10 = estimateLRweights(training_data10, t10, 0.000000001, max_iter, epsilon, 0, 0)\n",
        "\n",
        "mse_v1 = computeMSE(computeLRestimate(validation_data1, w_t1), v1)\n",
        "mse_v2 = computeMSE(computeLRestimate(validation_data2, w_t2), v2)\n",
        "mse_v3 = computeMSE(computeLRestimate(validation_data3, w_t3), v3)\n",
        "mse_v4 = computeMSE(computeLRestimate(validation_data4, w_t4), v4)\n",
        "mse_v5 = computeMSE(computeLRestimate(validation_data5, w_t5), v5)\n",
        "mse_v6 = computeMSE(computeLRestimate(validation_data6, w_t6), v6)\n",
        "mse_v7 = computeMSE(computeLRestimate(validation_data7, w_t7), v7)\n",
        "mse_v8 = computeMSE(computeLRestimate(validation_data8, w_t8), v8)\n",
        "mse_v9 = computeMSE(computeLRestimate(validation_data9, w_t9), v9)\n",
        "mse_v10 = computeMSE(computeLRestimate(validation_data10, w_t10), v10)\n",
        "\n",
        "nrmse_t = np.array([nrmse_t1, nrmse_t2, nrmse_t3, nrmse_t4, nrmse_t5, nrmse_t6, nrmse_t7, nrmse_t8, nrmse_t9, nrmse_t10])\n",
        "\n",
        "mse_v = np.array([mse_v1, mse_v2, mse_v3, mse_v4, mse_v5, mse_v6, mse_v7, mse_v8, mse_v9, mse_v10])\n",
        "nrmse_v = nrmse(mse_v, noise_variance)\n",
        "\n",
        "plot_arr = [nrmse_t, nrmse_v]\n",
        "sns.boxplot(data=plot_arr)"
      ],
      "metadata": {
        "colab": {
          "base_uri": "https://localhost:8080/",
          "height": 283
        },
        "id": "HF-_UvK52iZG",
        "outputId": "897d585a-a446-477b-d555-1bca012df658"
      },
      "execution_count": 15,
      "outputs": [
        {
          "output_type": "execute_result",
          "data": {
            "text/plain": [
              "<matplotlib.axes._subplots.AxesSubplot at 0x7f11a18b95b0>"
            ]
          },
          "metadata": {},
          "execution_count": 15
        },
        {
          "output_type": "display_data",
          "data": {
            "text/plain": [
              "<Figure size 432x288 with 1 Axes>"
            ],
            "image/png": "[encoded data removed]"
          },
          "metadata": {
            "needs_background": "light"
          }
        }
      ]
    },
    {
      "cell_type": "markdown",
      "source": [
        "# Observations : \n",
        "1.  Mean for Validation_NRMSE > Mean for Training_NRMSE\n",
        "\n",
        "# Potential Reason :    \n",
        "A smaller learning rate makes the model converge slowly to the global minimum loss and hence would require more training epochs (more time to train) due to the smaller changes made to the weights in every update, whereas a larger learning rate would result in rapid changes and hence require fewer training epochs. However, if the learning rate is too large then it might not be ever able to converge to the global minimum loss and might keep oscillating about that point."
      ],
      "metadata": {
        "id": "zwxMh1bQ_05_"
      }
    },
    {
      "cell_type": "markdown",
      "source": [
        "# Task 13 (i) : Time taken to solve gradient descent with number of samples and number of variables and its breaking points"
      ],
      "metadata": {
        "id": "eO0--BhW4HLg"
      }
    },
    {
      "cell_type": "code",
      "source": [
        "# Keep max_iter fixed and eta -> small \n",
        "# Varying the number of samples\n",
        "\n",
        "import random\n",
        "import numpy as np\n",
        "import seaborn as sns\n",
        "import time\n",
        "import matplotlib.pyplot as plt\n",
        "\n",
        "featureDimension = 10\n",
        "weights = np.random.rand(1, featureDimension)\n",
        "bias = 1\n",
        "noise_variance = 0.25\n",
        "\n",
        "max_iter = 1000\n",
        "eta = 0.01\n",
        "epsilon = 0\n",
        "Lambda1 = 0\n",
        "Lambda2 = 0\n",
        "\n",
        "def nrmse(mse, noise_variance):\n",
        "  return np.sqrt(mse) / np.sqrt(noise_variance)\n",
        "\n",
        "# Generating training datasets with different number of training samples\n",
        "random.seed(10)\n",
        "x1 = generateDataMatrix(10, featureDimension)\n",
        "t1 = generateTargetVector(x1, weights, bias, noise_variance)\n",
        "\n",
        "x2 = generateDataMatrix(100, featureDimension)\n",
        "t2 = generateTargetVector(x2, weights, bias, noise_variance)\n",
        "\n",
        "x3 = generateDataMatrix(1000, featureDimension)\n",
        "t3 = generateTargetVector(x3, weights, bias, noise_variance)\n",
        "\n",
        "x4 = generateDataMatrix(10000, featureDimension)\n",
        "t4 = generateTargetVector(x4, weights, bias, noise_variance)\n",
        "\n",
        "x5 = generateDataMatrix(100000, featureDimension)\n",
        "t5 = generateTargetVector(x5, weights, bias, noise_variance)\n",
        "\n",
        "x6 = generateDataMatrix(1000000, featureDimension)\n",
        "t6 = generateTargetVector(x6, weights, bias, noise_variance)\n",
        "\n",
        "x7 = generateDataMatrix(10000000, featureDimension)\n",
        "t7 = generateTargetVector(x7, weights, bias, noise_variance)\n",
        "\n",
        "\n",
        "time_samples = []\n",
        "\n",
        "start = time.time()\n",
        "w_t1, nrmse_t1 = estimateLRweights(x1, t1, eta, max_iter, epsilon, 0, 0)\n",
        "end = time.time()\n",
        "time_samples.append(end-start)\n",
        "\n",
        "start = time.time()\n",
        "w_t2, nrmse_t2 = estimateLRweights(x2, t2, eta, max_iter, epsilon, 0, 0)\n",
        "end = time.time()\n",
        "time_samples.append(end-start)\n",
        "\n",
        "start = time.time()\n",
        "w_t3, nrmse_t3 = estimateLRweights(x3, t3, eta, max_iter, epsilon, 0, 0)\n",
        "end = time.time()\n",
        "time_samples.append(end-start)\n",
        "\n",
        "start = time.time()\n",
        "w_t4, nrmse_t4 = estimateLRweights(x4, t4, eta, max_iter, epsilon, 0, 0)\n",
        "end = time.time()\n",
        "time_samples.append(end-start)\n",
        "\n",
        "start = time.time()\n",
        "w_t5, nrmse_t5 = estimateLRweights(x5, t5, eta, max_iter, epsilon, 0, 0)\n",
        "end = time.time()\n",
        "time_samples.append(end-start)\n",
        "\n",
        "start = time.time()\n",
        "w_t6, nrmse_t6 = estimateLRweights(x6, t6, eta, max_iter, epsilon, 0, 0)\n",
        "end = time.time()\n",
        "time_samples.append(end-start)\n",
        "\n",
        "start = time.time()\n",
        "w_t7, nrmse_t7 = estimateLRweights(x7, t7, eta, max_iter, epsilon, 0, 0)\n",
        "end = time.time()\n",
        "time_samples.append(end-start)\n",
        "\n",
        "time_samples = np.array(time_samples)\n",
        "n_samples = np.array([10, 100, 1000, 10000, 100000, 1000000, 10000000]) # Google Colab crashes when I use n_sample = 100000000 => breaking point is 100000000\n",
        "\n",
        "plt.plot(n_samples, time_samples)\n",
        "plt.title(\"Time Taken for Gradient Descent v/s Number of Samples\")\n",
        "plt.xlabel(\"Number of Samples\")\n",
        "plt.ylabel(\"Time Taken for Gradient Descent\")\n"
      ],
      "metadata": {
        "id": "WxmGPj0H4P7a",
        "colab": {
          "base_uri": "https://localhost:8080/",
          "height": 313
        },
        "outputId": "3aa83a7e-eeb7-403b-d745-a0e0b0ae7a98"
      },
      "execution_count": 158,
      "outputs": [
        {
          "output_type": "execute_result",
          "data": {
            "text/plain": [
              "Text(0, 0.5, 'Time Taken for Gradient Descent')"
            ]
          },
          "metadata": {},
          "execution_count": 158
        },
        {
          "output_type": "display_data",
          "data": {
            "text/plain": [
              "<Figure size 432x288 with 1 Axes>"
            ],
            "image/png": "[encoded data removed]"
          },
          "metadata": {
            "needs_background": "light"
          }
        }
      ]
    },
    {
      "cell_type": "markdown",
      "source": [
        "# Observations : \n",
        "1.  The plot between Taken Taken for Gradient Descent v/s Number of Samples starts non-linearly but quickly becomes linear\n",
        "2. The breaking point observed in this case was for Number of Samples = 100000000\n",
        "\n",
        "# Potential Reason :    \n",
        "As the number of samples increase, performing gradient descent increases linearly.\n",
        "The RAM of the virtual machine Google colab had assigned me crashes when the number of rows = number of samples = 100000000"
      ],
      "metadata": {
        "id": "hhnsSrs0BN08"
      }
    },
    {
      "cell_type": "markdown",
      "source": [],
      "metadata": {
        "id": "VwGWNiqmBKwT"
      }
    },
    {
      "cell_type": "code",
      "source": [
        "# Keep max_iter fixed and eta -> small \n",
        "import random\n",
        "import numpy as np\n",
        "import seaborn as sns\n",
        "import time\n",
        "import matplotlib.pyplot as plt\n",
        "\n",
        "NumberOfSamples = 10\n",
        "bias = 1\n",
        "noise_variance = 0.25\n",
        "\n",
        "max_iter = 1000\n",
        "eta = 0.01\n",
        "epsilon = 0\n",
        "Lambda1 = 0\n",
        "Lambda2 = 0\n",
        "\n",
        "def nrmse(mse, noise_variance):\n",
        "  return np.sqrt(mse) / np.sqrt(noise_variance)\n",
        "\n",
        "# Generating training datasets with different number of training samples\n",
        "random.seed(10)\n",
        "x1 = generateDataMatrix(NumberOfSamples, 10)\n",
        "w1 = np.random.rand(1, np.shape(x1)[1])\n",
        "t1 = generateTargetVector(x1, w1, bias, noise_variance)\n",
        "\n",
        "x2 = generateDataMatrix(NumberOfSamples, 100)\n",
        "w2 = np.random.rand(1, np.shape(x2)[1])\n",
        "t2 = generateTargetVector(x2, w2, bias, noise_variance)\n",
        "\n",
        "x3 = generateDataMatrix(NumberOfSamples, 500)\n",
        "w3 = np.random.rand(1, np.shape(x3)[1])\n",
        "t3 = generateTargetVector(x3, w3, bias, noise_variance)\n",
        "\n",
        "x4 = generateDataMatrix(NumberOfSamples, 1000)\n",
        "w4 = np.random.rand(1, np.shape(x4)[1])\n",
        "t4 = generateTargetVector(x4, w4, bias, noise_variance)\n",
        "\n",
        "x5 = generateDataMatrix(NumberOfSamples, 2000)\n",
        "w5 = np.random.rand(1, np.shape(x5)[1])\n",
        "t5 = generateTargetVector(x5, w5, bias, noise_variance)\n",
        "\n",
        "x6 = generateDataMatrix(NumberOfSamples, 4000)\n",
        "w6 = np.random.rand(1, np.shape(x6)[1])\n",
        "t6 = generateTargetVector(x6, w6, bias, noise_variance)\n",
        "\n",
        "x7 = generateDataMatrix(NumberOfSamples, 5000)\n",
        "w7 = np.random.rand(1, np.shape(x7)[1])\n",
        "t7 = generateTargetVector(x7, w7, bias, noise_variance)\n",
        "\n",
        "x8 = generateDataMatrix(NumberOfSamples, 7000)\n",
        "w8 = np.random.rand(1, np.shape(x8)[1])\n",
        "t8 = generateTargetVector(x8, w8, bias, noise_variance)\n",
        "\n",
        "x9 = generateDataMatrix(NumberOfSamples, 9000)\n",
        "w9 = np.random.rand(1, np.shape(x9)[1])\n",
        "t9 = generateTargetVector(x9, w9, bias, noise_variance)\n",
        "\n",
        "x10 = generateDataMatrix(NumberOfSamples, 9000)\n",
        "w10 = np.random.rand(1, np.shape(x10)[1])\n",
        "t10 = generateTargetVector(x10, w10, bias, noise_variance)\n",
        "\n",
        "\n",
        "time_vars = []\n",
        "\n",
        "start = time.time()\n",
        "w_t1, nrmse_t1 = estimateLRweights(x1, t1, eta, max_iter, epsilon, 0, 0)\n",
        "end = time.time()\n",
        "time_vars.append(end-start)\n",
        "\n",
        "start = time.time()\n",
        "w_t2, nrmse_t2 = estimateLRweights(x2, t2, eta, max_iter, epsilon, 0, 0)\n",
        "end = time.time()\n",
        "time_vars.append(end-start)\n",
        "\n",
        "start = time.time()\n",
        "w_t3, nrmse_t3 = estimateLRweights(x3, t3, eta, max_iter, epsilon, 0, 0)\n",
        "end = time.time()\n",
        "time_vars.append(end-start)\n",
        "\n",
        "start = time.time()\n",
        "w_t4, nrmse_t4 = estimateLRweights(x4, t4, eta, max_iter, epsilon, 0, 0)\n",
        "end = time.time()\n",
        "time_vars.append(end-start)\n",
        "\n",
        "start = time.time()\n",
        "w_t5, nrmse_t5 = estimateLRweights(x5, t5, eta, max_iter, epsilon, 0, 0)\n",
        "end = time.time()\n",
        "time_vars.append(end-start)\n",
        "\n",
        "start = time.time()\n",
        "w_t6, nrmse_t6 = estimateLRweights(x6, t6, eta, max_iter, epsilon, 0, 0)\n",
        "end = time.time()\n",
        "time_vars.append(end-start)\n",
        "\n",
        "start = time.time()\n",
        "w_t7, nrmse_t7 = estimateLRweights(x7, t7, eta, max_iter, epsilon, 0, 0)\n",
        "end = time.time()\n",
        "time_vars.append(end-start)\n",
        "\n",
        "start = time.time()\n",
        "w_t8, nrmse_t8 = estimateLRweights(x8, t8, eta, max_iter, epsilon, 0, 0)\n",
        "end = time.time()\n",
        "time_vars.append(end-start)\n",
        "\n",
        "start = time.time()\n",
        "w_t9, nrmse_t9 = estimateLRweights(x9, t9, eta, max_iter, epsilon, 0, 0)\n",
        "end = time.time()\n",
        "time_vars.append(end-start)\n",
        "\n",
        "start = time.time()\n",
        "w_t10, nrmse_t10 = estimateLRweights(x10, t10, eta, max_iter, epsilon, 0, 0)\n",
        "end = time.time()\n",
        "time_vars.append(end-start)\n",
        "\n",
        "\n",
        "time_vars = np.array(time_vars)\n",
        "n_vars = np.array([10, 100, 500, 1000, 2000, 4000, 5000, 7000, 9000, 10000]) # Google Colab crashes when I use n_vars = 100000\n",
        "\n",
        "plt.plot(n_vars, time_vars)\n",
        "plt.title(\"Time Taken for Gradient Descent v/s Number of Variables\")\n",
        "plt.xlabel(\"Number of Variables\")\n",
        "plt.ylabel(\"Time Taken for Gradient Descent\")"
      ],
      "metadata": {
        "colab": {
          "base_uri": "https://localhost:8080/",
          "height": 547
        },
        "id": "fhSTEjqVpN6X",
        "outputId": "7d55983a-3b3e-4b15-bf8d-fabecf28d413"
      },
      "execution_count": 18,
      "outputs": [
        {
          "output_type": "stream",
          "name": "stderr",
          "text": [
            "<ipython-input-4-f135168f80e9>:3: RuntimeWarning: overflow encountered in square\n",
            "  return np.sum(np.square(y-t)) / N\n",
            "/usr/local/lib/python3.8/dist-packages/numpy/core/fromnumeric.py:86: RuntimeWarning: overflow encountered in reduce\n",
            "  return ufunc.reduce(obj, axis, dtype, out, **passkwargs)\n",
            "<ipython-input-13-f414cbac5874>:13: RuntimeWarning: invalid value encountered in double_scalars\n",
            "  if abs(new_nrmse - old_nrmse) < min_change_NRMSE:\n",
            "<ipython-input-6-4c499d57129d>:4: RuntimeWarning: overflow encountered in multiply\n",
            "  MSEgradient = np.append(np.sum(2*(computeLRestimate(X, weights)-t))/N, 2*(X.T).dot(computeLRestimate(X, weights)-t)/N) # Appending the gradient of MSE wrt to the bias term to the gradient vector of MSE wrt to the weights vector\n",
            "<ipython-input-12-eecfbf53bf36>:3: RuntimeWarning: invalid value encountered in multiply\n",
            "  updated_weights = weights - eta*(computeMSEgradient(X, t, weights) + Lambda2*computeL2gradient(weights) + Lambda1*computeL1gradient(weights))\n",
            "/usr/local/lib/python3.8/dist-packages/numpy/core/fromnumeric.py:86: RuntimeWarning: invalid value encountered in reduce\n",
            "  return ufunc.reduce(obj, axis, dtype, out, **passkwargs)\n"
          ]
        },
        {
          "output_type": "execute_result",
          "data": {
            "text/plain": [
              "Text(0, 0.5, 'Time Taken for Gradient Descent')"
            ]
          },
          "metadata": {},
          "execution_count": 18
        },
        {
          "output_type": "display_data",
          "data": {
            "text/plain": [
              "<Figure size 432x288 with 1 Axes>"
            ],
            "image/png": "[encoded data removed]"
          },
          "metadata": {
            "needs_background": "light"
          }
        }
      ]
    },
    {
      "cell_type": "markdown",
      "source": [
        "# Observations : \n",
        "1.  The plot between Taken Taken for Gradient Descent v/s Number of Variables increases non-linearly\n",
        "2. The breaking point observed in this case was for Number of Variables = 100000\n",
        "\n",
        "# Potential Reason :    \n",
        "As the number of variables increase, performing gradient descent increases non-linearly.\n",
        "The RAM of the virtual machine Google colab had assigned me crashes when the number of columns = number of rows = 100000"
      ],
      "metadata": {
        "id": "EqIesZbMDFm9"
      }
    },
    {
      "cell_type": "markdown",
      "source": [
        "# Task 13 (k) : Training and validation NRMSE and number of nearly zero weights obtained using gradient descent with lambda2"
      ],
      "metadata": {
        "id": "Orz9DPti4QEW"
      }
    },
    {
      "cell_type": "code",
      "source": [
        "# We are looking for how L2 normalization shrink the weights. Does it make them zero? For what value of lambda? Keep w, noise_var etc. fixed.\n",
        "\n",
        "import math\n",
        "import random\n",
        "import numpy as np\n",
        "import seaborn as sns\n",
        "import time\n",
        "import matplotlib.pyplot as plt\n",
        "\n",
        "def nrmse(mse, noise_variance):\n",
        "  return np.sqrt(mse) / np.sqrt(noise_variance)\n",
        "\n",
        "def count_zeros(weights, threshold):\n",
        "  count = 0\n",
        "  for i in range(np.shape(weights)[1]):\n",
        "    if abs(weights[0][i]) < threshold:\n",
        "      count += 1\n",
        "  return count\n",
        "\n",
        "FeatureDimension = 10\n",
        "NumberOfSamples = 1000\n",
        "bias = 1\n",
        "noise_variance = 0.25\n",
        "eta = 0.01\n",
        "epsilon = 0.001\n",
        "max_iter = 1000\n",
        "\n",
        "threshold = 0.05\n",
        "\n",
        "x = generateDataMatrix(NumberOfSamples, FeatureDimension)\n",
        "w = np.random.randn(1, FeatureDimension)\n",
        "\n",
        "# Splitting the dataset into training data and validation data using 80-20 split\n",
        "training_data, validation_data = x[:800,], x[-200:,]\n",
        "t, v = generateTargetVector(training_data, w, bias, noise_variance), generateTargetVector(validation_data, w, bias, noise_variance)\n",
        "\n",
        "w_t1, nrmse_t1 = estimateLRweights(training_data, t, eta, max_iter, epsilon, 0, 0.1)\n",
        "w_t2, nrmse_t2 = estimateLRweights(training_data, t, eta, max_iter, epsilon, 0, 1)\n",
        "w_t3, nrmse_t3 = estimateLRweights(training_data, t, eta, max_iter, epsilon, 0, 2)\n",
        "w_t4, nrmse_t4 = estimateLRweights(training_data, t, eta, max_iter, epsilon, 0, 3)\n",
        "w_t5, nrmse_t5 = estimateLRweights(training_data, t, eta, max_iter, epsilon, 0, 4)\n",
        "w_t6, nrmse_t6 = estimateLRweights(training_data, t, eta, max_iter, epsilon, 0, 5)\n",
        "w_t7, nrmse_t7 = estimateLRweights(training_data, t, eta, max_iter, epsilon, 0, 6)\n",
        "w_t8, nrmse_t8 = estimateLRweights(training_data, t, eta, max_iter, epsilon, 0, 7)\n",
        "w_t9, nrmse_t9 = estimateLRweights(training_data, t, eta, max_iter, epsilon, 0, 8)\n",
        "w_t10, nrmse_t10 = estimateLRweights(training_data, t, eta, max_iter, epsilon, 0, 9)\n",
        "\n",
        "mse_v1 = computeMSE(computeLRestimate(validation_data, w_t1), v)\n",
        "mse_v2 = computeMSE(computeLRestimate(validation_data, w_t2), v)\n",
        "mse_v3 = computeMSE(computeLRestimate(validation_data, w_t3), v)\n",
        "mse_v4 = computeMSE(computeLRestimate(validation_data, w_t4), v)\n",
        "mse_v5 = computeMSE(computeLRestimate(validation_data, w_t5), v)\n",
        "mse_v6 = computeMSE(computeLRestimate(validation_data, w_t6), v)\n",
        "mse_v7 = computeMSE(computeLRestimate(validation_data, w_t7), v)\n",
        "mse_v8 = computeMSE(computeLRestimate(validation_data, w_t8), v)\n",
        "mse_v9 = computeMSE(computeLRestimate(validation_data, w_t9), v)\n",
        "mse_v10 = computeMSE(computeLRestimate(validation_data, w_t10), v)\n",
        "\n",
        "nrmse_t = np.array([nrmse_t1, nrmse_t2, nrmse_t3, nrmse_t4, nrmse_t5, nrmse_t6, nrmse_t7, nrmse_t8, nrmse_t9, nrmse_t10])\n",
        "\n",
        "mse_v = np.array([mse_v1, mse_v2, mse_v3, mse_v4, mse_v5, mse_v6, mse_v7, mse_v8, mse_v9, mse_v10])\n",
        "nrmse_v = nrmse(mse_v, noise_variance)\n",
        "\n",
        "plot_arr = [nrmse_t, nrmse_v]\n",
        "sns.boxplot(data=plot_arr)\n",
        "\n",
        "print(\"Printing the number of nearly zero weights obtained using gradient descent by varying the value of lambda2 with a threshold of {}\".format(threshold))\n",
        "print(\"With lambda2 = 0.1 : \", count_zeros(w_t1, threshold))\n",
        "print(\"With lambda2 = 1 : \", count_zeros(w_t2, threshold))\n",
        "print(\"With lambda2 = 2 : \", count_zeros(w_t3, threshold))\n",
        "print(\"With lambda2 = 3 : \", count_zeros(w_t4, threshold))\n",
        "print(\"With lambda2 = 4 : \", count_zeros(w_t5, threshold))\n",
        "print(\"With lambda2 = 5 : \", count_zeros(w_t6, threshold))\n",
        "print(\"With lambda2 = 6 : \", count_zeros(w_t7, threshold))\n",
        "print(\"With lambda2 = 7 : \", count_zeros(w_t8, threshold))\n",
        "print(\"With lambda2 = 8 : \", count_zeros(w_t9, threshold))\n",
        "print(\"With lambda2 = 9 : \", count_zeros(w_t10, threshold))\n",
        "if np.argmin(nrmse_v) == 0:\n",
        "  optimal_lambda2 = 0.1\n",
        "else:\n",
        "  optimal_lambda2 = np.argmin(nrmse_v)\n",
        "print(\"Minimum NRMSE was obtained using lambda2 = {}\".format(optimal_lambda2))"
      ],
      "metadata": {
        "id": "jRSbvNM84Vow",
        "colab": {
          "base_uri": "https://localhost:8080/",
          "height": 479
        },
        "outputId": "02da8f10-dbb0-4ff5-8dba-6651a4ec5b2f"
      },
      "execution_count": 19,
      "outputs": [
        {
          "output_type": "stream",
          "name": "stdout",
          "text": [
            "Printing the number of nearly zero weights obtained using gradient descent by varying the value of lambda2 with a threshold of 0.05\n",
            "With lambda2 = 0.1 :  0\n",
            "With lambda2 = 1 :  0\n",
            "With lambda2 = 2 :  0\n",
            "With lambda2 = 3 :  0\n",
            "With lambda2 = 4 :  2\n",
            "With lambda2 = 5 :  2\n",
            "With lambda2 = 6 :  2\n",
            "With lambda2 = 7 :  3\n",
            "With lambda2 = 8 :  3\n",
            "With lambda2 = 9 :  3\n",
            "Minimum NRMSE was obtained using lambda2 = 0.1\n"
          ]
        },
        {
          "output_type": "display_data",
          "data": {
            "text/plain": [
              "<Figure size 432x288 with 1 Axes>"
            ],
            "image/png": "[encoded data removed]"
          },
          "metadata": {
            "needs_background": "light"
          }
        }
      ]
    },
    {
      "cell_type": "markdown",
      "source": [
        "# Observations : \n",
        "1.  Mean of Training_NRMSE < Mean of Validation_NRMSE\n",
        "2. Spread of Training_NRMSE < Spread of Validation_NRMSE\n",
        "\n",
        "# Potential Reason :    \n",
        "The introduction of the regularization term makes sure that our model is not overfitting to the training data. This allows it to generalize better on unseen data. In this way, the L2 regularization deals with independent variables that are highly correlated by constricting the coefficient and keeping all the variables.\n",
        "\n",
        "\n",
        "When value of lambda2 is too high, the model will be simple, and can underfit the data. The model won't learn enough about the training data to make useful predictions.\n",
        "\n",
        "When the value of lambda2 is too low, the model will be more complex, and can overfit the data. The model will learn too much about the particularities of the training data, and won't be able to generalize to new data.\n",
        "\n",
        "L2 regularization tries to estimate the mean of the data to avoid overfitting."
      ],
      "metadata": {
        "id": "g5TiFd10DeZj"
      }
    },
    {
      "cell_type": "markdown",
      "source": [
        "# Task 13 (l) : Training and validation NRMSE and number of nearly zero weights obtained using gradient descent with lambda1"
      ],
      "metadata": {
        "id": "Z9TCvHOe4YQw"
      }
    },
    {
      "cell_type": "code",
      "source": [
        "# We are looking for how L1 normalization shrink the weights. Does it make them zero? For what value of lambda? Keep w, noise_var etc. fixed.\n",
        "\n",
        "import math\n",
        "import random\n",
        "import numpy as np\n",
        "import seaborn as sns\n",
        "import time\n",
        "import matplotlib.pyplot as plt\n",
        "\n",
        "def nrmse(mse, noise_variance):\n",
        "  return np.sqrt(mse) / np.sqrt(noise_variance)\n",
        "\n",
        "def count_zeros(weights, threshold):\n",
        "  count = 0\n",
        "  for i in range(np.shape(weights)[1]):\n",
        "    if abs(weights[0][i]) < threshold:\n",
        "      count += 1\n",
        "  return count\n",
        "\n",
        "FeatureDimension = 10\n",
        "NumberOfSamples = 1000\n",
        "bias = 1\n",
        "noise_variance = 0.25\n",
        "eta = 0.01\n",
        "epsilon = 0.001\n",
        "max_iter = 1000\n",
        "\n",
        "threshold = 0.05\n",
        "\n",
        "x = generateDataMatrix(NumberOfSamples, FeatureDimension)\n",
        "w = np.random.randn(1, FeatureDimension)\n",
        "\n",
        "# Splitting the dataset into training data and validation data using 80-20 split\n",
        "training_data, validation_data = x[:800,], x[-200:,]\n",
        "t, v = generateTargetVector(training_data, w, bias, noise_variance), generateTargetVector(validation_data, w, bias, noise_variance)\n",
        "\n",
        "w_t1, nrmse_t1 = estimateLRweights(training_data, t, eta, max_iter, epsilon, 0.1, 0)\n",
        "w_t2, nrmse_t2 = estimateLRweights(training_data, t, eta, max_iter, epsilon, 1, 0)\n",
        "w_t3, nrmse_t3 = estimateLRweights(training_data, t, eta, max_iter, epsilon, 2, 0)\n",
        "w_t4, nrmse_t4 = estimateLRweights(training_data, t, eta, max_iter, epsilon, 3, 0)\n",
        "w_t5, nrmse_t5 = estimateLRweights(training_data, t, eta, max_iter, epsilon, 4, 0)\n",
        "w_t6, nrmse_t6 = estimateLRweights(training_data, t, eta, max_iter, epsilon, 5, 0)\n",
        "w_t7, nrmse_t7 = estimateLRweights(training_data, t, eta, max_iter, epsilon, 6, 0)\n",
        "w_t8, nrmse_t8 = estimateLRweights(training_data, t, eta, max_iter, epsilon, 7, 0)\n",
        "w_t9, nrmse_t9 = estimateLRweights(training_data, t, eta, max_iter, epsilon, 8, 0)\n",
        "w_t10, nrmse_t10 = estimateLRweights(training_data, t, eta, max_iter, epsilon, 9, 0)\n",
        "\n",
        "mse_v1 = computeMSE(computeLRestimate(validation_data, w_t1), v)\n",
        "mse_v2 = computeMSE(computeLRestimate(validation_data, w_t2), v)\n",
        "mse_v3 = computeMSE(computeLRestimate(validation_data, w_t3), v)\n",
        "mse_v4 = computeMSE(computeLRestimate(validation_data, w_t4), v)\n",
        "mse_v5 = computeMSE(computeLRestimate(validation_data, w_t5), v)\n",
        "mse_v6 = computeMSE(computeLRestimate(validation_data, w_t6), v)\n",
        "mse_v7 = computeMSE(computeLRestimate(validation_data, w_t7), v)\n",
        "mse_v8 = computeMSE(computeLRestimate(validation_data, w_t8), v)\n",
        "mse_v9 = computeMSE(computeLRestimate(validation_data, w_t9), v)\n",
        "mse_v10 = computeMSE(computeLRestimate(validation_data, w_t10), v)\n",
        "\n",
        "nrmse_t = np.array([nrmse_t1, nrmse_t2, nrmse_t3, nrmse_t4, nrmse_t5, nrmse_t6, nrmse_t7, nrmse_t8, nrmse_t9, nrmse_t10])\n",
        "\n",
        "mse_v = np.array([mse_v1, mse_v2, mse_v3, mse_v4, mse_v5, mse_v6, mse_v7, mse_v8, mse_v9, mse_v10])\n",
        "nrmse_v = nrmse(mse_v, noise_variance)\n",
        "\n",
        "plot_arr = [nrmse_t, nrmse_v]\n",
        "sns.boxplot(data=plot_arr)\n",
        "\n",
        "print(\"Printing the number of nearly zero weights obtained using gradient descent by varying the value of lambda1 with a threshold of {}\".format(threshold))\n",
        "print(\"With lambda1 = 0.1 : \", count_zeros(w_t1, threshold))\n",
        "print(\"With lambda1 = 1 : \", count_zeros(w_t2, threshold))\n",
        "print(\"With lambda1 = 2 : \", count_zeros(w_t3, threshold))\n",
        "print(\"With lambda1 = 3 : \", count_zeros(w_t4, threshold))\n",
        "print(\"With lambda1 = 4 : \", count_zeros(w_t5, threshold))\n",
        "print(\"With lambda1 = 5 : \", count_zeros(w_t6, threshold))\n",
        "print(\"With lambda1 = 6 : \", count_zeros(w_t7, threshold))\n",
        "print(\"With lambda1 = 7 : \", count_zeros(w_t8, threshold))\n",
        "print(\"With lambda1 = 8 : \", count_zeros(w_t9, threshold))\n",
        "print(\"With lambda1 = 9 : \", count_zeros(w_t10, threshold))\n",
        "if np.argmin(nrmse_v) == 0:\n",
        "  optimal_lambda1 = 0.1\n",
        "else:\n",
        "  optimal_lambda1 = np.argmin(nrmse_v)\n",
        "print(\"Minimum NRMSE was obtained using lambda1 = {}\".format(optimal_lambda1))"
      ],
      "metadata": {
        "id": "mM20tEU54eH-",
        "colab": {
          "base_uri": "https://localhost:8080/",
          "height": 569
        },
        "outputId": "e7065ee7-1488-4332-a864-ce806698d26b"
      },
      "execution_count": 156,
      "outputs": [
        {
          "output_type": "stream",
          "name": "stdout",
          "text": [
            "[0.29213748 0.83391211 1.50017388 1.83112221 1.925352   1.96911333\n",
            " 1.9461472  1.95738699 1.94690203 1.95582941]\n",
            "-----\n",
            "[1.14848539 3.38908743 6.18740507 7.67885617 7.98051272 8.21148065\n",
            " 8.11403099 8.19813759 8.11005056 8.18530208]\n",
            "Printing the number of nearly zero weights obtained using gradient descent by varying the value of lambda1 with a threshold of 0.05\n",
            "With lambda1 = 0.1 :  1\n",
            "With lambda1 = 1 :  2\n",
            "With lambda1 = 2 :  5\n",
            "With lambda1 = 3 :  7\n",
            "With lambda1 = 4 :  8\n",
            "With lambda1 = 5 :  8\n",
            "With lambda1 = 6 :  6\n",
            "With lambda1 = 7 :  6\n",
            "With lambda1 = 8 :  4\n",
            "With lambda1 = 9 :  7\n",
            "Minimum NRMSE was obtained using lambda1 = 0.1\n"
          ]
        },
        {
          "output_type": "display_data",
          "data": {
            "text/plain": [
              "<Figure size 432x288 with 1 Axes>"
            ],
            "image/png": "[encoded data removed]"
          },
          "metadata": {
            "needs_background": "light"
          }
        }
      ]
    },
    {
      "cell_type": "markdown",
      "source": [
        "# Observations : \n",
        "1.  Mean of Training_NRMSE < Mean of Validation_NRMSE\n",
        "2. Spread of Training_NRMSE < Spread of Validation_NRMSE\n",
        "\n",
        "# Potential Reason :    \n",
        "The introduction of the regularization term makes sure that our model is not overfitting to the training data. This allows it to generalize better on unseen data. In this way, the L1 regularization deals with independent variables that are highly correlated by constricting the coefficient and keeping all the variables.\n",
        "\n",
        "\n",
        "When value of lambda2 is too high, the model will be simple, and can underfit the data. The model won't learn enough about the training data to make useful predictions.\n",
        "\n",
        "When the value of lambda2 is too low, the model will be more complex, and can overfit the data. The model will learn too much about the particularities of the training data, and won't be able to generalize to new data.\n",
        "\n",
        "L1 regularization tries to estimate the median of the data to avoid overfitting."
      ],
      "metadata": {
        "id": "pAA0qLb3EN4C"
      }
    },
    {
      "cell_type": "markdown",
      "source": [
        "# Task 13 (m) : Training and validation NRMSE for optimal lambda2 with noise variance"
      ],
      "metadata": {
        "id": "GhJumsxG4eVJ"
      }
    },
    {
      "cell_type": "code",
      "source": [
        "# Vary noise variance and keep lambda2 to be optimal\n",
        "\n",
        "import random\n",
        "import numpy as np\n",
        "import seaborn as sns\n",
        "\n",
        "NumberOfSamples = 1000\n",
        "featureDimension = 10\n",
        "weights = np.random.rand(1, featureDimension) # w is kept fixed\n",
        "eta = 0.01 # eta is kept fixed\n",
        "bias = 1 # bias is kept fixed\n",
        "max_iter = 1000 # max_iter is kept fixed\n",
        "epsilon = 0.001 # min_change_nrmse is kept fixed\n",
        "noise_variance = 1\n",
        "\n",
        "optimal_lambda2 = 0.1\n",
        "\n",
        "def nrmse(mse, noise_variance):\n",
        "  return np.sqrt(mse) / np.sqrt(noise_variance)\n",
        "\n",
        "# Generating training datasets with different number of training samples\n",
        "random.seed(11)\n",
        "x1 = generateDataMatrix(NumberOfSamples, featureDimension)\n",
        "\n",
        "random.seed(12)\n",
        "x2 = generateDataMatrix(NumberOfSamples, featureDimension)\n",
        "\n",
        "random.seed(13)\n",
        "x3 = generateDataMatrix(NumberOfSamples, featureDimension)\n",
        "\n",
        "random.seed(14)\n",
        "x4 = generateDataMatrix(NumberOfSamples, featureDimension)\n",
        "\n",
        "random.seed(15)\n",
        "x5 = generateDataMatrix(NumberOfSamples, featureDimension)\n",
        "\n",
        "random.seed(16)\n",
        "x6 = generateDataMatrix(NumberOfSamples, featureDimension)\n",
        "\n",
        "random.seed(17)\n",
        "x7 = generateDataMatrix(NumberOfSamples, featureDimension)\n",
        "\n",
        "random.seed(18)\n",
        "x8 = generateDataMatrix(NumberOfSamples, featureDimension)\n",
        "\n",
        "random.seed(19)\n",
        "x9 = generateDataMatrix(NumberOfSamples, featureDimension)\n",
        "\n",
        "random.seed(20)\n",
        "x10 = generateDataMatrix(NumberOfSamples, featureDimension)\n",
        "\n",
        "# Now I have generated 10 training datasets. Now I would be splitting each training dataset into a training and validation dataset on a 80-20 split-ratio.\n",
        "training_data1, validation_data1 = x1[:800,], x1[-200:,]\n",
        "t1 = generateTargetVector(training_data1, weights, bias, 0.1)\n",
        "v1 = generateTargetVector(validation_data1, weights, bias, 0.1)\n",
        "\n",
        "training_data2, validation_data2 = x2[:800,], x2[-200:,]\n",
        "t2 = generateTargetVector(training_data2, weights, bias, 1)\n",
        "v2 = generateTargetVector(validation_data2, weights, bias, 1)\n",
        "\n",
        "training_data3, validation_data3 = x3[:800,], x3[-200:,]\n",
        "t3 = generateTargetVector(training_data3, weights, bias, 2)\n",
        "v3 = generateTargetVector(validation_data3, weights, bias, 2)\n",
        "\n",
        "training_data4, validation_data4 = x4[:800,], x4[-200:,]\n",
        "t4 = generateTargetVector(training_data4, weights, bias, 3)\n",
        "v4 = generateTargetVector(validation_data4, weights, bias,3)\n",
        "\n",
        "training_data5, validation_data5 = x5[:800,], x5[-200:,]\n",
        "t5 = generateTargetVector(training_data5, weights, bias, 4)\n",
        "v5 = generateTargetVector(validation_data5, weights, bias, 4)\n",
        "\n",
        "training_data6, validation_data6 = x6[:800,], x6[-200:,]\n",
        "t6 = generateTargetVector(training_data6, weights, bias, 5)\n",
        "v6 = generateTargetVector(validation_data6, weights, bias, 5)\n",
        "\n",
        "training_data7, validation_data7 = x7[:800,], x7[-200:,]\n",
        "t7 = generateTargetVector(training_data7, weights, bias, 6)\n",
        "v7 = generateTargetVector(validation_data7, weights, bias, 6)\n",
        "\n",
        "training_data8, validation_data8 = x8[:800,], x8[-200:,]\n",
        "t8 = generateTargetVector(training_data8, weights, bias, 7)\n",
        "v8 = generateTargetVector(validation_data8, weights, bias, 7)\n",
        "\n",
        "training_data9, validation_data9 = x9[:800,], x9[-200:,]\n",
        "t9 = generateTargetVector(training_data9, weights, bias, 8)\n",
        "v9 = generateTargetVector(validation_data9, weights, bias, 8)\n",
        "\n",
        "training_data10, validation_data10 = x10[:800,], x10[-200:,]\n",
        "t10 = generateTargetVector(training_data10, weights, bias, 9)\n",
        "v10 = generateTargetVector(validation_data10, weights, bias, 9)\n",
        "\n",
        "w_t1, nrmse_t1 = estimateLRweights(training_data1, t1, eta, max_iter, epsilon, 0, optimal_lambda2)\n",
        "w_t2, nrmse_t2 = estimateLRweights(training_data2, t2, eta, max_iter, epsilon, 0, optimal_lambda2)\n",
        "w_t3, nrmse_t3 = estimateLRweights(training_data3, t3, eta, max_iter, epsilon, 0, optimal_lambda2)\n",
        "w_t4, nrmse_t4 = estimateLRweights(training_data4, t4, eta, max_iter, epsilon, 0, optimal_lambda2)\n",
        "w_t5, nrmse_t5 = estimateLRweights(training_data5, t5, eta, max_iter, epsilon, 0, optimal_lambda2)\n",
        "w_t6, nrmse_t6 = estimateLRweights(training_data6, t6, eta, max_iter, epsilon, 0, optimal_lambda2)\n",
        "w_t7, nrmse_t7 = estimateLRweights(training_data7, t7, eta, max_iter, epsilon, 0, optimal_lambda2)\n",
        "w_t8, nrmse_t8 = estimateLRweights(training_data8, t8, eta, max_iter, epsilon, 0, optimal_lambda2)\n",
        "w_t9, nrmse_t9 = estimateLRweights(training_data9, t9, eta, max_iter, epsilon, 0, optimal_lambda2)\n",
        "w_t10, nrmse_t10 = estimateLRweights(training_data10, t10, eta, max_iter, epsilon, 0, optimal_lambda2)\n",
        "\n",
        "mse_v1 = computeMSE(computeLRestimate(validation_data1, w_t1), v1)\n",
        "mse_v2 = computeMSE(computeLRestimate(validation_data2, w_t2), v2)\n",
        "mse_v3 = computeMSE(computeLRestimate(validation_data3, w_t3), v3)\n",
        "mse_v4 = computeMSE(computeLRestimate(validation_data4, w_t4), v4)\n",
        "mse_v5 = computeMSE(computeLRestimate(validation_data5, w_t5), v5)\n",
        "mse_v6 = computeMSE(computeLRestimate(validation_data6, w_t6), v6)\n",
        "mse_v7 = computeMSE(computeLRestimate(validation_data7, w_t7), v7)\n",
        "mse_v8 = computeMSE(computeLRestimate(validation_data8, w_t8), v8)\n",
        "mse_v9 = computeMSE(computeLRestimate(validation_data9, w_t9), v9)\n",
        "mse_v10 = computeMSE(computeLRestimate(validation_data10, w_t10), v10)\n",
        "\n",
        "nrmse_v1 = nrmse(mse_v1, 0.1)\n",
        "nrmse_v2 = nrmse(mse_v2, 1)\n",
        "nrmse_v3 = nrmse(mse_v3, 2)\n",
        "nrmse_v4 = nrmse(mse_v4, 3)\n",
        "nrmse_v5 = nrmse(mse_v5, 4)\n",
        "nrmse_v6 = nrmse(mse_v6, 5)\n",
        "nrmse_v7 = nrmse(mse_v7, 6)\n",
        "nrmse_v8 = nrmse(mse_v8, 7)\n",
        "nrmse_v9 = nrmse(mse_v9, 8)\n",
        "nrmse_v10 = nrmse(mse_v10,9)\n",
        "\n",
        "nrmse_t = np.array([nrmse_t1, nrmse_t2, nrmse_t3, nrmse_t4, nrmse_t5, nrmse_t6, nrmse_t7, nrmse_t8, nrmse_t9, nrmse_t10])\n",
        "nrmse_v = np.array([nrmse_v1, nrmse_v2, nrmse_v3, nrmse_v4, nrmse_v5, nrmse_v6, nrmse_v7, nrmse_v8, nrmse_v9, nrmse_v10])\n",
        "\n",
        "plot_arr = [nrmse_t, nrmse_v]\n",
        "sns.boxplot(data=plot_arr)"
      ],
      "metadata": {
        "id": "kQYiMX1q4m9g",
        "colab": {
          "base_uri": "https://localhost:8080/",
          "height": 283
        },
        "outputId": "7de8c38e-ed6b-4986-c9d8-a828404a51a2"
      },
      "execution_count": 152,
      "outputs": [
        {
          "output_type": "execute_result",
          "data": {
            "text/plain": [
              "<matplotlib.axes._subplots.AxesSubplot at 0x7fc849174970>"
            ]
          },
          "metadata": {},
          "execution_count": 152
        },
        {
          "output_type": "display_data",
          "data": {
            "text/plain": [
              "<Figure size 432x288 with 1 Axes>"
            ],
            "image/png": "[encoded data removed]"
          },
          "metadata": {
            "needs_background": "light"
          }
        }
      ]
    },
    {
      "cell_type": "markdown",
      "source": [
        "# Observations : \n",
        "\n",
        "1.   Spread of Validation_NRMSE <  Spread of Training_NRMSE\n",
        "2.   Mean of Validation_NRMSE < Mean of Training_NRMSE\n",
        "\n",
        "# Potential Reason :    \n",
        "\n",
        "The increase in Training_NRMSE can be because of the variance of the noise present in the target vector due to which it is becoming difficult for the model to fit over training data."
      ],
      "metadata": {
        "id": "D3pCbbPnEqQ8"
      }
    },
    {
      "cell_type": "markdown",
      "source": [
        "# Task 13 (n) : Training and validation NRMSE for optimal lambda1 with noise variance"
      ],
      "metadata": {
        "id": "RwCWnu4x4gQk"
      }
    },
    {
      "cell_type": "code",
      "source": [
        "# Vary noise variance and keep lambda1 to be optimal\n",
        "\n",
        "import random\n",
        "import numpy as np\n",
        "import seaborn as sns\n",
        "\n",
        "NumberOfSamples = 1000\n",
        "featureDimension = 10\n",
        "weights = np.random.rand(1, featureDimension) # w is kept fixed\n",
        "eta = 0.01 # eta is kept fixed\n",
        "bias = 1 # bias is kept fixed\n",
        "max_iter = 1000 # max_iter is kept fixed\n",
        "epsilon = 0.001 # min_change_nrmse is kept fixed\n",
        "noise_variance = 1\n",
        "\n",
        "optimal_lambda1 = 0.1\n",
        "\n",
        "def nrmse(mse, noise_variance):\n",
        "  return np.sqrt(mse) / np.sqrt(noise_variance)\n",
        "\n",
        "# Generating training datasets with different number of training samples\n",
        "random.seed(11)\n",
        "x1 = generateDataMatrix(NumberOfSamples, featureDimension)\n",
        "\n",
        "random.seed(12)\n",
        "x2 = generateDataMatrix(NumberOfSamples, featureDimension)\n",
        "\n",
        "random.seed(13)\n",
        "x3 = generateDataMatrix(NumberOfSamples, featureDimension)\n",
        "\n",
        "random.seed(14)\n",
        "x4 = generateDataMatrix(NumberOfSamples, featureDimension)\n",
        "\n",
        "random.seed(15)\n",
        "x5 = generateDataMatrix(NumberOfSamples, featureDimension)\n",
        "\n",
        "random.seed(16)\n",
        "x6 = generateDataMatrix(NumberOfSamples, featureDimension)\n",
        "\n",
        "random.seed(17)\n",
        "x7 = generateDataMatrix(NumberOfSamples, featureDimension)\n",
        "\n",
        "random.seed(18)\n",
        "x8 = generateDataMatrix(NumberOfSamples, featureDimension)\n",
        "\n",
        "random.seed(19)\n",
        "x9 = generateDataMatrix(NumberOfSamples, featureDimension)\n",
        "\n",
        "random.seed(20)\n",
        "x10 = generateDataMatrix(NumberOfSamples, featureDimension)\n",
        "\n",
        "# Now I have generated 10 training datasets. Now I would be splitting each training dataset into a training and validation dataset on a 80-20 split-ratio.\n",
        "training_data1, validation_data1 = x1[:800,], x1[-200:,]\n",
        "t1 = generateTargetVector(training_data1, weights, bias, 0.1)\n",
        "v1 = generateTargetVector(validation_data1, weights, bias, 0.1)\n",
        "\n",
        "training_data2, validation_data2 = x2[:800,], x2[-200:,]\n",
        "t2 = generateTargetVector(training_data2, weights, bias, 1)\n",
        "v2 = generateTargetVector(validation_data2, weights, bias, 1)\n",
        "\n",
        "training_data3, validation_data3 = x3[:800,], x3[-200:,]\n",
        "t3 = generateTargetVector(training_data3, weights, bias, 2)\n",
        "v3 = generateTargetVector(validation_data3, weights, bias, 2)\n",
        "\n",
        "training_data4, validation_data4 = x4[:800,], x4[-200:,]\n",
        "t4 = generateTargetVector(training_data4, weights, bias, 3)\n",
        "v4 = generateTargetVector(validation_data4, weights, bias,3)\n",
        "\n",
        "training_data5, validation_data5 = x5[:800,], x5[-200:,]\n",
        "t5 = generateTargetVector(training_data5, weights, bias, 4)\n",
        "v5 = generateTargetVector(validation_data5, weights, bias, 4)\n",
        "\n",
        "training_data6, validation_data6 = x6[:800,], x6[-200:,]\n",
        "t6 = generateTargetVector(training_data6, weights, bias, 5)\n",
        "v6 = generateTargetVector(validation_data6, weights, bias, 5)\n",
        "\n",
        "training_data7, validation_data7 = x7[:800,], x7[-200:,]\n",
        "t7 = generateTargetVector(training_data7, weights, bias, 6)\n",
        "v7 = generateTargetVector(validation_data7, weights, bias, 6)\n",
        "\n",
        "training_data8, validation_data8 = x8[:800,], x8[-200:,]\n",
        "t8 = generateTargetVector(training_data8, weights, bias, 7)\n",
        "v8 = generateTargetVector(validation_data8, weights, bias, 7)\n",
        "\n",
        "training_data9, validation_data9 = x9[:800,], x9[-200:,]\n",
        "t9 = generateTargetVector(training_data9, weights, bias, 8)\n",
        "v9 = generateTargetVector(validation_data9, weights, bias, 8)\n",
        "\n",
        "training_data10, validation_data10 = x10[:800,], x10[-200:,]\n",
        "t10 = generateTargetVector(training_data10, weights, bias, 9)\n",
        "v10 = generateTargetVector(validation_data10, weights, bias, 9)\n",
        "\n",
        "w_t1, nrmse_t1 = estimateLRweights(training_data1, t1, eta, max_iter, epsilon, optimal_lambda1, 0)\n",
        "w_t2, nrmse_t2 = estimateLRweights(training_data2, t2, eta, max_iter, epsilon, optimal_lambda1, 0)\n",
        "w_t3, nrmse_t3 = estimateLRweights(training_data3, t3, eta, max_iter, epsilon, optimal_lambda1, 0)\n",
        "w_t4, nrmse_t4 = estimateLRweights(training_data4, t4, eta, max_iter, epsilon, optimal_lambda1, 0)\n",
        "w_t5, nrmse_t5 = estimateLRweights(training_data5, t5, eta, max_iter, epsilon, optimal_lambda1, 0)\n",
        "w_t6, nrmse_t6 = estimateLRweights(training_data6, t6, eta, max_iter, epsilon, optimal_lambda1, 0)\n",
        "w_t7, nrmse_t7 = estimateLRweights(training_data7, t7, eta, max_iter, epsilon, optimal_lambda1, 0)\n",
        "w_t8, nrmse_t8 = estimateLRweights(training_data8, t8, eta, max_iter, epsilon, optimal_lambda1, 0)\n",
        "w_t9, nrmse_t9 = estimateLRweights(training_data9, t9, eta, max_iter, epsilon, optimal_lambda1, 0)\n",
        "w_t10, nrmse_t10 = estimateLRweights(training_data10, t10, eta, max_iter, epsilon, optimal_lambda1, 0)\n",
        "\n",
        "mse_v1 = computeMSE(computeLRestimate(validation_data1, w_t1), v1)\n",
        "mse_v2 = computeMSE(computeLRestimate(validation_data2, w_t2), v2)\n",
        "mse_v3 = computeMSE(computeLRestimate(validation_data3, w_t3), v3)\n",
        "mse_v4 = computeMSE(computeLRestimate(validation_data4, w_t4), v4)\n",
        "mse_v5 = computeMSE(computeLRestimate(validation_data5, w_t5), v5)\n",
        "mse_v6 = computeMSE(computeLRestimate(validation_data6, w_t6), v6)\n",
        "mse_v7 = computeMSE(computeLRestimate(validation_data7, w_t7), v7)\n",
        "mse_v8 = computeMSE(computeLRestimate(validation_data8, w_t8), v8)\n",
        "mse_v9 = computeMSE(computeLRestimate(validation_data9, w_t9), v9)\n",
        "mse_v10 = computeMSE(computeLRestimate(validation_data10, w_t10), v10)\n",
        "\n",
        "nrmse_v1 = nrmse(mse_v1, 0.1)\n",
        "nrmse_v2 = nrmse(mse_v2, 1)\n",
        "nrmse_v3 = nrmse(mse_v3, 2)\n",
        "nrmse_v4 = nrmse(mse_v4, 3)\n",
        "nrmse_v5 = nrmse(mse_v5, 4)\n",
        "nrmse_v6 = nrmse(mse_v6, 5)\n",
        "nrmse_v7 = nrmse(mse_v7, 6)\n",
        "nrmse_v8 = nrmse(mse_v8, 7)\n",
        "nrmse_v9 = nrmse(mse_v9, 8)\n",
        "nrmse_v10 = nrmse(mse_v10,9)\n",
        "\n",
        "nrmse_t = np.array([nrmse_t1, nrmse_t2, nrmse_t3, nrmse_t4, nrmse_t5, nrmse_t6, nrmse_t7, nrmse_t8, nrmse_t9, nrmse_t10])\n",
        "nrmse_v = np.array([nrmse_v1, nrmse_v2, nrmse_v3, nrmse_v4, nrmse_v5, nrmse_v6, nrmse_v7, nrmse_v8, nrmse_v9, nrmse_v10])\n",
        "\n",
        "plot_arr = [nrmse_t, nrmse_v]\n",
        "sns.boxplot(data=plot_arr)"
      ],
      "metadata": {
        "id": "y4UddmfT4nXw",
        "colab": {
          "base_uri": "https://localhost:8080/",
          "height": 283
        },
        "outputId": "8d58541d-ee7a-47b0-ffe4-d0267dfc3baf"
      },
      "execution_count": 153,
      "outputs": [
        {
          "output_type": "execute_result",
          "data": {
            "text/plain": [
              "<matplotlib.axes._subplots.AxesSubplot at 0x7fc849291370>"
            ]
          },
          "metadata": {},
          "execution_count": 153
        },
        {
          "output_type": "display_data",
          "data": {
            "text/plain": [
              "<Figure size 432x288 with 1 Axes>"
            ],
            "image/png": "[encoded data removed]"
          },
          "metadata": {
            "needs_background": "light"
          }
        }
      ]
    },
    {
      "cell_type": "markdown",
      "source": [
        "# Observations : \n",
        "\n",
        "1.   Spread of Validation_NRMSE <  Spread of Training_NRMSE\n",
        "2.   Mean of Validation_NRMSE < Mean of Training_NRMSE\n",
        "\n",
        "# Potential Reason :    \n",
        "\n",
        "The increase in Training_NRMSE can be because of the variance of the noise present in the target vector due to which it is becoming difficult for the model to fit over training data."
      ],
      "metadata": {
        "id": "W93wNS5QFD-Q"
      }
    },
    {
      "cell_type": "markdown",
      "source": [
        "# My overall learning points by doing the entire assignment : \n",
        "\n",
        "1.   Since a large amount of time was given to us for completing the assignment, I was able to learn to code on my own at my own pace. \n",
        "2.   I also got a practical feel of the impact some of the model parameters had on the overall model as I varied the model parameter (like learning rate) and kept everything else same.\n",
        "3. Since I was able to build a linear regression model completely from scratch using popular libraries like NumPy, I feel more confident on my coding skills. I was learning from making mistakes and debugging them on my own with little help from the internet allowed me to learn much more than I would have if I had taken help from my peers.\n",
        "4. As I learnt the fundamentals of machine learning, this would certainly allow me to use these techniques to build real world AI applications.\n",
        "5. Throughout the assignment, I was constantly revising the key concepts taught in class and simultaneously gained the practical know-how. \n",
        "6. Certain questions really boggled my mind like the different parts within Task 13 for which I had to think outside the box. They surely tested my problem solving skills.\n",
        "7. The practise of writing copious comments after every line of code also helped me immensely when I sat down after a couple of days or when I was trying to debug a specific part of the code. Furthermore, the practise of having a trailing code block after each and every function, helped me to cross-check if the function is doing exactly what I want it to do.\n",
        "8. Through this assignment, I was able to develop a deeper understanding of the linear regression model and it's limitations. Along with these, I also gained familiarity with a wide range of techniques and methods like estimating the weights of linear regression using pinv.\n",
        "9. In a broad sense, I comprehended where I need to go in order to learn more about the techniqes taught in class and those that were not covered in the class \n",
        "\n"
      ],
      "metadata": {
        "id": "QBTiscis4ukw"
      }
    },
    {
      "cell_type": "markdown",
      "source": [
        "# References \n",
        "\n",
        "1.   For Python related syntax queries : [GeeksForGeeks](https://www.geeksforgeeks.org/)\n",
        "2.   For Python related debugging queries : [StackOverflow](https://stackoverflow.com/)\n",
        "3. To get a better understanding of the problem statement : Linear Regression Slides provided by Prof. Amit Sethi, IIT Bombay\n",
        "4. Bishop - Pattern Recognition And Machine Learning - Springer - 2006 Edition\n",
        "5. Understanding Regularization in Machine Learning [Regularization](https://towardsdatascience.com/understanding-regularization-in-machine-learning-d7dd0729dde5#:~:text=L2%20Regularization%20or%20Ridge%20regression,-The%20cost%20function&text=The%20value%20of%20lambda%20can%20vary%20from%200%20to%20infinity.)\n",
        "6. To understand and implement the functionalities provided by the Numpy library - [Numpy](https://numpy.org/doc/stable/reference/random/generated/numpy.random.randn.html)\n",
        "7. The usage of np.std(t) instead of np.sqrt(noise_variance) in Task 12 was motivated/inspired by **200070053**\n",
        "\n",
        "\n",
        "\n",
        "\n",
        "\n",
        "\n",
        "\n"
      ],
      "metadata": {
        "id": "rwVG0ET540o_"
      }
    }
  ]
}
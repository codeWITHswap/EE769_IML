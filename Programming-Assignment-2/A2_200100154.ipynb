{
  "nbformat": 4,
  "nbformat_minor": 0,
  "metadata": {
    "colab": {
      "provenance": []
    },
    "kernelspec": {
      "name": "python3",
      "display_name": "Python 3"
    },
    "language_info": {
      "name": "python"
    },
    "accelerator": "GPU",
    "gpuClass": "standard",
    "widgets": {
      "application/vnd.jupyter.widget-state+json": {
        "3ed66a7614374003b63549a5dca77ff8": {
          "model_module": "@jupyter-widgets/controls",
          "model_name": "HBoxModel",
          "model_module_version": "1.5.0",
          "state": {
            "_dom_classes": [],
            "_model_module": "@jupyter-widgets/controls",
            "_model_module_version": "1.5.0",
            "_model_name": "HBoxModel",
            "_view_count": null,
            "_view_module": "@jupyter-widgets/controls",
            "_view_module_version": "1.5.0",
            "_view_name": "HBoxView",
            "box_style": "",
            "children": [
              "IPY_MODEL_7bb51e9366174894b26f5d75815746c9",
              "IPY_MODEL_4bfccf26980b40fca99d6b45b34b88ea",
              "IPY_MODEL_7557b0647d3b4d23badb3f311c407511"
            ],
            "layout": "IPY_MODEL_ec78fc6fc6474e5ab76a5bdbd816e479"
          }
        },
        "7bb51e9366174894b26f5d75815746c9": {
          "model_module": "@jupyter-widgets/controls",
          "model_name": "HTMLModel",
          "model_module_version": "1.5.0",
          "state": {
            "_dom_classes": [],
            "_model_module": "@jupyter-widgets/controls",
            "_model_module_version": "1.5.0",
            "_model_name": "HTMLModel",
            "_view_count": null,
            "_view_module": "@jupyter-widgets/controls",
            "_view_module_version": "1.5.0",
            "_view_name": "HTMLView",
            "description": "",
            "description_tooltip": null,
            "layout": "IPY_MODEL_0b8f23dc786a44b3a562418228c19b0b",
            "placeholder": "​",
            "style": "IPY_MODEL_d36cbd67ce6e44af9d4ccf195bacd1d5",
            "value": "100%"
          }
        },
        "4bfccf26980b40fca99d6b45b34b88ea": {
          "model_module": "@jupyter-widgets/controls",
          "model_name": "FloatProgressModel",
          "model_module_version": "1.5.0",
          "state": {
            "_dom_classes": [],
            "_model_module": "@jupyter-widgets/controls",
            "_model_module_version": "1.5.0",
            "_model_name": "FloatProgressModel",
            "_view_count": null,
            "_view_module": "@jupyter-widgets/controls",
            "_view_module_version": "1.5.0",
            "_view_name": "ProgressView",
            "bar_style": "success",
            "description": "",
            "description_tooltip": null,
            "layout": "IPY_MODEL_952b3703d53f420da886e1c6b859707e",
            "max": 46830571,
            "min": 0,
            "orientation": "horizontal",
            "style": "IPY_MODEL_37d3b59295864f189c71b15803279547",
            "value": 46830571
          }
        },
        "7557b0647d3b4d23badb3f311c407511": {
          "model_module": "@jupyter-widgets/controls",
          "model_name": "HTMLModel",
          "model_module_version": "1.5.0",
          "state": {
            "_dom_classes": [],
            "_model_module": "@jupyter-widgets/controls",
            "_model_module_version": "1.5.0",
            "_model_name": "HTMLModel",
            "_view_count": null,
            "_view_module": "@jupyter-widgets/controls",
            "_view_module_version": "1.5.0",
            "_view_name": "HTMLView",
            "description": "",
            "description_tooltip": null,
            "layout": "IPY_MODEL_1a8a9dd660be420c94d1df8394fc6544",
            "placeholder": "​",
            "style": "IPY_MODEL_de368affb4a34a909163ac86844a5939",
            "value": " 44.7M/44.7M [00:00&lt;00:00, 122MB/s]"
          }
        },
        "ec78fc6fc6474e5ab76a5bdbd816e479": {
          "model_module": "@jupyter-widgets/base",
          "model_name": "LayoutModel",
          "model_module_version": "1.2.0",
          "state": {
            "_model_module": "@jupyter-widgets/base",
            "_model_module_version": "1.2.0",
            "_model_name": "LayoutModel",
            "_view_count": null,
            "_view_module": "@jupyter-widgets/base",
            "_view_module_version": "1.2.0",
            "_view_name": "LayoutView",
            "align_content": null,
            "align_items": null,
            "align_self": null,
            "border": null,
            "bottom": null,
            "display": null,
            "flex": null,
            "flex_flow": null,
            "grid_area": null,
            "grid_auto_columns": null,
            "grid_auto_flow": null,
            "grid_auto_rows": null,
            "grid_column": null,
            "grid_gap": null,
            "grid_row": null,
            "grid_template_areas": null,
            "grid_template_columns": null,
            "grid_template_rows": null,
            "height": null,
            "justify_content": null,
            "justify_items": null,
            "left": null,
            "margin": null,
            "max_height": null,
            "max_width": null,
            "min_height": null,
            "min_width": null,
            "object_fit": null,
            "object_position": null,
            "order": null,
            "overflow": null,
            "overflow_x": null,
            "overflow_y": null,
            "padding": null,
            "right": null,
            "top": null,
            "visibility": null,
            "width": null
          }
        },
        "0b8f23dc786a44b3a562418228c19b0b": {
          "model_module": "@jupyter-widgets/base",
          "model_name": "LayoutModel",
          "model_module_version": "1.2.0",
          "state": {
            "_model_module": "@jupyter-widgets/base",
            "_model_module_version": "1.2.0",
            "_model_name": "LayoutModel",
            "_view_count": null,
            "_view_module": "@jupyter-widgets/base",
            "_view_module_version": "1.2.0",
            "_view_name": "LayoutView",
            "align_content": null,
            "align_items": null,
            "align_self": null,
            "border": null,
            "bottom": null,
            "display": null,
            "flex": null,
            "flex_flow": null,
            "grid_area": null,
            "grid_auto_columns": null,
            "grid_auto_flow": null,
            "grid_auto_rows": null,
            "grid_column": null,
            "grid_gap": null,
            "grid_row": null,
            "grid_template_areas": null,
            "grid_template_columns": null,
            "grid_template_rows": null,
            "height": null,
            "justify_content": null,
            "justify_items": null,
            "left": null,
            "margin": null,
            "max_height": null,
            "max_width": null,
            "min_height": null,
            "min_width": null,
            "object_fit": null,
            "object_position": null,
            "order": null,
            "overflow": null,
            "overflow_x": null,
            "overflow_y": null,
            "padding": null,
            "right": null,
            "top": null,
            "visibility": null,
            "width": null
          }
        },
        "d36cbd67ce6e44af9d4ccf195bacd1d5": {
          "model_module": "@jupyter-widgets/controls",
          "model_name": "DescriptionStyleModel",
          "model_module_version": "1.5.0",
          "state": {
            "_model_module": "@jupyter-widgets/controls",
            "_model_module_version": "1.5.0",
            "_model_name": "DescriptionStyleModel",
            "_view_count": null,
            "_view_module": "@jupyter-widgets/base",
            "_view_module_version": "1.2.0",
            "_view_name": "StyleView",
            "description_width": ""
          }
        },
        "952b3703d53f420da886e1c6b859707e": {
          "model_module": "@jupyter-widgets/base",
          "model_name": "LayoutModel",
          "model_module_version": "1.2.0",
          "state": {
            "_model_module": "@jupyter-widgets/base",
            "_model_module_version": "1.2.0",
            "_model_name": "LayoutModel",
            "_view_count": null,
            "_view_module": "@jupyter-widgets/base",
            "_view_module_version": "1.2.0",
            "_view_name": "LayoutView",
            "align_content": null,
            "align_items": null,
            "align_self": null,
            "border": null,
            "bottom": null,
            "display": null,
            "flex": null,
            "flex_flow": null,
            "grid_area": null,
            "grid_auto_columns": null,
            "grid_auto_flow": null,
            "grid_auto_rows": null,
            "grid_column": null,
            "grid_gap": null,
            "grid_row": null,
            "grid_template_areas": null,
            "grid_template_columns": null,
            "grid_template_rows": null,
            "height": null,
            "justify_content": null,
            "justify_items": null,
            "left": null,
            "margin": null,
            "max_height": null,
            "max_width": null,
            "min_height": null,
            "min_width": null,
            "object_fit": null,
            "object_position": null,
            "order": null,
            "overflow": null,
            "overflow_x": null,
            "overflow_y": null,
            "padding": null,
            "right": null,
            "top": null,
            "visibility": null,
            "width": null
          }
        },
        "37d3b59295864f189c71b15803279547": {
          "model_module": "@jupyter-widgets/controls",
          "model_name": "ProgressStyleModel",
          "model_module_version": "1.5.0",
          "state": {
            "_model_module": "@jupyter-widgets/controls",
            "_model_module_version": "1.5.0",
            "_model_name": "ProgressStyleModel",
            "_view_count": null,
            "_view_module": "@jupyter-widgets/base",
            "_view_module_version": "1.2.0",
            "_view_name": "StyleView",
            "bar_color": null,
            "description_width": ""
          }
        },
        "1a8a9dd660be420c94d1df8394fc6544": {
          "model_module": "@jupyter-widgets/base",
          "model_name": "LayoutModel",
          "model_module_version": "1.2.0",
          "state": {
            "_model_module": "@jupyter-widgets/base",
            "_model_module_version": "1.2.0",
            "_model_name": "LayoutModel",
            "_view_count": null,
            "_view_module": "@jupyter-widgets/base",
            "_view_module_version": "1.2.0",
            "_view_name": "LayoutView",
            "align_content": null,
            "align_items": null,
            "align_self": null,
            "border": null,
            "bottom": null,
            "display": null,
            "flex": null,
            "flex_flow": null,
            "grid_area": null,
            "grid_auto_columns": null,
            "grid_auto_flow": null,
            "grid_auto_rows": null,
            "grid_column": null,
            "grid_gap": null,
            "grid_row": null,
            "grid_template_areas": null,
            "grid_template_columns": null,
            "grid_template_rows": null,
            "height": null,
            "justify_content": null,
            "justify_items": null,
            "left": null,
            "margin": null,
            "max_height": null,
            "max_width": null,
            "min_height": null,
            "min_width": null,
            "object_fit": null,
            "object_position": null,
            "order": null,
            "overflow": null,
            "overflow_x": null,
            "overflow_y": null,
            "padding": null,
            "right": null,
            "top": null,
            "visibility": null,
            "width": null
          }
        },
        "de368affb4a34a909163ac86844a5939": {
          "model_module": "@jupyter-widgets/controls",
          "model_name": "DescriptionStyleModel",
          "model_module_version": "1.5.0",
          "state": {
            "_model_module": "@jupyter-widgets/controls",
            "_model_module_version": "1.5.0",
            "_model_name": "DescriptionStyleModel",
            "_view_count": null,
            "_view_module": "@jupyter-widgets/base",
            "_view_module_version": "1.2.0",
            "_view_name": "StyleView",
            "description_width": ""
          }
        }
      }
    }
  },
  "cells": [
    {
      "cell_type": "markdown",
      "source": [
        "**Name of Student** : Swapnoneel Kayal <br>\n",
        "**Roll Number** : 200100154"
      ],
      "metadata": {
        "id": "5XGg739RI-ge"
      }
    },
    {
      "cell_type": "markdown",
      "source": [
        "## **Objective 1** : \n",
        "Learn various steps and due diligence needed to train successful classification models.\n",
        "\n",
        "#### **Background** :\n",
        "\n",
        "Some experiments were conducted on mice to see if a treatment of Down’s syndrome works or not. Mice were divided into control and diseased (genotype), treated or untreated and whether it shows a particular behavior or not (treatment_behavior). Readings for 77 proteins were recorded for the mice, but some of the readings were discarded if they seemed unreliable (out of range). Your job is to develop a pre-processing pipeline and a classifier, and also find out which subset of proteins is important in predicting which class. Specifically:\n"
      ],
      "metadata": {
        "id": "s31UQ6ZiIUs0"
      }
    },
    {
      "cell_type": "markdown",
      "source": [
        "## **Task 1**\n",
        "\n",
        "Let your code read the data directly from https://www.ee.iitb.ac.in/~asethi/Dump/MouseTrain.csv"
      ],
      "metadata": {
        "id": "FUJhMb0QueU-"
      }
    },
    {
      "cell_type": "code",
      "source": [
        "# Importing Necessarry Libraries\n",
        "\n",
        "import numpy as np\n",
        "import matplotlib.pyplot as plt\n",
        "import pandas as pd\n",
        "import seaborn as sns\n",
        "import warnings\n",
        "warnings.filterwarnings('ignore')"
      ],
      "metadata": {
        "id": "AgKJAp3tunfo"
      },
      "execution_count": null,
      "outputs": []
    },
    {
      "cell_type": "code",
      "source": [
        "# Reference Used : https://pandas.pydata.org/docs/reference/api/pandas.read_csv.html\n",
        "# pd.read_csv -> Used to read a comma-separated values file into DataFrame\n",
        "data  = pd.read_csv('https://www.ee.iitb.ac.in/~asethi/Dump/MouseTrain.csv')"
      ],
      "metadata": {
        "id": "tfo2ULpnuiZf"
      },
      "execution_count": null,
      "outputs": []
    },
    {
      "cell_type": "markdown",
      "source": [
        "## **Task 2**\n",
        "Perform exploratory data analysis"
      ],
      "metadata": {
        "id": "fsAok8jivtm9"
      }
    },
    {
      "cell_type": "code",
      "source": [
        "# Checking the data types of all columns\n",
        "# Reference Used : https://pandas.pydata.org/docs/reference/api/pandas.DataFrame.dtypes.html\n",
        "# DataFrame.dtypes -> returns a Series with the data type of each column\n",
        "\n",
        "print(data.dtypes)"
      ],
      "metadata": {
        "colab": {
          "base_uri": "https://localhost:8080/"
        },
        "id": "NxNhmo8PveA1",
        "outputId": "fb7a07dd-808b-44e7-b7b8-2e17b5e03398"
      },
      "execution_count": null,
      "outputs": [
        {
          "output_type": "stream",
          "name": "stdout",
          "text": [
            "DYRK1A_N              float64\n",
            "ITSN1_N               float64\n",
            "BDNF_N                float64\n",
            "NR1_N                 float64\n",
            "NR2A_N                float64\n",
            "                       ...   \n",
            "EGR1_N                float64\n",
            "H3MeK4_N              float64\n",
            "CaNA_N                float64\n",
            "Genotype               object\n",
            "Treatment_Behavior     object\n",
            "Length: 79, dtype: object\n"
          ]
        }
      ]
    },
    {
      "cell_type": "code",
      "source": [
        "# Brief summary of the given dataset\n",
        "# Reference Used : https://pandas.pydata.org/docs/reference/api/pandas.DataFrame.describe.html\n",
        "# DataFrame.describe() -> generates descriptive statistics\n",
        "\n",
        "print(data.describe())"
      ],
      "metadata": {
        "colab": {
          "base_uri": "https://localhost:8080/"
        },
        "id": "9xqxlCqqwRZJ",
        "outputId": "aafaa20f-de6e-4e35-ae6b-84efb00592c5"
      },
      "execution_count": null,
      "outputs": [
        {
          "output_type": "stream",
          "name": "stdout",
          "text": [
            "         DYRK1A_N     ITSN1_N      BDNF_N       NR1_N      NR2A_N      pAKT_N  \\\n",
            "count  762.000000  762.000000  762.000000  762.000000  762.000000  762.000000   \n",
            "mean     0.437715    0.629456    0.319844    2.311905    3.882665    0.232722   \n",
            "std      0.275175    0.274954    0.046536    0.342923    0.929202    0.039521   \n",
            "min      0.170634    0.264085    0.194160    1.414914    1.794716    0.063236   \n",
            "25%      0.294759    0.481011    0.290199    2.069609    3.186726    0.206446   \n",
            "50%      0.371534    0.569058    0.317696    2.309711    3.800418    0.229032   \n",
            "75%      0.486749    0.700621    0.346747    2.534053    4.471656    0.255064   \n",
            "max      2.516367    2.602662    0.497160    3.757641    8.482553    0.434624   \n",
            "\n",
            "          pBRAF_N   pCAMKII_N     pCREB_N      pELK_N  ...       SHH_N  \\\n",
            "count  762.000000  762.000000  762.000000  762.000000  ...  762.000000   \n",
            "mean     0.182514    3.513055    0.212083    1.447201  ...    0.226365   \n",
            "std      0.026548    1.268395    0.031066    0.510631  ...    0.029564   \n",
            "min      0.064043    1.369898    0.112812    0.429032  ...    0.162642   \n",
            "25%      0.165306    2.424669    0.190616    1.213118  ...    0.205750   \n",
            "50%      0.181405    3.319506    0.210077    1.347557  ...    0.224439   \n",
            "75%      0.197664    4.493452    0.233947    1.542629  ...    0.241714   \n",
            "max      0.317066    6.947290    0.306247    6.113347  ...    0.358289   \n",
            "\n",
            "            BAD_N      BCL2_N       pS6_N     pCFOS_N       SYP_N   H3AcK18_N  \\\n",
            "count  582.000000  567.000000  762.000000  702.000000  762.000000  612.000000   \n",
            "mean     0.156693    0.136973    0.122095    0.129689    0.450260    0.166017   \n",
            "std      0.030299    0.029633    0.014928    0.022832    0.062304    0.059256   \n",
            "min      0.088305    0.080657    0.067254    0.085419    0.258626    0.079691   \n",
            "25%      0.136188    0.116234    0.110655    0.111676    0.407385    0.124382   \n",
            "50%      0.150386    0.131542    0.122600    0.126138    0.450500    0.153342   \n",
            "75%      0.170685    0.150942    0.133617    0.142831    0.488438    0.195401   \n",
            "max      0.282016    0.261506    0.158748    0.210908    0.759588    0.479763   \n",
            "\n",
            "           EGR1_N    H3MeK4_N      CaNA_N  \n",
            "count  582.000000  582.000000  762.000000  \n",
            "mean     0.182322    0.206105    1.357954  \n",
            "std      0.041938    0.058118    0.337107  \n",
            "min      0.105537    0.101787    0.586479  \n",
            "25%      0.152365    0.164155    1.075929  \n",
            "50%      0.174184    0.191754    1.351277  \n",
            "75%      0.205146    0.235925    1.616752  \n",
            "max      0.360692    0.413903    2.129791  \n",
            "\n",
            "[8 rows x 77 columns]\n"
          ]
        }
      ]
    },
    {
      "cell_type": "code",
      "source": [
        "# Extracting the dependent variables (y1,y2) and independent variables x\n",
        "# Reference Used : https://pandas.pydata.org/docs/reference/api/pandas.DataFrame.iloc.html\n",
        "# DataFrame.iloc -> Used for integer-location based indexing for selection by position\n",
        "\n",
        "x = data.iloc[:,:-2] # all columns except the last two \n",
        "\n",
        "# For binary class\n",
        "y1 = data.iloc[:,-2:-1].values # second last column\n",
        "\n",
        "# For multi-class\n",
        "y2 = data.iloc[:,-1].values # last column"
      ],
      "metadata": {
        "id": "ms45m7clwoEf"
      },
      "execution_count": null,
      "outputs": []
    },
    {
      "cell_type": "code",
      "source": [
        "from sklearn.preprocessing import LabelEncoder\n",
        "# LabelEncoder encodes target labels (y) with value between 0 and n_classes-1.\n",
        "# This is done to convert categorical data type into numeric data type because mostly models run on numerical values only.\n",
        "\n",
        "# For binary class\n",
        "le_1 = LabelEncoder()\n",
        "y11 = le_1.fit_transform(y1)\n",
        "\n",
        "# For multi class\n",
        "le_2 = LabelEncoder()\n",
        "y22 = le_2.fit_transform(y2)"
      ],
      "metadata": {
        "id": "lZCFE4-JzfkG"
      },
      "execution_count": null,
      "outputs": []
    },
    {
      "cell_type": "markdown",
      "source": [
        "## **Task 2(a)**\n",
        "Which variables are usable and which are not?"
      ],
      "metadata": {
        "id": "frXrNU2L02Mt"
      }
    },
    {
      "cell_type": "code",
      "source": [
        "# Strategy -> For each column, find it's data type, number of unique values and null values\n",
        "# References Used : \n",
        "# (1) https://pandas.pydata.org/docs/reference/api/pandas.unique.html\n",
        "# (2) https://pandas.pydata.org/docs/reference/api/pandas.isnull.html\n",
        "\n",
        "\n",
        "col_lst = []\n",
        "for col in x.columns.values:\n",
        "  col_lst.append(col)\n",
        "  lst_vl = pd.unique(x[col])\n",
        "  print(col + ' is of type ' + str(x[col].dtype) + ' has ' + str(len(lst_vl)) + ' unique values and ' + str(x[col].isnull().sum()) + ' null values ')"
      ],
      "metadata": {
        "colab": {
          "base_uri": "https://localhost:8080/"
        },
        "id": "eI4yZ02K000h",
        "outputId": "5707f649-40e5-4d48-eed1-1c947a6015eb"
      },
      "execution_count": null,
      "outputs": [
        {
          "output_type": "stream",
          "name": "stdout",
          "text": [
            "DYRK1A_N is of type float64 has 762 unique values and 0 null values \n",
            "ITSN1_N is of type float64 has 761 unique values and 0 null values \n",
            "BDNF_N is of type float64 has 762 unique values and 0 null values \n",
            "NR1_N is of type float64 has 762 unique values and 0 null values \n",
            "NR2A_N is of type float64 has 762 unique values and 0 null values \n",
            "pAKT_N is of type float64 has 762 unique values and 0 null values \n",
            "pBRAF_N is of type float64 has 760 unique values and 0 null values \n",
            "pCAMKII_N is of type float64 has 762 unique values and 0 null values \n",
            "pCREB_N is of type float64 has 762 unique values and 0 null values \n",
            "pELK_N is of type float64 has 762 unique values and 0 null values \n",
            "pERK_N is of type float64 has 762 unique values and 0 null values \n",
            "pJNK_N is of type float64 has 761 unique values and 0 null values \n",
            "PKCA_N is of type float64 has 762 unique values and 0 null values \n",
            "pMEK_N is of type float64 has 762 unique values and 0 null values \n",
            "pNR1_N is of type float64 has 762 unique values and 0 null values \n",
            "pNR2A_N is of type float64 has 762 unique values and 0 null values \n",
            "pNR2B_N is of type float64 has 762 unique values and 0 null values \n",
            "pPKCAB_N is of type float64 has 762 unique values and 0 null values \n",
            "pRSK_N is of type float64 has 762 unique values and 0 null values \n",
            "AKT_N is of type float64 has 762 unique values and 0 null values \n",
            "BRAF_N is of type float64 has 762 unique values and 0 null values \n",
            "CAMKII_N is of type float64 has 762 unique values and 0 null values \n",
            "CREB_N is of type float64 has 758 unique values and 0 null values \n",
            "ELK_N is of type float64 has 748 unique values and 15 null values \n",
            "ERK_N is of type float64 has 762 unique values and 0 null values \n",
            "GSK3B_N is of type float64 has 762 unique values and 0 null values \n",
            "JNK_N is of type float64 has 762 unique values and 0 null values \n",
            "MEK_N is of type float64 has 759 unique values and 4 null values \n",
            "TRKA_N is of type float64 has 762 unique values and 0 null values \n",
            "RSK_N is of type float64 has 761 unique values and 0 null values \n",
            "APP_N is of type float64 has 762 unique values and 0 null values \n",
            "Bcatenin_N is of type float64 has 748 unique values and 15 null values \n",
            "SOD1_N is of type float64 has 762 unique values and 0 null values \n",
            "MTOR_N is of type float64 has 762 unique values and 0 null values \n",
            "P38_N is of type float64 has 761 unique values and 0 null values \n",
            "pMTOR_N is of type float64 has 762 unique values and 0 null values \n",
            "DSCR1_N is of type float64 has 762 unique values and 0 null values \n",
            "AMPKA_N is of type float64 has 762 unique values and 0 null values \n",
            "NR2B_N is of type float64 has 762 unique values and 0 null values \n",
            "pNUMB_N is of type float64 has 762 unique values and 0 null values \n",
            "RAPTOR_N is of type float64 has 762 unique values and 0 null values \n",
            "TIAM1_N is of type float64 has 760 unique values and 0 null values \n",
            "pP70S6_N is of type float64 has 761 unique values and 0 null values \n",
            "NUMB_N is of type float64 has 762 unique values and 0 null values \n",
            "P70S6_N is of type float64 has 762 unique values and 0 null values \n",
            "pGSK3B_N is of type float64 has 762 unique values and 0 null values \n",
            "pPKCG_N is of type float64 has 762 unique values and 0 null values \n",
            "CDK5_N is of type float64 has 762 unique values and 0 null values \n",
            "S6_N is of type float64 has 762 unique values and 0 null values \n",
            "ADARB1_N is of type float64 has 762 unique values and 0 null values \n",
            "AcetylH3K9_N is of type float64 has 762 unique values and 0 null values \n",
            "RRP1_N is of type float64 has 762 unique values and 0 null values \n",
            "BAX_N is of type float64 has 762 unique values and 0 null values \n",
            "ARC_N is of type float64 has 762 unique values and 0 null values \n",
            "ERBB4_N is of type float64 has 762 unique values and 0 null values \n",
            "nNOS_N is of type float64 has 762 unique values and 0 null values \n",
            "Tau_N is of type float64 has 762 unique values and 0 null values \n",
            "GFAP_N is of type float64 has 762 unique values and 0 null values \n",
            "GluR3_N is of type float64 has 762 unique values and 0 null values \n",
            "GluR4_N is of type float64 has 762 unique values and 0 null values \n",
            "IL1B_N is of type float64 has 762 unique values and 0 null values \n",
            "P3525_N is of type float64 has 762 unique values and 0 null values \n",
            "pCASP9_N is of type float64 has 762 unique values and 0 null values \n",
            "PSD95_N is of type float64 has 762 unique values and 0 null values \n",
            "SNCA_N is of type float64 has 761 unique values and 0 null values \n",
            "Ubiquitin_N is of type float64 has 762 unique values and 0 null values \n",
            "pGSK3B_Tyr216_N is of type float64 has 762 unique values and 0 null values \n",
            "SHH_N is of type float64 has 762 unique values and 0 null values \n",
            "BAD_N is of type float64 has 582 unique values and 180 null values \n",
            "BCL2_N is of type float64 has 568 unique values and 195 null values \n",
            "pS6_N is of type float64 has 762 unique values and 0 null values \n",
            "pCFOS_N is of type float64 has 703 unique values and 60 null values \n",
            "SYP_N is of type float64 has 762 unique values and 0 null values \n",
            "H3AcK18_N is of type float64 has 613 unique values and 150 null values \n",
            "EGR1_N is of type float64 has 583 unique values and 180 null values \n",
            "H3MeK4_N is of type float64 has 583 unique values and 180 null values \n",
            "CaNA_N is of type float64 has 762 unique values and 0 null values \n"
          ]
        }
      ]
    },
    {
      "cell_type": "markdown",
      "source": [
        "## **Task 2(b)**\n",
        "Are there significant correlations among variables?"
      ],
      "metadata": {
        "id": "S2EpFTRzAI3J"
      }
    },
    {
      "cell_type": "code",
      "source": [
        "# Strategy -> Plot correlation matrix using spearman method to find correlated variables\n",
        "# Reference Used : https://pandas.pydata.org/docs/reference/api/pandas.DataFrame.corr.html \n",
        "\n",
        "correlation_matrix = x.corr(method = 'spearman').abs() # Since perfect negative correlation is also perfect correlation hence we will plot for absolute values\n",
        "fig, ax = plt.subplots(figsize = (20,20))\n",
        "sns.heatmap(correlation_matrix, annot = False)\n",
        "plt.show()"
      ],
      "metadata": {
        "colab": {
          "base_uri": "https://localhost:8080/",
          "height": 1000
        },
        "id": "6NaZb7WRAHe8",
        "outputId": "d96b44e7-f84b-4416-e189-d9f0546077fe"
      },
      "execution_count": null,
      "outputs": [
        {
          "output_type": "display_data",
          "data": {
            "text/plain": [
              "<Figure size 1440x1440 with 2 Axes>"
            ],
            "image/png": "[encoded data removed]"
          },
          "metadata": {
            "needs_background": "light"
          }
        }
      ]
    },
    {
      "cell_type": "markdown",
      "source": [
        "### **Observation**\n",
        "White toned pixels are highly correlated hence we need to eliminate them (Expect the diagonal since a perfect correlation exists between the same variable)\n",
        "\n"
      ],
      "metadata": {
        "id": "LqxfCdjEBbVF"
      }
    },
    {
      "cell_type": "code",
      "source": [
        "# Print list of columns to be dropped having more than 90% correlation\n",
        "# Reference Used : https://numpy.org/doc/stable/reference/generated/numpy.triu.html\n",
        "\n",
        "upper_triangular = correlation_matrix.where(np.triu(np.ones(correlation_matrix.shape),k=1).astype(np.bool))\n",
        "to_drop = [column for column in upper_triangular.columns if any(upper_triangular[column] > 0.90)]\n",
        "print(to_drop)"
      ],
      "metadata": {
        "colab": {
          "base_uri": "https://localhost:8080/"
        },
        "id": "BXw1gvvABYO1",
        "outputId": "d0cbbfa5-b0f6-4ea4-bda1-76245fed770a"
      },
      "execution_count": null,
      "outputs": [
        {
          "output_type": "stream",
          "name": "stdout",
          "text": [
            "['ITSN1_N', 'pERK_N', 'pNR1_N', 'pNR2B_N', 'Bcatenin_N', 'pS6_N']\n"
          ]
        }
      ]
    },
    {
      "cell_type": "code",
      "source": [
        "# Drop the highly correlated columns and create a new list of desired columns\n",
        "# Reference Used : https://pandas.pydata.org/docs/reference/api/pandas.DataFrame.drop.html\n",
        "\n",
        "xd = x.drop(to_drop,axis = 1)\n",
        "col_lst = []\n",
        "for col in xd.columns.values:\n",
        "  col_lst.append(col)"
      ],
      "metadata": {
        "id": "R4iWq8diJJK6"
      },
      "execution_count": null,
      "outputs": []
    },
    {
      "cell_type": "code",
      "source": [
        "# Again visualise the correlation matrix to see if any highly correlated variable remaining\n",
        "\n",
        "correlation_matrix = xd.corr(method = 'spearman').abs()\n",
        "fig, ax = plt.subplots(figsize = (20,20))\n",
        "sns.heatmap(correlation_matrix, annot = False)\n",
        "plt.show()"
      ],
      "metadata": {
        "colab": {
          "base_uri": "https://localhost:8080/",
          "height": 1000
        },
        "id": "9njCvUtXJlRX",
        "outputId": "878682a0-286d-4f88-e0c1-b67bfb510ff1"
      },
      "execution_count": null,
      "outputs": [
        {
          "output_type": "display_data",
          "data": {
            "text/plain": [
              "<Figure size 1440x1440 with 2 Axes>"
            ],
            "image/png": "[encoded data removed]"
          },
          "metadata": {
            "needs_background": "light"
          }
        }
      ]
    },
    {
      "cell_type": "markdown",
      "source": [
        "### **Observation**\n",
        "\n",
        "Now, most of the data is very less correlated with each other hence we are ready for further processing"
      ],
      "metadata": {
        "id": "oa2ocggeJvKp"
      }
    },
    {
      "cell_type": "markdown",
      "source": [
        "## **Task 2(c)**\n",
        "Are the classes balanced?"
      ],
      "metadata": {
        "id": "AcmXOc8xJ33n"
      }
    },
    {
      "cell_type": "code",
      "source": [
        "# Plotting the count plot in order to visualize whether the classes are balanced or not?\n",
        "# Reference Used : https://seaborn.pydata.org/generated/seaborn.countplot.html\n",
        "\n",
        "graph = sns.countplot(data['Genotype'])\n",
        "\n",
        "graph.set_xticklabels(['Control','Ts65Dn'])\n",
        "\n",
        "plt.show()"
      ],
      "metadata": {
        "colab": {
          "base_uri": "https://localhost:8080/",
          "height": 279
        },
        "id": "6x29Ai1vKJoI",
        "outputId": "ab2df77c-0d62-4c3d-885c-df7667a0da9c"
      },
      "execution_count": null,
      "outputs": [
        {
          "output_type": "display_data",
          "data": {
            "text/plain": [
              "<Figure size 432x288 with 1 Axes>"
            ],
            "image/png": "[encoded data removed]"
          },
          "metadata": {
            "needs_background": "light"
          }
        }
      ]
    },
    {
      "cell_type": "code",
      "source": [
        "graph = sns.countplot(data['Treatment_Behavior'])\n",
        "\n",
        "graph.set_xticklabels(['Memantine_C/S' ,'Memantine_S/C' ,'Saline_C/S' ,'Saline_S/C'])\n",
        "\n",
        "plt.show()"
      ],
      "metadata": {
        "colab": {
          "base_uri": "https://localhost:8080/",
          "height": 281
        },
        "id": "LbNjqk71KZVs",
        "outputId": "ab2bb2dc-f045-408e-9bad-724c4d1303b0"
      },
      "execution_count": null,
      "outputs": [
        {
          "output_type": "display_data",
          "data": {
            "text/plain": [
              "<Figure size 432x288 with 1 Axes>"
            ],
            "image/png": "[encoded data removed]"
          },
          "metadata": {
            "needs_background": "light"
          }
        }
      ]
    },
    {
      "cell_type": "markdown",
      "source": [
        "### **Observation**\n",
        "\n",
        "As we can see there is almost equal distribution and no biasing in different classes, hence the classes are balanced not only for the binary-class classification case but also for the multi-class classification case."
      ],
      "metadata": {
        "id": "g2vmAMYLKlfn"
      }
    },
    {
      "cell_type": "markdown",
      "source": [
        "## **Task 3**\n",
        "Develop a strategy to deal with missing variables. You can choose to impute the variable. The recommended way is to use multivariate feature imputation (https://scikit-learn.org/stable/modules/impute.html)"
      ],
      "metadata": {
        "id": "NnAt36cKLC80"
      }
    },
    {
      "cell_type": "code",
      "source": [
        "# Imputing the missing variables (to infer values of missing variables from the known part of the data) using multivariate feature imputation\n",
        "# Reference Used : https://scikit-learn.org/stable/modules/impute.html\n",
        "\n",
        "from sklearn.experimental import enable_iterative_imputer\n",
        "from sklearn.impute import IterativeImputer\n",
        "\n",
        "imp = IterativeImputer(max_iter=10, random_state=0)\n",
        "imp.fit(xd)\n",
        "xd = imp.transform(xd)\n",
        "print(xd)"
      ],
      "metadata": {
        "colab": {
          "base_uri": "https://localhost:8080/"
        },
        "id": "E4Jw4Y8HLU7U",
        "outputId": "0f68b246-d55a-424a-b0f7-86beabed2a19"
      },
      "execution_count": null,
      "outputs": [
        {
          "output_type": "stream",
          "name": "stdout",
          "text": [
            "[[0.50364388 0.4301753  2.81632854 ... 0.13179003 0.1281856  1.67565235]\n",
            " [0.51461708 0.41177034 2.78951404 ... 0.13510297 0.1311187  1.74360965]\n",
            " [0.50918309 0.41830878 2.68720107 ... 0.13336183 0.12743108 1.92642659]\n",
            " ...\n",
            " [0.38218182 0.31854545 2.072      ... 0.16364894 0.19121209 1.43351401]\n",
            " [0.3656217  0.29799225 2.00493131 ... 0.1406397  0.21389934 1.54327375]\n",
            " [0.36560487 0.30153901 2.06281317 ... 0.16626766 0.2061288  1.52011013]]\n"
          ]
        }
      ]
    },
    {
      "cell_type": "code",
      "source": [
        "# Scaling the data using standardScaler\n",
        "# Reference Used : https://scikit-learn.org/stable/modules/generated/sklearn.preprocessing.StandardScaler.html\n",
        "\n",
        "from sklearn import preprocessing\n",
        "\n",
        "scaler = preprocessing.StandardScaler()\n",
        "scaler.fit(xd)\n",
        "xd = pd.DataFrame(scaler.transform(xd), columns = col_lst)\n",
        "print(xd)"
      ],
      "metadata": {
        "colab": {
          "base_uri": "https://localhost:8080/"
        },
        "id": "tW8iV_uwLebQ",
        "outputId": "0d406ab7-0805-4338-8853-ebad858ea089"
      },
      "execution_count": null,
      "outputs": [
        {
          "output_type": "stream",
          "name": "stdout",
          "text": [
            "     DYRK1A_N    BDNF_N     NR1_N    NR2A_N    pAKT_N   pBRAF_N  pCAMKII_N  \\\n",
            "0    0.239745  2.372452  1.471921  2.269552 -0.351734 -0.186528  -0.898820   \n",
            "1    0.279648  1.976690  1.393675  1.940975 -0.533878 -0.365510  -0.963191   \n",
            "2    0.259888  2.117287  1.095124  1.873152 -0.600347 -0.256006  -0.970144   \n",
            "3    0.015969  0.833934  0.452418  1.181185 -0.249043 -0.228099  -1.073520   \n",
            "4   -0.010091  0.837716  0.157224  0.900303 -0.496664 -0.334981  -1.087947   \n",
            "..        ...       ...       ...       ...       ...       ...        ...   \n",
            "757 -0.158354 -0.070527 -0.606540 -0.611634  0.045756  0.683866  -0.240028   \n",
            "758 -0.130826  0.042935 -0.373432 -0.507093  0.096829  0.313293  -0.101537   \n",
            "759 -0.201944 -0.027925 -0.700047 -0.871242  0.681455  0.761884  -0.399737   \n",
            "760 -0.262164 -0.469880 -0.895755 -1.183635  0.319300  0.296632  -0.445606   \n",
            "761 -0.262225 -0.393614 -0.726855 -1.001611  0.401220  0.614567  -0.349979   \n",
            "\n",
            "      pCREB_N    pELK_N    pJNK_N  ...  pGSK3B_Tyr216_N     SHH_N     BAD_N  \\\n",
            "0    0.648744  0.595213 -0.148771  ...        -0.158189 -1.269701 -1.192844   \n",
            "1    0.479587  0.292333 -0.292219  ...         0.025901 -0.878703 -1.384600   \n",
            "2    0.585066  0.223626 -0.444364  ...        -0.000721 -1.106122 -1.325946   \n",
            "3   -0.163587  0.289803 -0.337665  ...        -0.140312 -1.159352 -0.867490   \n",
            "4   -0.641792  0.111757 -0.528799  ...         0.331411 -0.702678 -0.958298   \n",
            "..        ...       ...       ...  ...              ...       ...       ...   \n",
            "757  0.313292 -0.447289  0.075654  ...         1.606940 -0.346465 -0.109783   \n",
            "758  0.638293 -0.385489  0.309205  ...         2.043400 -0.563470 -0.210843   \n",
            "759  0.366285 -0.388938  0.793714  ...         1.060202 -0.510605  0.212905   \n",
            "760  0.174685 -0.528465  0.231584  ...         1.549577 -0.979130 -0.037172   \n",
            "761  0.471977 -0.444307  0.729980  ...         1.919523 -0.024514  0.408051   \n",
            "\n",
            "       BCL2_N   pCFOS_N     SYP_N  H3AcK18_N    EGR1_N  H3MeK4_N    CaNA_N  \n",
            "0   -0.906043 -0.905740 -0.371984  -0.726499 -1.246602 -1.443837  0.943046  \n",
            "1   -0.872907 -1.078036 -0.139388  -0.759611 -1.176739 -1.392146  1.144768  \n",
            "2   -0.914624 -0.996447 -0.232612  -0.760679 -1.213456 -1.457134  1.687436  \n",
            "3   -0.613792 -0.780342 -0.940673  -0.542395 -0.916490 -1.114011  1.016991  \n",
            "4   -0.622289 -0.804686 -0.258680  -0.682916 -1.066844 -1.087949  1.430089  \n",
            "..        ...       ...       ...        ...       ...       ...       ...  \n",
            "757 -0.920703 -0.595855 -0.145392  -0.329468 -0.942903 -0.342472  0.345848  \n",
            "758 -0.938905 -0.879681 -0.085877  -0.274510 -0.866855 -0.214472  0.470936  \n",
            "759 -0.189699 -0.635791 -0.441216  -0.330026 -0.574767 -0.333112  0.224291  \n",
            "760 -0.082676 -0.378055  0.154848  -0.348336 -1.059982  0.066709  0.550098  \n",
            "761 -0.622944 -0.813596 -0.418099  -0.032299 -0.519544 -0.070232  0.481340  \n",
            "\n",
            "[762 rows x 71 columns]\n"
          ]
        }
      ]
    },
    {
      "cell_type": "markdown",
      "source": [
        "## **Task 4**\n",
        "Select metrics that you will use, such as accuracy, F1 score, balanced accuracy, AUC etc. "
      ],
      "metadata": {
        "id": "984Ntj4fXOqy"
      }
    },
    {
      "cell_type": "markdown",
      "source": [
        "Accuracy, confusion matrix and AUC-ROC are some of the most popular metrics. \n",
        "<br>\n",
        "Precision-recall is a widely used metric for classification problems.\n",
        "<br>\n",
        "<b> Accuracy </b> - Accuracy simply measures how often the classifier correctly predicts. We can define accuracy as the ratio of the number of correct predictions and the total number of predictions. However, <b> this metric is only good when the dataset is balanced. </b>\n",
        "<br>\n",
        "<b> Confusion Matrix </b> - It is defined as the table that is often used to describe the performance of a classification model on a set of test data for which the ground truth values are known. <b> By using the confusion matrix we can calculate precision, recall and F1 score. </b>\n",
        "<br>\n",
        "<b> AUC-ROC </b> - The Receiver Operator Characteristic (ROC) is a probability curve that plots the TPR (True Positive Rate) against the FPR (False Positive Rate) at various threshold levels.\n",
        "<br>\n",
        "<b> Final Conclusion </b>\n",
        "\n",
        "\n",
        "*   For <b> binary class classificatio </b>, we will use balanced accuracy (mean of sensitivity and specificity), F1 score and ROC - AUC score because our classes are balanced.\n",
        "*   For <b> multi-class classification </b>, we cannot use one over rest methods mentioned above since our true negatives will increase. Therefore, we will use another matrix i.e. micro or macro averages of F1 score.\n",
        "\n",
        "References Used : \n",
        "\n",
        "* https://towardsdatascience.com/understanding-confusion-matrix-a9ad42dcfd62\n",
        "* https://towardsdatascience.com/understanding-auc-roc-curve-68b2303cc9c5\n",
        "* https://datascience.stackexchange.com/questions/15989/micro-average-vs-macro-average-performance-in-a-multiclass-classification-settin\n",
        "\n",
        "\n",
        "\n"
      ],
      "metadata": {
        "id": "lxGxKzGKXb-i"
      }
    },
    {
      "cell_type": "markdown",
      "source": [
        "## **Task 5**\n",
        "Using five-fold cross-validation to find the reasonable hyper-parameter settings for the following model types:"
      ],
      "metadata": {
        "id": "38svrjZcq_Cc"
      }
    },
    {
      "cell_type": "code",
      "source": [
        "# Importing necessarry libraries\n",
        "\n",
        "from sklearn.model_selection import GridSearchCV # GridSearch helps to loop through predefined hyperparameters and fit our estimator (model) on our training set\n",
        "from sklearn.metrics import classification_report\n",
        "from sklearn.metrics import roc_auc_score\n",
        "from sklearn import svm\n",
        "from sklearn.linear_model import LogisticRegression"
      ],
      "metadata": {
        "id": "w5hcM6m8TdbY"
      },
      "execution_count": 18,
      "outputs": []
    },
    {
      "cell_type": "markdown",
      "source": [
        "a. Linear SVM with regularization as hyperparameter"
      ],
      "metadata": {
        "id": "wX7mbqkmsBUL"
      }
    },
    {
      "cell_type": "code",
      "source": [
        "# Binary classification\n",
        "# Reference Used : https://scikit-learn.org/stable/modules/generated/sklearn.model_selection.GridSearchCV.html\n",
        "\n",
        "hyper = {'C' : [0.001,0.01,0.1,1,10]} # Regularization is the only hyperparameter that is to be tuned\n",
        "svc = svm.SVC(kernel='linear', probability = True)\n",
        "scoring = ['balanced_accuracy', 'f1', 'roc_auc']\n",
        "\n",
        "for i in scoring:\n",
        "  clf = GridSearchCV(estimator = svc, param_grid = hyper, scoring = i) # since cv = None -> We wish to use the default 5-fold cross validation splitting strategy\n",
        "  clf.fit(np.array(xd),np.squeeze(y11))\n",
        "  print('Best hyperparameter : ', clf.best_params_) # Print best parameter after tuning\n",
        "  print('Best ' + i + ' : ' + str(clf.best_score_))"
      ],
      "metadata": {
        "colab": {
          "base_uri": "https://localhost:8080/"
        },
        "id": "Szc-rA9VrSzM",
        "outputId": "c6c32a6b-3ccc-450a-fa99-d36369e31697"
      },
      "execution_count": null,
      "outputs": [
        {
          "output_type": "stream",
          "name": "stdout",
          "text": [
            "Best hyperparameter :  {'C': 0.01}\n",
            "Best balanced_accuracy : 0.7943533478016236\n",
            "Best hyperparameter :  {'C': 0.01}\n",
            "Best f1 : 0.7627587395089508\n",
            "Best hyperparameter :  {'C': 0.01}\n",
            "Best roc_auc : 0.8505007636042119\n"
          ]
        }
      ]
    },
    {
      "cell_type": "code",
      "source": [
        "# Multi-class classification\n",
        "\n",
        "hyper = {'C' : [0.001,0.01,0.1,1,10]} # Regularization is the only hyperparameter\n",
        "svc = svm.SVC(kernel='linear', probability = True)\n",
        "scoring = ['f1_macro', 'roc_auc_ovr']\n",
        "\n",
        "for i in scoring:\n",
        "  clf = GridSearchCV(estimator = svc, param_grid = hyper, scoring = i)\n",
        "  clf.fit(np.array(xd),np.squeeze(y22))\n",
        "  print('Best hyperparameter : ', clf.best_params_) # Print best parameter after tuning\n",
        "  print('Best ' + i + ' : ' + str(clf.best_score_))"
      ],
      "metadata": {
        "colab": {
          "base_uri": "https://localhost:8080/"
        },
        "id": "gZpXGtyvu4UW",
        "outputId": "5a36fa95-ee12-4819-bb12-001279d99875"
      },
      "execution_count": null,
      "outputs": [
        {
          "output_type": "stream",
          "name": "stdout",
          "text": [
            "Best hyperparameter :  {'C': 0.1}\n",
            "Best f1_macro : 0.7507966138359332\n",
            "Best hyperparameter :  {'C': 0.1}\n",
            "Best roc_auc_ovr : 0.9096260173042723\n"
          ]
        }
      ]
    },
    {
      "cell_type": "markdown",
      "source": [
        "b. RBF kernel SVM with kernel width and regularization as hyperparameters "
      ],
      "metadata": {
        "id": "B7asYjV-vUka"
      }
    },
    {
      "cell_type": "code",
      "source": [
        "# Binary classification\n",
        "\n",
        "hyper = {'C' : [0.001,0.01,0.1,1,10], 'degree' : [2,3,5,7]} # Regularization and kernel width are the only hyperparameters that are to be tuned\n",
        "svc = svm.SVC(kernel='rbf', probability = True)\n",
        "scoring = ['balanced_accuracy', 'f1', 'roc_auc']\n",
        "\n",
        "for i in scoring:\n",
        "  clf = GridSearchCV(estimator = svc, param_grid = hyper, scoring = i) # since cv = None -> We wish to use the default 5-fold cross validation splitting strategy\n",
        "  clf.fit(np.array(xd),np.squeeze(y11))\n",
        "  print('Best hyperparameter : ', clf.best_params_) # Print best parameter after tuning\n",
        "  print('Best ' + i + ' : ' + str(clf.best_score_))"
      ],
      "metadata": {
        "colab": {
          "base_uri": "https://localhost:8080/"
        },
        "id": "uE0orj7uvWMi",
        "outputId": "f41d3183-4a8c-4f52-eef2-5be5ec7ee260"
      },
      "execution_count": null,
      "outputs": [
        {
          "output_type": "stream",
          "name": "stdout",
          "text": [
            "Best hyperparameter :  {'C': 10, 'degree': 2}\n",
            "Best balanced_accuracy : 0.7325142673418534\n",
            "Best hyperparameter :  {'C': 10, 'degree': 2}\n",
            "Best f1 : 0.6838467254558587\n",
            "Best hyperparameter :  {'C': 10, 'degree': 2}\n",
            "Best roc_auc : 0.8111920263644402\n"
          ]
        }
      ]
    },
    {
      "cell_type": "code",
      "source": [
        "# Multi-class classification\n",
        "\n",
        "hyper = {'C' : [0.001,0.01,0.1,1,10], 'degree' : [2,3,5,7]} # Regularization and kernel width are the only hyperparameters that are to be tuned\n",
        "svc = svm.SVC(kernel='rbf', probability = True)\n",
        "scoring = ['f1_macro', 'roc_auc_ovr']\n",
        "\n",
        "for i in scoring:\n",
        "  clf = GridSearchCV(estimator = svc, param_grid = hyper, scoring = i)\n",
        "  clf.fit(np.array(xd),np.squeeze(y22))\n",
        "  print('Best hyperparameter : ', clf.best_params_) # Print best parameter after tuning\n",
        "  print('Best ' + i + ' : ' + str(clf.best_score_))"
      ],
      "metadata": {
        "colab": {
          "base_uri": "https://localhost:8080/"
        },
        "id": "lto1FNhG4YyH",
        "outputId": "1d458c56-4611-486a-8d7d-d69aa1583498"
      },
      "execution_count": null,
      "outputs": [
        {
          "output_type": "stream",
          "name": "stdout",
          "text": [
            "Best hyperparameter :  {'C': 1, 'degree': 2}\n",
            "Best f1_macro : 0.7221908291604143\n",
            "Best hyperparameter :  {'C': 10, 'degree': 2}\n",
            "Best roc_auc_ovr : 0.9093993884996319\n"
          ]
        }
      ]
    },
    {
      "cell_type": "markdown",
      "source": [
        "c. Neural network with single ReLU hidden layer and Softmax output (hyperparameters: number of\n",
        "neurons, weight decay)"
      ],
      "metadata": {
        "id": "ugkS4mQS5hJU"
      }
    },
    {
      "cell_type": "code",
      "source": [
        "# Binary classification\n",
        "from sklearn.neural_network import MLPClassifier\n",
        "\n",
        "nn = MLPClassifier(activation='relu')\n",
        "param = {'alpha' : [0.001, 0.01, 0.1,1,10], 'hidden_layer_sizes' : [(10,),(15,),(20,),(30,),(50,)]}\n",
        "scoring = ['balanced_accuracy','f1','roc_auc']\n",
        "\n",
        "for i in scoring:\n",
        "  clf = GridSearchCV(estimator = nn, param_grid = param, scoring = i)\n",
        "  clf.fit(np.array(xd),np.squeeze(y11))\n",
        "  print('Best hyperparameter : ', clf.best_params_) # Print best parameter after tuning\n",
        "  print('Best ' + i + ' : ' + str(clf.best_score_))"
      ],
      "metadata": {
        "colab": {
          "base_uri": "https://localhost:8080/"
        },
        "id": "1c5s2V0X5jRM",
        "outputId": "783a5f36-6a89-4cd4-9e37-0d63e9a484b1"
      },
      "execution_count": null,
      "outputs": [
        {
          "output_type": "stream",
          "name": "stdout",
          "text": [
            "Best hyperparameter :  {'alpha': 1, 'hidden_layer_sizes': (20,)}\n",
            "Best balanced_accuracy : 0.7516373281890523\n",
            "Best hyperparameter :  {'alpha': 1, 'hidden_layer_sizes': (50,)}\n",
            "Best f1 : 0.7480573309706928\n",
            "Best hyperparameter :  {'alpha': 1, 'hidden_layer_sizes': (20,)}\n",
            "Best roc_auc : 0.8072057444471238\n"
          ]
        }
      ]
    },
    {
      "cell_type": "code",
      "source": [
        "# Multi-class classification\n",
        "\n",
        "nn = MLPClassifier(activation='relu')\n",
        "param = {'alpha' : [0.001, 0.01, 0.1,1,10], 'hidden_layer_sizes' : [(10,),(15,),(20,),(30,),(50,)]}\n",
        "scoring = ['f1_macro','roc_auc_ovr']\n",
        "\n",
        "for i in scoring:\n",
        "  clf = GridSearchCV(estimator = nn, param_grid = param, scoring = i)\n",
        "  clf.fit(np.array(xd),np.squeeze(y22))\n",
        "  print('Best hyperparameter : ', clf.best_params_) # Print best parameter after tuning\n",
        "  print('Best ' + i + ' : ' + str(clf.best_score_))"
      ],
      "metadata": {
        "colab": {
          "base_uri": "https://localhost:8080/"
        },
        "id": "4cLPLgsl5zb5",
        "outputId": "5863c0be-885e-41a2-e3e1-9972dfecd280"
      },
      "execution_count": null,
      "outputs": [
        {
          "output_type": "stream",
          "name": "stdout",
          "text": [
            "Best hyperparameter :  {'alpha': 0.1, 'hidden_layer_sizes': (30,)}\n",
            "Best f1_macro : 0.7459346906550578\n",
            "Best hyperparameter :  {'alpha': 0.001, 'hidden_layer_sizes': (20,)}\n",
            "Best roc_auc_ovr : 0.9047293946807858\n"
          ]
        }
      ]
    },
    {
      "cell_type": "markdown",
      "source": [
        "d. Random forest (max tree depth, max number of variables per node)"
      ],
      "metadata": {
        "id": "piNf9sMmAftH"
      }
    },
    {
      "cell_type": "code",
      "source": [
        "# Binary classification\n",
        "from sklearn.ensemble import RandomForestClassifier\n",
        "\n",
        "rf = RandomForestClassifier()\n",
        "param = {'max_depth' : [2,4,6,8,10], 'max_features' : ['auto','sqrt','log2']}\n",
        "scoring = ['balanced_accuracy','f1','roc_auc']\n",
        "\n",
        "for i in scoring:\n",
        "  clf = GridSearchCV(estimator = rf, param_grid = param, scoring = i, n_jobs = -1)\n",
        "  clf.fit(np.array(xd),np.squeeze(y11))\n",
        "  print('Best hyperparameter : ', clf.best_params_) # Print best parameter after tuning\n",
        "  print('Best ' + i + ' : ' + str(clf.best_score_))"
      ],
      "metadata": {
        "colab": {
          "base_uri": "https://localhost:8080/"
        },
        "id": "WRm_Huu9Ahz6",
        "outputId": "5e9daf8d-e8a0-4135-f788-c6dd57dc20c5"
      },
      "execution_count": null,
      "outputs": [
        {
          "output_type": "stream",
          "name": "stdout",
          "text": [
            "Best hyperparameter :  {'max_depth': 8, 'max_features': 'log2'}\n",
            "Best balanced_accuracy : 0.6530680813439436\n",
            "Best hyperparameter :  {'max_depth': 8, 'max_features': 'sqrt'}\n",
            "Best f1 : 0.5831828206385985\n",
            "Best hyperparameter :  {'max_depth': 10, 'max_features': 'sqrt'}\n",
            "Best roc_auc : 0.7458473327438844\n"
          ]
        }
      ]
    },
    {
      "cell_type": "code",
      "source": [
        "# Multi-class classification\n",
        "rf = RandomForestClassifier()\n",
        "param = {'max_depth': [2,4,6,8,10], 'max_features' : ['auto','sqrt','log2']}\n",
        "scoring = ['f1_macro','roc_auc_ovr']\n",
        "\n",
        "for i in scoring:\n",
        "  clf = GridSearchCV(estimator = rf, param_grid = param, scoring = i, n_jobs = -1)\n",
        "  clf.fit(np.array(xd),np.squeeze(y22))\n",
        "  print('Best hyperparameter : ', clf.best_params_) # Print best parameter after tuning\n",
        "  print('Best ' + i + ' : ' + str(clf.best_score_))"
      ],
      "metadata": {
        "id": "2pN6yV7rBdE2",
        "colab": {
          "base_uri": "https://localhost:8080/"
        },
        "outputId": "19141827-5e60-46b4-f114-eea5b2a7dd39"
      },
      "execution_count": null,
      "outputs": [
        {
          "output_type": "stream",
          "name": "stdout",
          "text": [
            "Best hyperparameter :  {'max_depth': 10, 'max_features': 'sqrt'}\n",
            "Best f1_macro : 0.6559517757619531\n",
            "Best hyperparameter :  {'max_depth': 10, 'max_features': 'auto'}\n",
            "Best roc_auc_ovr : 0.8945966052964209\n"
          ]
        }
      ]
    },
    {
      "cell_type": "markdown",
      "source": [
        "## **Task 6**\n",
        "Check feature importance for each model to see if the same proteins are important for each model. "
      ],
      "metadata": {
        "id": "MMR6_gDmCgP9"
      }
    },
    {
      "cell_type": "markdown",
      "source": [
        "RFE (Recursive Feature Elimination) is a wrapper-type feature selection algorithm. This means that a different machine learning algorithm is given and used in the core of the method, is wrapped by RFE, and used to help select features.\n",
        "\n",
        "<br>\n",
        "The RFECV is configured just like the RFE class regarding the choice of the algorithm that is wrapped. Additionally, the minimum number of features to be considered can be specified via the \"min_features_to_select\" argument (defaults to 1) and we can also specify the type of cross-validation and scoring to use via the \"cv\" (defaults to 5) and \"scoring\" arguments (uses accuracy for classification)"
      ],
      "metadata": {
        "id": "bwhgkbrbCyu2"
      }
    },
    {
      "cell_type": "code",
      "source": [
        "# We will be using the SVM estimator with linear kernel for binary classification\n",
        "from sklearn.feature_selection import RFECV \n",
        "\n",
        "svc = svm.SVC(kernel = 'linear')\n",
        "svc.fit(xd,y11)\n",
        "selector = RFECV(estimator = svc, step=1, cv=2)\n",
        "selector = selector.fit(xd, y11)\n",
        "z = selector.ranking_ \n",
        "# We can now see the ranking of features that are helpful in predicting the target\n",
        "print(\"Ranking of features : \\n\",z)"
      ],
      "metadata": {
        "colab": {
          "base_uri": "https://localhost:8080/"
        },
        "id": "pGa8NHpJCnNb",
        "outputId": "955049ec-0e31-456e-9326-7f344c12e63f"
      },
      "execution_count": null,
      "outputs": [
        {
          "output_type": "stream",
          "name": "stdout",
          "text": [
            "Ranking of features : \n",
            " [ 1 26  1 10  3 28  1  7 39  5 13 46  4 45 15  9  1 12  1  8  1 30 31 22\n",
            "  1  2  1 29  1 19 17  1  1 44  1  1  1  1  1  6 41  1 24 25 11 35 43 32\n",
            " 36  1 33 38 40  1 23 20 21  1 27  1  1  1 37 42 18  1  1 34 16 14  1]\n"
          ]
        }
      ]
    },
    {
      "cell_type": "markdown",
      "source": [
        "<b> We will now check the number of features that contribute to the target variable by plotting </b>"
      ],
      "metadata": {
        "id": "Cw_3YtP7ELjV"
      }
    },
    {
      "cell_type": "code",
      "source": [
        "min_features_to_select = 1\n",
        "plt.figure()\n",
        "plt.xlabel(\"Number of selected features\")\n",
        "plt.ylabel(\"Cross Validation Accuracy\")\n",
        "plt.plot(\n",
        "    range(min_features_to_select, len(selector.cv_results_['split0_test_score']) + min_features_to_select),\n",
        "    selector.cv_results_['split0_test_score'],\n",
        ")\n",
        "plt.plot(\n",
        "    range(min_features_to_select, len(selector.cv_results_['split1_test_score']) + min_features_to_select),\n",
        "    selector.cv_results_['split1_test_score'],\n",
        ")\n",
        "plt.show()"
      ],
      "metadata": {
        "colab": {
          "base_uri": "https://localhost:8080/",
          "height": 283
        },
        "id": "5idI4s5hEKxQ",
        "outputId": "94a175b1-b2a9-45e7-a787-9075d27c7f08"
      },
      "execution_count": null,
      "outputs": [
        {
          "output_type": "display_data",
          "data": {
            "text/plain": [
              "<Figure size 432x288 with 1 Axes>"
            ],
            "image/png": "[encoded data removed]"
          },
          "metadata": {
            "needs_background": "light"
          }
        }
      ]
    },
    {
      "cell_type": "markdown",
      "source": [
        "<b> Observation : </b>\n",
        "<br>\n",
        "We can notice that with 8 features we can achieve approximately 85% accuracy."
      ],
      "metadata": {
        "id": "6naZ5d7HFLmq"
      }
    },
    {
      "cell_type": "code",
      "source": [
        "# We will store the names of those features seen during fit\n",
        "q = selector.feature_names_in_"
      ],
      "metadata": {
        "id": "NYvzrX18RPv5"
      },
      "execution_count": null,
      "outputs": []
    },
    {
      "cell_type": "code",
      "source": [
        "res = dict(zip(q, z)) # We are making a dictionary where key -> feature name and it's corresponding value -> the rank of the feature \n",
        "col_1 = [] # Column 1 is a list which will store all the selected features. Criteria for the feature to be selected : Rank of feature <= 8\n",
        "for i,j in res.items():\n",
        "  if j <= 8:\n",
        "    col_1.append(i)\n",
        "print(col_1)    "
      ],
      "metadata": {
        "colab": {
          "base_uri": "https://localhost:8080/"
        },
        "id": "uhEy_1erRXTZ",
        "outputId": "61f85240-b02e-4c02-b7cf-b92df7c8cd50"
      },
      "execution_count": null,
      "outputs": [
        {
          "output_type": "stream",
          "name": "stdout",
          "text": [
            "['DYRK1A_N', 'NR1_N', 'pAKT_N', 'pCAMKII_N', 'pCREB_N', 'pJNK_N', 'pNR2A_N', 'BRAF_N', 'CREB_N', 'ELK_N', 'ERK_N', 'TRKA_N', 'RSK_N', 'APP_N', 'MTOR_N', 'DSCR1_N', 'AMPKA_N', 'pNUMB_N', 'RAPTOR_N', 'TIAM1_N', 'pP70S6_N', 'NUMB_N', 'P70S6_N', 'pPKCG_N', 'ERBB4_N', 'GluR3_N', 'pCASP9_N', 'SNCA_N', 'Ubiquitin_N', 'pGSK3B_Tyr216_N', 'pCFOS_N', 'SYP_N', 'CaNA_N']\n"
          ]
        }
      ]
    },
    {
      "cell_type": "code",
      "source": [
        "x1 = pd.DataFrame(xd, columns = col_1)\n",
        "print(x1)"
      ],
      "metadata": {
        "colab": {
          "base_uri": "https://localhost:8080/"
        },
        "id": "WjLHKEDuS36z",
        "outputId": "08316a92-5120-405a-b6cb-7e6e924ef43c"
      },
      "execution_count": null,
      "outputs": [
        {
          "output_type": "stream",
          "name": "stdout",
          "text": [
            "     DYRK1A_N     NR1_N    pAKT_N  pCAMKII_N   pCREB_N    pJNK_N   pNR2A_N  \\\n",
            "0    0.239745  1.471921 -0.351734  -0.898820  0.648744 -0.148771 -0.638085   \n",
            "1    0.279648  1.393675 -0.533878  -0.963191  0.479587 -0.292219 -0.735638   \n",
            "2    0.259888  1.095124 -0.600347  -0.970144  0.585066 -0.444364 -0.655447   \n",
            "3    0.015969  0.452418 -0.249043  -1.073520 -0.163587 -0.337665 -1.097899   \n",
            "4   -0.010091  0.157224 -0.496664  -1.087947 -0.641792 -0.528799 -1.164159   \n",
            "..        ...       ...       ...        ...       ...       ...       ...   \n",
            "757 -0.158354 -0.606540  0.045756  -0.240028  0.313292  0.075654 -0.308574   \n",
            "758 -0.130826 -0.373432  0.096829  -0.101537  0.638293  0.309205 -0.078981   \n",
            "759 -0.201944 -0.700047  0.681455  -0.399737  0.366285  0.793714 -0.358233   \n",
            "760 -0.262164 -0.895755  0.319300  -0.445606  0.174685  0.231584 -0.403817   \n",
            "761 -0.262225 -0.726855  0.401220  -0.349979  0.471977  0.729980 -0.344617   \n",
            "\n",
            "       BRAF_N    CREB_N     ELK_N  ...   pPKCG_N   ERBB4_N   GluR3_N  \\\n",
            "0    0.106532 -0.100029  2.030407  ... -0.409726 -0.731063  0.098131   \n",
            "1    0.040462 -0.313371  1.716130  ... -0.416401 -0.384552  0.374696   \n",
            "2    0.038316 -0.304251  1.729552  ... -0.260318 -0.709516  0.560666   \n",
            "3   -0.020632 -0.079579  0.299294  ... -0.098511 -1.005008  0.288487   \n",
            "4   -0.095760 -0.266532  0.413943  ... -0.037064 -0.921105  0.856006   \n",
            "..        ...       ...       ...  ...       ...       ...       ...   \n",
            "757 -0.218269  0.455545 -0.267139  ...  1.743426  0.337865 -0.404641   \n",
            "758 -0.165288  1.043604 -0.052211  ...  1.713158  0.167175 -0.554998   \n",
            "759 -0.158685  1.187948 -0.430776  ...  1.526555 -0.222218 -0.866606   \n",
            "760 -0.167979  1.062983 -0.499318  ...  1.626188 -0.009936 -0.674514   \n",
            "761 -0.190616  1.024460 -0.514976  ...  1.594628  0.152448 -0.872550   \n",
            "\n",
            "     pCASP9_N    SNCA_N  Ubiquitin_N  pGSK3B_Tyr216_N   pCFOS_N     SYP_N  \\\n",
            "0    0.281954 -2.087024    -1.095437        -0.158189 -0.905740 -0.371984   \n",
            "1    0.557972 -2.026218    -1.298497         0.025901 -1.078036 -0.139388   \n",
            "2    0.524945 -2.088555    -1.373918        -0.000721 -0.996447 -0.232612   \n",
            "3   -0.196792 -1.619239    -1.412237        -0.140312 -0.780342 -0.940673   \n",
            "4    0.005746 -1.633649    -1.368552         0.331411 -0.804686 -0.258680   \n",
            "..        ...       ...          ...              ...       ...       ...   \n",
            "757  0.360773 -0.439440    -0.567211         1.606940 -0.595855 -0.145392   \n",
            "758  0.501014 -0.213325    -0.463558         2.043400 -0.879681 -0.085877   \n",
            "759 -0.118256 -0.283178    -0.224671         1.060202 -0.635791 -0.441216   \n",
            "760  0.140343 -0.214345    -0.122178         1.549577 -0.378055  0.154848   \n",
            "761  0.647929 -0.208431     0.291279         1.919523 -0.813596 -0.418099   \n",
            "\n",
            "       CaNA_N  \n",
            "0    0.943046  \n",
            "1    1.144768  \n",
            "2    1.687436  \n",
            "3    1.016991  \n",
            "4    1.430089  \n",
            "..        ...  \n",
            "757  0.345848  \n",
            "758  0.470936  \n",
            "759  0.224291  \n",
            "760  0.550098  \n",
            "761  0.481340  \n",
            "\n",
            "[762 rows x 33 columns]\n"
          ]
        }
      ]
    },
    {
      "cell_type": "code",
      "source": [
        "# We will be using the SVM estimator with linear kernel for multi-class classification\n",
        "from sklearn.feature_selection import RFECV\n",
        "\n",
        "svc = svm.SVC(kernel = 'linear')\n",
        "svc.fit(xd,y22)\n",
        "selector = RFECV(estimator = svc, step=1, cv=10)\n",
        "selector = selector.fit(xd, y22)\n",
        "z = selector.ranking_ \n",
        "# We can now see the ranking of features that are helpful in predicting the target\n",
        "print(\"Ranking of features : \\n\",z)"
      ],
      "metadata": {
        "colab": {
          "base_uri": "https://localhost:8080/"
        },
        "id": "pLFtwjAYTDim",
        "outputId": "3434d141-339d-4c53-bf4f-c919c5502003"
      },
      "execution_count": null,
      "outputs": [
        {
          "output_type": "stream",
          "name": "stdout",
          "text": [
            "Ranking of features : \n",
            " [10  1  1  1 15  1  1  7 18  1  1 21  1  1 27  1  1  1 11  2  1  1 20  9\n",
            "  1  4  1  1  1  1  1  1 19 28  1  1  6 16 13  1 22  1  1  1  5  8  3  1\n",
            " 12 17  1  1  1  1 14  1  1  1 24  1  1  1  1 30  1 25 29 26 31 23  1]\n"
          ]
        }
      ]
    },
    {
      "cell_type": "markdown",
      "source": [
        "<b> We will now check the number of features that contribute to the target variable by plotting </b>"
      ],
      "metadata": {
        "id": "f4fc6vt1T1K7"
      }
    },
    {
      "cell_type": "code",
      "source": [
        "min_features_to_select = 1\n",
        "plt.figure()\n",
        "plt.xlabel(\"Number of selected features\")\n",
        "plt.ylabel(\"Cross Validation Accuracy\")\n",
        "plt.plot(\n",
        "    range(min_features_to_select, len(selector.cv_results_['split0_test_score']) + min_features_to_select),\n",
        "    selector.cv_results_['split0_test_score'],\n",
        ")\n",
        "plt.plot(\n",
        "    range(min_features_to_select, len(selector.cv_results_['split1_test_score']) + min_features_to_select),\n",
        "    selector.cv_results_['split1_test_score'],\n",
        ")\n",
        "plt.plot(\n",
        "    range(min_features_to_select, len(selector.cv_results_['split2_test_score']) + min_features_to_select),\n",
        "    selector.cv_results_['split2_test_score'],\n",
        ")\n",
        "plt.plot(\n",
        "    range(min_features_to_select, len(selector.cv_results_['split3_test_score']) + min_features_to_select),\n",
        "    selector.cv_results_['split3_test_score'],\n",
        ")\n",
        "plt.plot(\n",
        "    range(min_features_to_select, len(selector.cv_results_['split4_test_score']) + min_features_to_select),\n",
        "    selector.cv_results_['split4_test_score'],\n",
        ")\n",
        "plt.plot(\n",
        "    range(min_features_to_select, len(selector.cv_results_['split5_test_score']) + min_features_to_select),\n",
        "    selector.cv_results_['split5_test_score'],\n",
        ")\n",
        "plt.plot(\n",
        "    range(min_features_to_select, len(selector.cv_results_['split6_test_score']) + min_features_to_select),\n",
        "    selector.cv_results_['split6_test_score'],\n",
        ")\n",
        "plt.plot(\n",
        "    range(min_features_to_select, len(selector.cv_results_['split7_test_score']) + min_features_to_select),\n",
        "    selector.cv_results_['split7_test_score'],\n",
        ")\n",
        "plt.plot(\n",
        "    range(min_features_to_select, len(selector.cv_results_['split8_test_score']) + min_features_to_select),\n",
        "    selector.cv_results_['split8_test_score'],\n",
        ")\n",
        "plt.plot(\n",
        "    range(min_features_to_select, len(selector.cv_results_['split9_test_score']) + min_features_to_select),\n",
        "    selector.cv_results_['split9_test_score'],\n",
        ")\n",
        "plt.show()"
      ],
      "metadata": {
        "colab": {
          "base_uri": "https://localhost:8080/",
          "height": 279
        },
        "id": "DctHaIDAT1pv",
        "outputId": "725c3743-1209-469b-a392-168482251fe3"
      },
      "execution_count": null,
      "outputs": [
        {
          "output_type": "display_data",
          "data": {
            "text/plain": [
              "<Figure size 432x288 with 1 Axes>"
            ],
            "image/png": "[encoded data removed]"
          },
          "metadata": {
            "needs_background": "light"
          }
        }
      ]
    },
    {
      "cell_type": "markdown",
      "source": [
        "<b> Observation : </b>\n",
        "<br>\n",
        "We can notice that with 8 features we can achieve approximately 95% accuracy."
      ],
      "metadata": {
        "id": "Y5cgJkzTUQqu"
      }
    },
    {
      "cell_type": "code",
      "source": [
        "res = dict(zip(q,z)) \n",
        "col_2 = []\n",
        "\n",
        "for i,j in res.items():\n",
        "  if j<=8:\n",
        "    col_2.append(i)\n",
        "print(col_2)"
      ],
      "metadata": {
        "colab": {
          "base_uri": "https://localhost:8080/"
        },
        "id": "CWq3CVPiUNih",
        "outputId": "8660f8da-2f9e-4481-d1f3-7aeb994dad4c"
      },
      "execution_count": null,
      "outputs": [
        {
          "output_type": "stream",
          "name": "stdout",
          "text": [
            "['BDNF_N', 'NR1_N', 'NR2A_N', 'pBRAF_N', 'pCAMKII_N', 'pCREB_N', 'pJNK_N', 'PKCA_N', 'pNR2A_N', 'pPKCAB_N', 'AKT_N', 'BRAF_N', 'CAMKII_N', 'ELK_N', 'ERK_N', 'GSK3B_N', 'TRKA_N', 'RSK_N', 'APP_N', 'SOD1_N', 'MTOR_N', 'P38_N', 'pMTOR_N', 'DSCR1_N', 'pNUMB_N', 'RAPTOR_N', 'TIAM1_N', 'P70S6_N', 'pPKCG_N', 'CDK5_N', 'S6_N', 'ADARB1_N', 'AcetylH3K9_N', 'RRP1_N', 'BAX_N', 'nNOS_N', 'Tau_N', 'GFAP_N', 'GluR3_N', 'IL1B_N', 'P3525_N', 'pCASP9_N', 'SNCA_N', 'Ubiquitin_N', 'pGSK3B_Tyr216_N', 'SHH_N', 'BCL2_N', 'CaNA_N']\n"
          ]
        }
      ]
    },
    {
      "cell_type": "code",
      "source": [
        "x2 = pd.DataFrame(xd, columns = col_2)\n",
        "print(x2)"
      ],
      "metadata": {
        "colab": {
          "base_uri": "https://localhost:8080/"
        },
        "id": "O-G1ZFz_UX5s",
        "outputId": "c3881410-180c-408d-d95a-1365b4264cf8"
      },
      "execution_count": null,
      "outputs": [
        {
          "output_type": "stream",
          "name": "stdout",
          "text": [
            "       BDNF_N     NR1_N    NR2A_N   pBRAF_N  pCAMKII_N   pCREB_N    pJNK_N  \\\n",
            "0    2.372452  1.471921  2.269552 -0.186528  -0.898820  0.648744 -0.148771   \n",
            "1    1.976690  1.393675  1.940975 -0.365510  -0.963191  0.479587 -0.292219   \n",
            "2    2.117287  1.095124  1.873152 -0.256006  -0.970144  0.585066 -0.444364   \n",
            "3    0.833934  0.452418  1.181185 -0.228099  -1.073520 -0.163587 -0.337665   \n",
            "4    0.837716  0.157224  0.900303 -0.334981  -1.087947 -0.641792 -0.528799   \n",
            "..        ...       ...       ...       ...        ...       ...       ...   \n",
            "757 -0.070527 -0.606540 -0.611634  0.683866  -0.240028  0.313292  0.075654   \n",
            "758  0.042935 -0.373432 -0.507093  0.313293  -0.101537  0.638293  0.309205   \n",
            "759 -0.027925 -0.700047 -0.871242  0.761884  -0.399737  0.366285  0.793714   \n",
            "760 -0.469880 -0.895755 -1.183635  0.296632  -0.445606  0.174685  0.231584   \n",
            "761 -0.393614 -0.726855 -1.001611  0.614567  -0.349979  0.471977  0.729980   \n",
            "\n",
            "       PKCA_N   pNR2A_N  pPKCAB_N  ...   GluR3_N    IL1B_N   P3525_N  \\\n",
            "0    1.744386 -0.638085  1.636758  ...  0.098131 -1.146591 -1.380069   \n",
            "1    1.400565 -0.735638  1.087449  ...  0.374696 -0.840216 -1.045982   \n",
            "2    1.298019 -0.655447  1.035656  ...  0.560666 -0.216721 -1.121745   \n",
            "3    1.217463 -1.097899  1.272925  ...  0.288487 -1.146142 -1.262071   \n",
            "4    0.937971 -1.164159  1.026794  ...  0.856006 -0.558730 -1.239898   \n",
            "..        ...       ...       ...  ...       ...       ...       ...   \n",
            "757 -0.236481 -0.308574 -0.139340  ... -0.404641 -0.357659  0.731460   \n",
            "758  0.124020 -0.078981 -0.056108  ... -0.554998  0.043019  0.877892   \n",
            "759  0.129006 -0.358233 -0.037070  ... -0.866606 -0.641963  0.641359   \n",
            "760 -0.152548 -0.403817 -0.274401  ... -0.674514 -0.010527  1.254477   \n",
            "761 -0.160116 -0.344617 -0.212771  ... -0.872550  0.139559  1.203256   \n",
            "\n",
            "     pCASP9_N    SNCA_N  Ubiquitin_N  pGSK3B_Tyr216_N     SHH_N    BCL2_N  \\\n",
            "0    0.281954 -2.087024    -1.095437        -0.158189 -1.269701 -0.906043   \n",
            "1    0.557972 -2.026218    -1.298497         0.025901 -0.878703 -0.872907   \n",
            "2    0.524945 -2.088555    -1.373918        -0.000721 -1.106122 -0.914624   \n",
            "3   -0.196792 -1.619239    -1.412237        -0.140312 -1.159352 -0.613792   \n",
            "4    0.005746 -1.633649    -1.368552         0.331411 -0.702678 -0.622289   \n",
            "..        ...       ...          ...              ...       ...       ...   \n",
            "757  0.360773 -0.439440    -0.567211         1.606940 -0.346465 -0.920703   \n",
            "758  0.501014 -0.213325    -0.463558         2.043400 -0.563470 -0.938905   \n",
            "759 -0.118256 -0.283178    -0.224671         1.060202 -0.510605 -0.189699   \n",
            "760  0.140343 -0.214345    -0.122178         1.549577 -0.979130 -0.082676   \n",
            "761  0.647929 -0.208431     0.291279         1.919523 -0.024514 -0.622944   \n",
            "\n",
            "       CaNA_N  \n",
            "0    0.943046  \n",
            "1    1.144768  \n",
            "2    1.687436  \n",
            "3    1.016991  \n",
            "4    1.430089  \n",
            "..        ...  \n",
            "757  0.345848  \n",
            "758  0.470936  \n",
            "759  0.224291  \n",
            "760  0.550098  \n",
            "761  0.481340  \n",
            "\n",
            "[762 rows x 48 columns]\n"
          ]
        }
      ]
    },
    {
      "cell_type": "markdown",
      "source": [
        "## **Task 7**  \n",
        "\n",
        "See if removing some features systematically will improve your models (e.g. using recursive feature elimination)"
      ],
      "metadata": {
        "id": "ZRYftwFqUjoW"
      }
    },
    {
      "cell_type": "code",
      "source": [
        "# Using SVM for binary classification\n",
        "hyper = {'kernel':('rbf','linear','poly'),'C':[.001,.01,1,10],'degree':[2,3,5,8]}\n",
        "svc = svm.SVC(probability = True)\n",
        "scoring = ['balanced_accuracy','f1','roc_auc']\n",
        "\n",
        "for i in scoring:\n",
        "  clf = GridSearchCV(estimator = svc, param_grid = hyper, scoring = i)\n",
        "  clf.fit(np.array(x1),np.squeeze(y11))\n",
        "  print('Best hyperparameter : ', clf.best_params_) # Print best parameter after tuning\n",
        "  print('Best ' + i + ' : ' + str(clf.best_score_))"
      ],
      "metadata": {
        "colab": {
          "base_uri": "https://localhost:8080/"
        },
        "id": "31unXTPZVYXK",
        "outputId": "ec05c4f7-0853-4991-8963-7fada289a4b4"
      },
      "execution_count": null,
      "outputs": [
        {
          "output_type": "stream",
          "name": "stdout",
          "text": [
            "Best hyperparameter :  {'C': 1, 'degree': 2, 'kernel': 'linear'}\n",
            "Best balanced_accuracy : 0.8790515231894542\n",
            "Best hyperparameter :  {'C': 1, 'degree': 2, 'kernel': 'linear'}\n",
            "Best f1 : 0.8619461015052112\n",
            "Best hyperparameter :  {'C': 1, 'degree': 2, 'kernel': 'linear'}\n",
            "Best roc_auc : 0.9550625619591135\n"
          ]
        }
      ]
    },
    {
      "cell_type": "code",
      "source": [
        "# Using SVM for multi-class classification\n",
        "hyper = {'kernel':('rbf','linear','poly'),'C':[.001,.01,1,10],'degree':[2,3,5,8]}\n",
        "svc = svm.SVC(probability = True)\n",
        "scoring = ['f1_macro','roc_auc_ovr']\n",
        "\n",
        "for i in scoring:\n",
        "  clf = GridSearchCV(estimator = svc, param_grid = hyper, scoring = i)\n",
        "  clf.fit(np.array(x2),np.squeeze(y22))\n",
        "  print('Best hyperparameter : ', clf.best_params_) # Print best parameter after tuning\n",
        "  print('Best ' + i + ' : ' + str(clf.best_score_))"
      ],
      "metadata": {
        "colab": {
          "base_uri": "https://localhost:8080/"
        },
        "id": "sXE_f22PWHMc",
        "outputId": "809d3978-efa9-49c4-d793-67564e906c11"
      },
      "execution_count": null,
      "outputs": [
        {
          "output_type": "stream",
          "name": "stdout",
          "text": [
            "Best hyperparameter :  {'C': 10, 'degree': 2, 'kernel': 'linear'}\n",
            "Best f1_macro : 0.8428961809802145\n",
            "Best hyperparameter :  {'C': 10, 'degree': 3, 'kernel': 'linear'}\n",
            "Best roc_auc_ovr : 0.9549818227307082\n"
          ]
        }
      ]
    },
    {
      "cell_type": "code",
      "source": [
        "# Using Neural Network for binary classification\n",
        "from sklearn.neural_network import MLPClassifier  #using neural network for binary\n",
        "\n",
        "nn = MLPClassifier()\n",
        "param = {'alpha' : [0.001, 0.01, 0.1, 1, 10], 'hidden_layer_sizes' : [(10,),(15,),(20,),(30,),(50,)]}\n",
        "scoring = ['balanced_accuracy','f1','roc_auc']\n",
        "\n",
        "for i in scoring:\n",
        "  clf = GridSearchCV(estimator = nn, param_grid = param, scoring = i)\n",
        "  clf.fit(np.array(x1), np.squeeze(y11))\n",
        "  print('Best hyperparameter : ', clf.best_params_) # Print best parameter after tuning\n",
        "  print('Best ' + i + ' : ' + str(clf.best_score_))"
      ],
      "metadata": {
        "colab": {
          "base_uri": "https://localhost:8080/"
        },
        "id": "W2mKHLxbXPDJ",
        "outputId": "1459da3b-8320-4bea-fa57-9af9e65a6b81"
      },
      "execution_count": null,
      "outputs": [
        {
          "output_type": "stream",
          "name": "stdout",
          "text": [
            "Best hyperparameter :  {'alpha': 0.001, 'hidden_layer_sizes': (15,)}\n",
            "Best balanced_accuracy : 0.9099356964874208\n",
            "Best hyperparameter :  {'alpha': 0.1, 'hidden_layer_sizes': (30,)}\n",
            "Best f1 : 0.894529427348786\n",
            "Best hyperparameter :  {'alpha': 0.1, 'hidden_layer_sizes': (30,)}\n",
            "Best roc_auc : 0.9665696755351929\n"
          ]
        }
      ]
    },
    {
      "cell_type": "code",
      "source": [
        "# Using Neural Network for multi-class classification\n",
        "\n",
        "nn = MLPClassifier()\n",
        "param = {'alpha' : [0.001, 0.01, 0.1, 1, 10], 'hidden_layer_sizes' : [(10,),(15,),(20,),(30,),(50,)]}\n",
        "scoring = ['f1_macro','roc_auc_ovr']\n",
        "\n",
        "for i in scoring:\n",
        "  clf = GridSearchCV(estimator = nn, param_grid = param, scoring = i)\n",
        "  clf.fit(np.array(x2), np.squeeze(y22))\n",
        "  print('Best hyperparameter : ', clf.best_params_) # Print best parameter after tuning\n",
        "  print('Best ' + i + ' : ' + str(clf.best_score_))"
      ],
      "metadata": {
        "colab": {
          "base_uri": "https://localhost:8080/"
        },
        "id": "-9mDOO0LYLvo",
        "outputId": "2d73a29b-8445-4b54-e680-af582028c8db"
      },
      "execution_count": null,
      "outputs": [
        {
          "output_type": "stream",
          "name": "stdout",
          "text": [
            "Best hyperparameter :  {'alpha': 0.1, 'hidden_layer_sizes': (50,)}\n",
            "Best f1_macro : 0.7746852849033798\n",
            "Best hyperparameter :  {'alpha': 0.1, 'hidden_layer_sizes': (50,)}\n",
            "Best roc_auc_ovr : 0.9262731923520766\n"
          ]
        }
      ]
    },
    {
      "cell_type": "code",
      "source": [
        "# Using Random Forest for binary classification\n",
        "\n",
        "rf = RandomForestClassifier()\n",
        "param = {'max_depth': [2,4,6,8,10], 'max_features':['auto','sqrt','log2']}\n",
        "scoring = ['balanced_accuracy','f1','roc_auc']\n",
        "\n",
        "for i in scoring:\n",
        "  clf = GridSearchCV(estimator = rf, param_grid = param,scoring = i, n_jobs = -1)\n",
        "  clf.fit(np.array(x1),np.squeeze(y11))\n",
        "  print('Best hyperparameter : ', clf.best_params_) # Print best parameter after tuning\n",
        "  print('Best ' + i + ' : ' + str(clf.best_score_))"
      ],
      "metadata": {
        "colab": {
          "base_uri": "https://localhost:8080/"
        },
        "id": "8zYy8ZCPYomS",
        "outputId": "48a1075b-4292-4536-a5f1-302bf2d8bdd1"
      },
      "execution_count": null,
      "outputs": [
        {
          "output_type": "stream",
          "name": "stdout",
          "text": [
            "Best hyperparameter :  {'max_depth': 6, 'max_features': 'auto'}\n",
            "Best balanced_accuracy : 0.8008182621975726\n",
            "Best hyperparameter :  {'max_depth': 8, 'max_features': 'sqrt'}\n",
            "Best f1 : 0.7787055170906767\n",
            "Best hyperparameter :  {'max_depth': 6, 'max_features': 'auto'}\n",
            "Best roc_auc : 0.8763009404388715\n"
          ]
        }
      ]
    },
    {
      "cell_type": "code",
      "source": [
        "# Using Random Forest for multi-class classification\n",
        "\n",
        "rf = RandomForestClassifier()\n",
        "param = {'max_depth': [2,4,6,8,10], 'max_features':['auto','sqrt','log2']}\n",
        "scoring = ['f1_macro','roc_auc_ovr']\n",
        "\n",
        "for i in scoring:\n",
        "  clf = GridSearchCV(estimator = rf, param_grid = param,scoring = i, n_jobs = -1)\n",
        "  clf.fit(np.array(x2),np.squeeze(y22))\n",
        "  print('Best hyperparameter : ', clf.best_params_) # Print best parameter after tuning\n",
        "  print('Best ' + i + ' : ' + str(clf.best_score_))"
      ],
      "metadata": {
        "colab": {
          "base_uri": "https://localhost:8080/"
        },
        "id": "BGM8Hnn-Y_Px",
        "outputId": "deaa45ee-807d-41a9-eaa3-321848b713db"
      },
      "execution_count": null,
      "outputs": [
        {
          "output_type": "stream",
          "name": "stdout",
          "text": [
            "Best hyperparameter :  {'max_depth': 10, 'max_features': 'sqrt'}\n",
            "Best f1_macro : 0.6880646104439387\n",
            "Best hyperparameter :  {'max_depth': 10, 'max_features': 'log2'}\n",
            "Best roc_auc_ovr : 0.9115121817428278\n"
          ]
        }
      ]
    },
    {
      "cell_type": "markdown",
      "source": [
        "<b> Observation </b>\n",
        "<br>\n",
        "<table>\n",
        "  <tr>\n",
        "    <th>Model</th>\n",
        "    <th>Accuracy before Feature Selection</th>\n",
        "    <th>Accuracy after Feature Selection</th>\n",
        "  </tr>\n",
        "  <tr>\n",
        "    <td>SVM (Binary)</td>\n",
        "    <td>\n",
        "    balanced_accuracy : 0.7943533478016236\n",
        "    <br>\n",
        "    f1 : 0.7627587395089508\n",
        "    <br>\n",
        "    roc_auc : 0.8491230608471987\n",
        "    </td>\n",
        "    <td>\n",
        "    balanced_accuracy : 0.8790515231894542\n",
        "    <br>\n",
        "    f1 : 0.8619461015052112\n",
        "    <br>\n",
        "    roc_auc : 0.9550625619591135\n",
        "    </td>\n",
        "  </tr>\n",
        "  <tr>\n",
        "    <td>SVM (Multi-class)</td>\n",
        "    <td>\n",
        "    f1_macro : 0.7507966138359332\n",
        "    <br>\n",
        "    roc_auc_ovr : 0.9096260173042723\n",
        "    </td>\n",
        "    <td>\n",
        "    f1_macro : 0.8428961809802145\n",
        "    <br>\n",
        "    roc_auc_ovr : 0.9549818227307082\n",
        "    </td>\n",
        "  </tr>\n",
        "  <tr>\n",
        "    <td>Neural Network (Binary)</td>\n",
        "    <td>\n",
        "    balanced_accuracy : 0.7516373281890523\n",
        "    <br>\n",
        "    f1 : 0.7480573309706928\n",
        "    <br>\n",
        "    roc_auc : 0.8072057444471238\n",
        "    </td>\n",
        "    <td>\n",
        "    balanced_accuracy : 0.9099356964874208\n",
        "    <br>\n",
        "    f1 : 0.894529427348786\n",
        "    <br>\n",
        "    roc_auc : 0.9665696755351929\n",
        "    </td>\n",
        "  </tr>\n",
        "  <tr>\n",
        "    <td>Neural Network (Multi-class)</td>\n",
        "    <td>\n",
        "    f1_macro : 0.7459346906550578\n",
        "    <br>\n",
        "    roc_auc_ovr : 0.9047293946807858\n",
        "    </td>\n",
        "    <td>\n",
        "    f1_macro : 0.7746852849033798\n",
        "    <br>\n",
        "    roc_auc_ovr : 0.9262731923520766\n",
        "    </td>\n",
        "  </tr>\n",
        "  <tr>\n",
        "    <td>Random Forest (Binary)</td>\n",
        "    <td>\n",
        "    balanced_accuracy : 0.6559545052648501\n",
        "    <br>\n",
        "    f1 : 0.593618228976246\n",
        "    <br>\n",
        "    roc_auc : 0.7366787235752753\n",
        "    </td>\n",
        "    <td>\n",
        "    balanced_accuracy : 0.8008182621975726\n",
        "    <br>\n",
        "    f1 : 0.7787055170906767\n",
        "    <br>\n",
        "    roc_auc : 0.8763009404388715\n",
        "    </td>\n",
        "  </tr>\n",
        "  <tr>\n",
        "    <td>Random Forest (Multi-class)</td>\n",
        "    <td>\n",
        "    f1_macro : 0.6559517757619531\n",
        "    <br>\n",
        "    roc_auc_ovr : 0.8945966052964209\n",
        "    </td>\n",
        "    <td>\n",
        "    f1_macro : 0.6880646104439387\n",
        "    <br>\n",
        "    roc_auc_ovr : 0.9115121817428278\n",
        "    </td>\n",
        "  </tr>\n",
        "</table>\n",
        "<br>\n",
        "<b> We can see that after feature selection, the accuracy has increased in ALL the models. </b>"
      ],
      "metadata": {
        "id": "Bf9-mCZ0aS-I"
      }
    },
    {
      "cell_type": "markdown",
      "source": [
        "## **Task 8**  \n",
        "\n",
        "Finally, test a few promising models on the test data : https://www.ee.iitb.ac.in/~asethi/Dump/MouseTest.csv "
      ],
      "metadata": {
        "id": "9dUfze5fanot"
      }
    },
    {
      "cell_type": "code",
      "source": [
        "# Reading the test data\n",
        "test = pd.read_csv('https://www.ee.iitb.ac.in/~asethi/Dump/MouseTest.csv')\n",
        "\n",
        "test_x = test.iloc[:, :-2]\n",
        "test_y = test.iloc[:,-2:].values\n",
        "\n",
        "ty1 = test_y[:,:-1] # Binary classification\n",
        "ty2 = test_y[:,-1]  # Multi-class classification"
      ],
      "metadata": {
        "id": "E_-NyebGatE4"
      },
      "execution_count": 18,
      "outputs": []
    },
    {
      "cell_type": "code",
      "source": [
        "from sklearn.preprocessing import LabelEncoder\n",
        "le = LabelEncoder()\n",
        "ty1 = le.fit_transform(ty1)\n",
        "\n",
        "le = LabelEncoder()\n",
        "ty2 = le.fit_transform(ty2)"
      ],
      "metadata": {
        "id": "0im_KSuLbBee"
      },
      "execution_count": null,
      "outputs": []
    },
    {
      "cell_type": "code",
      "source": [
        "col_lst = []\n",
        "for col in x.columns.values:\n",
        "  col_lst.append(col)"
      ],
      "metadata": {
        "id": "IHUVFCjkjUnB"
      },
      "execution_count": null,
      "outputs": []
    },
    {
      "cell_type": "code",
      "source": [
        "# Imputing missing variable values by using the same iterative computing that was used for the training data\n",
        "imp = IterativeImputer(max_iter = 10, random_state = 0)\n",
        "imp.fit(x)\n",
        "test_x = imp.transform(test_x) \n",
        "\n",
        "# Scaling the test variable by using the same scaling factor used for the training data\n",
        "scaler = preprocessing.StandardScaler()\n",
        "scaler.fit(x)\n",
        "test_x = pd.DataFrame(scaler.transform(test_x), columns = col_lst) \n",
        "\n",
        "# Features desirable for binary targets\n",
        "test_x1 = pd.DataFrame(test_x, columns = col_1)\n",
        "\n",
        "# Features desirable for multi-class targets\n",
        "test_x2 = pd.DataFrame(test_x, columns = col_2) "
      ],
      "metadata": {
        "id": "GpaJBBUrbCs5"
      },
      "execution_count": null,
      "outputs": []
    },
    {
      "cell_type": "markdown",
      "source": [
        "<b> Using reasonable hyperparameters </b>"
      ],
      "metadata": {
        "id": "1d3XmQs7bFcL"
      }
    },
    {
      "cell_type": "code",
      "source": [
        "# Fitting SVM model on binary class due to it's high accuracy\n",
        "from sklearn import svm\n",
        "svc1 = svm.SVC(kernel = 'linear', C = 1, degree = 2)\n",
        "\n",
        "svc1.fit(np.array(x1),np.squeeze(y11))\n",
        "\n",
        "# Predicted target variables for binary class\n",
        "y_p1 = svc1.predict(test_x1) "
      ],
      "metadata": {
        "id": "I0S2OLeSbE3C"
      },
      "execution_count": null,
      "outputs": []
    },
    {
      "cell_type": "code",
      "source": [
        "# Checking accuracy of model on test data\n",
        "from sklearn.metrics import f1_score\n",
        "\n",
        "f1 = f1_score(y_p1, ty1)\n",
        "print('f1: %.2f' % (f1*100))\n",
        "roc = roc_auc_score(y_p1, ty1)\n",
        "print('roc: %.2f' % (roc*100)) "
      ],
      "metadata": {
        "id": "TKOYSWvfbO7P",
        "colab": {
          "base_uri": "https://localhost:8080/"
        },
        "outputId": "aa8eea72-518f-4f4e-bba5-eb8abc0680c5"
      },
      "execution_count": null,
      "outputs": [
        {
          "output_type": "stream",
          "name": "stdout",
          "text": [
            "f1: 61.02\n",
            "roc: 67.99\n"
          ]
        }
      ]
    },
    {
      "cell_type": "code",
      "source": [
        "# Fitting SVM model on multi-class due to high accuracy\n",
        "svc = svm.SVC(kernel = 'linear',C = 10,degree = 2,probability=True)\n",
        "svc.fit(np.array(x2),np.squeeze(y22))\n",
        "\n",
        "# Predicted target variables for multi-class\n",
        "y_p2 = svc.predict(test_x2) \n",
        "\n",
        "# Predicting probability of multi-class data for roc_auc score\n",
        "y_pred_2 = svc.predict_proba(test_x2) "
      ],
      "metadata": {
        "id": "C-mOlTsVbQKR"
      },
      "execution_count": null,
      "outputs": []
    },
    {
      "cell_type": "code",
      "source": [
        "y_p2"
      ],
      "metadata": {
        "id": "iSEov7QcbSFx",
        "colab": {
          "base_uri": "https://localhost:8080/"
        },
        "outputId": "eec6b4cd-5ce9-443d-a13a-5652e4ecfb3e"
      },
      "execution_count": null,
      "outputs": [
        {
          "output_type": "execute_result",
          "data": {
            "text/plain": [
              "array([3, 3, 2, 2, 3, 3, 2, 2, 2, 2, 2, 2, 2, 2, 2, 0, 3, 3, 0, 0, 0, 0,\n",
              "       0, 0, 0, 0, 0, 0, 0, 0, 3, 3, 3, 1, 1, 1, 1, 1, 1, 1, 1, 1, 1, 1,\n",
              "       1, 1, 1, 1, 1, 1, 1, 1, 1, 2, 2, 2, 1, 2, 2, 2, 1, 1, 1, 1, 1, 1,\n",
              "       1, 1, 1, 1, 1, 1, 1, 1, 1, 2, 2, 2, 2, 2, 2, 2, 2, 2, 2, 2, 2, 2,\n",
              "       2, 2, 2, 2, 2, 2, 2, 2, 2, 2, 2, 2, 2, 2, 2, 2, 2, 3, 3, 3, 1, 1,\n",
              "       1, 1, 1, 3, 1, 3, 1, 1, 0, 0, 1, 1, 1, 1, 1, 1, 1, 1, 1, 1, 1, 1,\n",
              "       1, 1, 1, 1, 1, 1, 1, 1, 1, 1, 1, 1, 0, 0, 0, 0, 0, 0, 0, 0, 0, 0,\n",
              "       0, 0, 0, 0, 0, 0, 0, 0, 0, 0, 0, 1, 1, 1, 1, 1, 1, 1, 1, 1, 2, 1,\n",
              "       0, 2, 2, 0, 2, 2, 2, 0, 2, 2, 2, 2, 2, 2, 2, 2, 2, 2, 2, 2, 2, 2,\n",
              "       2, 2, 2, 2, 2, 2, 2, 2, 2, 2, 2, 2, 3, 3, 3, 3, 3, 3, 1, 1, 0, 2,\n",
              "       2, 0, 2, 2, 2])"
            ]
          },
          "metadata": {},
          "execution_count": 45
        }
      ]
    },
    {
      "cell_type": "code",
      "source": [
        "# Checking accuracy of model on test data\n",
        "from sklearn.metrics import f1_score\n",
        "accuracy = f1_score(ty2, y_p2, average='macro')\n",
        "print('f1_macro: %.2f' % (accuracy*100))\n",
        "roc = roc_auc_score(ty2, y_pred_2, average='macro', multi_class='ovr') # Calculating accuracy\n",
        "print('roc: ', roc*100)"
      ],
      "metadata": {
        "id": "F39V1V0pbTYK",
        "colab": {
          "base_uri": "https://localhost:8080/"
        },
        "outputId": "c291b0fc-8fa5-41dd-9dc2-b7e5b81bae76"
      },
      "execution_count": null,
      "outputs": [
        {
          "output_type": "stream",
          "name": "stdout",
          "text": [
            "f1_macro: 62.21\n",
            "roc:  85.38945005611673\n"
          ]
        }
      ]
    },
    {
      "cell_type": "code",
      "source": [
        "# Fitting neural network model on binary class\n",
        "nn1 = MLPClassifier(alpha = .001,hidden_layer_sizes=(15,))\n",
        "nn1.fit(np.array(x1),np.squeeze(y11))\n",
        "\n",
        "# Predicted target variables for binary class\n",
        "y_p11 = nn1.predict(test_x1) "
      ],
      "metadata": {
        "id": "_jbQnGZ9bU61"
      },
      "execution_count": null,
      "outputs": []
    },
    {
      "cell_type": "code",
      "source": [
        "y_p11"
      ],
      "metadata": {
        "id": "0GHZQU9QbXQz",
        "colab": {
          "base_uri": "https://localhost:8080/"
        },
        "outputId": "cbe6cdb2-b911-45e6-8387-c0d70cb0a9f9"
      },
      "execution_count": null,
      "outputs": [
        {
          "output_type": "execute_result",
          "data": {
            "text/plain": [
              "array([1, 1, 1, 1, 1, 1, 0, 1, 1, 1, 1, 1, 0, 0, 1, 1, 1, 1, 1, 1, 1, 0,\n",
              "       0, 0, 0, 0, 0, 0, 1, 0, 0, 0, 0, 0, 0, 0, 0, 0, 0, 0, 0, 0, 0, 0,\n",
              "       0, 0, 0, 0, 0, 0, 0, 0, 0, 0, 0, 0, 0, 0, 0, 0, 0, 1, 1, 0, 0, 0,\n",
              "       0, 0, 0, 0, 0, 0, 0, 0, 0, 1, 1, 1, 1, 1, 0, 0, 0, 0, 0, 0, 0, 0,\n",
              "       0, 0, 0, 0, 0, 0, 0, 0, 0, 0, 0, 0, 0, 0, 0, 0, 0, 0, 0, 0, 0, 0,\n",
              "       0, 0, 0, 0, 0, 0, 0, 0, 0, 1, 1, 1, 1, 0, 0, 0, 0, 0, 0, 0, 0, 0,\n",
              "       0, 0, 0, 1, 1, 1, 0, 1, 0, 0, 0, 0, 0, 0, 0, 0, 0, 0, 1, 1, 1, 0,\n",
              "       0, 0, 0, 0, 0, 0, 0, 0, 0, 0, 0, 1, 1, 1, 1, 1, 1, 0, 1, 0, 0, 0,\n",
              "       0, 0, 0, 0, 1, 1, 1, 1, 1, 1, 1, 1, 1, 0, 1, 1, 0, 1, 0, 1, 1, 1,\n",
              "       1, 1, 1, 1, 1, 1, 1, 1, 1, 1, 1, 1, 1, 1, 1, 1, 1, 1, 1, 1, 1, 0,\n",
              "       0, 0, 0, 0, 0])"
            ]
          },
          "metadata": {},
          "execution_count": 91
        }
      ]
    },
    {
      "cell_type": "code",
      "source": [
        "f1 = f1_score(y_p11, ty1)\n",
        "print('f1: %.2f' % (f1*100))\n",
        "roc = roc_auc_score(y_p11, ty1)\n",
        "print('roc: %.2f' % (roc*100)) "
      ],
      "metadata": {
        "id": "2PAtvCQzbYXF",
        "colab": {
          "base_uri": "https://localhost:8080/"
        },
        "outputId": "c0bd1b2b-4bbf-4a5e-cd6c-7ba132c76ec4"
      },
      "execution_count": null,
      "outputs": [
        {
          "output_type": "stream",
          "name": "stdout",
          "text": [
            "f1: 58.82\n",
            "roc: 67.46\n"
          ]
        }
      ]
    },
    {
      "cell_type": "code",
      "source": [
        "# Fitting neural network model on multi-class\n",
        "nn2 = MLPClassifier(alpha = 1,hidden_layer_sizes=(20,))\n",
        "nn2.fit(np.array(x2),np.squeeze(y22))\n",
        "\n",
        "# Predicted target variables for multi-class\n",
        "y_p22 = nn2.predict(test_x2)\n",
        "\n",
        "# Predicting probability\n",
        "y_pred22= nn2.predict_proba(test_x2) "
      ],
      "metadata": {
        "id": "3iLJfFPlbZ2e"
      },
      "execution_count": null,
      "outputs": []
    },
    {
      "cell_type": "code",
      "source": [
        "# Checking accuracy of model on test data\n",
        "from sklearn.metrics import f1_score\n",
        "accuracy = f1_score(y_p22, ty2,average='macro')\n",
        "print('f1_macro: %.2f' % (accuracy*100))\n",
        "\n",
        "# Calculating accuracy\n",
        "roc = roc_auc_score((ty2), y_pred22, average='macro', multi_class='ovr') \n",
        "print('roc: ', roc*100)"
      ],
      "metadata": {
        "id": "wRWXCP6ObbtF",
        "colab": {
          "base_uri": "https://localhost:8080/"
        },
        "outputId": "89d2c171-e836-49f7-e271-73ef0087c0a0"
      },
      "execution_count": null,
      "outputs": [
        {
          "output_type": "stream",
          "name": "stdout",
          "text": [
            "f1_macro: 60.04\n",
            "roc:  80.38159371492706\n"
          ]
        }
      ]
    },
    {
      "cell_type": "markdown",
      "source": [
        "<b> Observation </b>\n",
        "\n",
        "<table>\n",
        "  <tr>\n",
        "    <th>Model</th>\n",
        "    <th>Accuracy on Test Data</th>\n",
        "  </tr>\n",
        "  <tr>\n",
        "    <td>SVM (Binary)</td>\n",
        "    <td>\n",
        "    f1: 61.02\n",
        "    <br>\n",
        "    roc: 67.99\n",
        "    </td>\n",
        "  </tr>\n",
        "\n",
        "  <tr>\n",
        "    <td>SVM (Multi-class)</td>\n",
        "    <td>\n",
        "    f1_macro: 62.21\n",
        "    <br>\n",
        "    roc:  85.38945005611673\n",
        "    </td>\n",
        "  </tr>\n",
        "\n",
        "  <tr>\n",
        "    <td>Neural Network (Binary)</td>\n",
        "    <td>\n",
        "    f1: 58.82\n",
        "    <br>\n",
        "    roc: 67.46\n",
        "    </td>\n",
        "  </tr>\n",
        "\n",
        "  <tr>\n",
        "    <td>Neural Network (Multi-class)</td>\n",
        "    <td>\n",
        "    f1_macro: 60.04\n",
        "    <br>\n",
        "    roc:  80.38159371492706\n",
        "    </td>\n",
        "  </tr>\n",
        "\n",
        "</table>\n",
        "\n",
        "Here we can see that our models are giving good accuracy on test data hence we can conclude that among all the models these two i.e. SVM and neural network are best for binary and multi-class classification"
      ],
      "metadata": {
        "id": "N9GGhb3bbdZS"
      }
    },
    {
      "cell_type": "markdown",
      "source": [
        "# **Objective 2** : \n",
        "\n",
        "Practice using pre-trained neural networks to extract domain-specific features for new tasks.\n",
        "\n"
      ],
      "metadata": {
        "id": "SqzQyi-D8Pm-"
      }
    },
    {
      "cell_type": "markdown",
      "source": [
        "## **Task 9**\n",
        "\n",
        "Read the pytorch tutorial to use a pre-trained “ConvNet as fixed feature extractor” from https://pytorch.org/tutorials/beginner/transfer_learning_tutorial.html and you can ignore “finetuning the ConvNet”. Test this code out to see if it runs properly in your environment after eliminating code blocks that you do not need."
      ],
      "metadata": {
        "id": "nS3uv0dM8aSC"
      }
    },
    {
      "cell_type": "markdown",
      "source": [
        "<u>**ConvNet as a fixed feature extractor**</u>\n",
        "\n",
        "All the weights of the network expect that of the final fully connected layer are frozen. Infact, this last fully connected layer is replaced with a new one with random weights and only this layer is trained.\n",
        "\n",
        "Let's see how we can achieve this. We'll begin by importing the required libraries.\n"
      ],
      "metadata": {
        "id": "EK1Uaa-C9_KX"
      }
    },
    {
      "cell_type": "code",
      "execution_count": 1,
      "metadata": {
        "id": "NRtrziF6IFw1",
        "colab": {
          "base_uri": "https://localhost:8080/"
        },
        "outputId": "3a9e4b7c-54ef-4dbb-eab6-c960d7334d9a"
      },
      "outputs": [
        {
          "output_type": "execute_result",
          "data": {
            "text/plain": [
              "<matplotlib.pyplot._IonContext at 0x7ff972f64460>"
            ]
          },
          "metadata": {},
          "execution_count": 1
        }
      ],
      "source": [
        "from __future__ import print_function, division\n",
        "\n",
        "import torch\n",
        "import torch.nn as nn\n",
        "import torch.optim as optim\n",
        "from torch.optim import lr_scheduler\n",
        "import torch.backends.cudnn as cudnn\n",
        "import numpy as np\n",
        "import torchvision\n",
        "from torchvision import datasets, models, transforms\n",
        "import matplotlib.pyplot as plt\n",
        "import time\n",
        "import os\n",
        "import copy\n",
        "\n",
        "cudnn.benchmark = True\n",
        "plt.ion()   # interactive mode"
      ]
    },
    {
      "cell_type": "markdown",
      "source": [
        "<u>**Loading the Dataset**</u>\n",
        "\n",
        "We are now going to train a model to classify between **ants** and **bees**. Our training set contains about 120 training images each for ants and bees whereas the validation set contains about 75 validation images for each class. \n",
        "\n",
        "\n",
        "If we train a model from scratch, our model would not have been able to generalize well enough due to the very small dataset.\n",
        "\n",
        "However, since we are using transfer learning, we should be able to generalize reasonably well. "
      ],
      "metadata": {
        "id": "RpWvFUcE-16T"
      }
    },
    {
      "cell_type": "code",
      "source": [
        "# Data augmentation and normalization for training\n",
        "# Just normalization for validation\n",
        "data_transforms = {\n",
        "    'train': transforms.Compose([\n",
        "        transforms.RandomResizedCrop(224),\n",
        "        transforms.RandomHorizontalFlip(),\n",
        "        transforms.ToTensor(),\n",
        "        transforms.Normalize([0.485, 0.456, 0.406], [0.229, 0.224, 0.225])\n",
        "    ]),\n",
        "    'val': transforms.Compose([\n",
        "        transforms.Resize(256),\n",
        "        transforms.CenterCrop(224),\n",
        "        transforms.ToTensor(),\n",
        "        transforms.Normalize([0.485, 0.456, 0.406], [0.229, 0.224, 0.225])\n",
        "    ]),\n",
        "}\n",
        "\n",
        "data_dir = '/content/drive/MyDrive/EE769-A2/Objective-2/hymenoptera_data'\n",
        "image_datasets = {x: datasets.ImageFolder(os.path.join(data_dir, x),\n",
        "                                          data_transforms[x])\n",
        "                  for x in ['train', 'val']}\n",
        "dataloaders = {x: torch.utils.data.DataLoader(image_datasets[x], batch_size=4,\n",
        "                                             shuffle=True, num_workers=4)\n",
        "              for x in ['train', 'val']}\n",
        "dataset_sizes = {x: len(image_datasets[x]) for x in ['train', 'val']}\n",
        "class_names = image_datasets['train'].classes\n",
        "\n",
        "device = torch.device(\"cuda:0\" if torch.cuda.is_available() else \"cpu\")"
      ],
      "metadata": {
        "id": "ewpmFNnIAlrd",
        "colab": {
          "base_uri": "https://localhost:8080/"
        },
        "outputId": "346308f4-4aab-4378-ad1b-4976832ffafa"
      },
      "execution_count": 2,
      "outputs": [
        {
          "output_type": "stream",
          "name": "stderr",
          "text": [
            "/usr/local/lib/python3.9/dist-packages/torch/utils/data/dataloader.py:554: UserWarning: This DataLoader will create 4 worker processes in total. Our suggested max number of worker in current system is 2, which is smaller than what this DataLoader is going to create. Please be aware that excessive worker creation might get DataLoader running slow or even freeze, lower the worker number to avoid potential slowness/freeze if necessary.\n",
            "  warnings.warn(_create_warning_msg(\n"
          ]
        }
      ]
    },
    {
      "cell_type": "markdown",
      "source": [
        "<u>**Visualizing a few images**</u>\n"
      ],
      "metadata": {
        "id": "FOCZJXsgArVu"
      }
    },
    {
      "cell_type": "code",
      "source": [
        "def imshow(inp, title=None):\n",
        "    \"\"\"Imshow for Tensor.\"\"\"\n",
        "    inp = inp.numpy().transpose((1, 2, 0))\n",
        "    mean = np.array([0.485, 0.456, 0.406])\n",
        "    std = np.array([0.229, 0.224, 0.225])\n",
        "    inp = std * inp + mean\n",
        "    inp = np.clip(inp, 0, 1)\n",
        "    plt.imshow(inp)\n",
        "    if title is not None:\n",
        "        plt.title(title)\n",
        "    plt.pause(0.001)  # pause a bit so that plots are updated\n",
        "\n",
        "\n",
        "# Get a batch of training data\n",
        "inputs, classes = next(iter(dataloaders['train']))\n",
        "\n",
        "# Make a grid from batch\n",
        "out = torchvision.utils.make_grid(inputs)\n",
        "\n",
        "imshow(out, title=[class_names[x] for x in classes])"
      ],
      "metadata": {
        "id": "P9bak8gTCSSX",
        "colab": {
          "base_uri": "https://localhost:8080/",
          "height": 148
        },
        "outputId": "68388c40-cb2a-43be-8505-1f28884f0b2e"
      },
      "execution_count": 3,
      "outputs": [
        {
          "output_type": "display_data",
          "data": {
            "text/plain": [
              "<Figure size 432x288 with 1 Axes>"
            ],
            "image/png": "[encoded data removed]"
          },
          "metadata": {
            "needs_background": "light"
          }
        }
      ]
    },
    {
      "cell_type": "markdown",
      "source": [
        "<u>**Training the model**</u>\n",
        "\n"
      ],
      "metadata": {
        "id": "Ct0bbIKXCVTj"
      }
    },
    {
      "cell_type": "code",
      "source": [
        "# This is a general function to train a model\n",
        "def train_model(model, criterion, optimizer, scheduler, num_epochs=25):\n",
        "    since = time.time()\n",
        "\n",
        "    best_model_wts = copy.deepcopy(model.state_dict())\n",
        "    best_acc = 0.0\n",
        "\n",
        "    for epoch in range(num_epochs):\n",
        "        print(f'Epoch {epoch}/{num_epochs - 1}')\n",
        "        print('-' * 10)\n",
        "\n",
        "        # Each epoch has a training and validation phase\n",
        "        for phase in ['train', 'val']:\n",
        "            if phase == 'train':\n",
        "                model.train()  # Set model to training mode\n",
        "            else:\n",
        "                model.eval()   # Set model to evaluate mode\n",
        "\n",
        "            running_loss = 0.0\n",
        "            running_corrects = 0\n",
        "\n",
        "            # Iterate over data.\n",
        "            for inputs, labels in dataloaders[phase]:\n",
        "                inputs = inputs.to(device)\n",
        "                labels = labels.to(device)\n",
        "\n",
        "                # zero the parameter gradients\n",
        "                optimizer.zero_grad()\n",
        "\n",
        "                # forward\n",
        "                # track history if only in train\n",
        "                with torch.set_grad_enabled(phase == 'train'):\n",
        "                    outputs = model(inputs)\n",
        "                    _, preds = torch.max(outputs, 1)\n",
        "                    loss = criterion(outputs, labels)\n",
        "\n",
        "                    # backward + optimize only if in training phase\n",
        "                    if phase == 'train':\n",
        "                        loss.backward()\n",
        "                        optimizer.step()\n",
        "\n",
        "                # statistics\n",
        "                running_loss += loss.item() * inputs.size(0)\n",
        "                running_corrects += torch.sum(preds == labels.data)\n",
        "            if phase == 'train':\n",
        "                scheduler.step()\n",
        "\n",
        "            epoch_loss = running_loss / dataset_sizes[phase]\n",
        "            epoch_acc = running_corrects.double() / dataset_sizes[phase]\n",
        "\n",
        "            print(f'{phase} Loss: {epoch_loss:.4f} Acc: {epoch_acc:.4f}')\n",
        "\n",
        "            # deep copy the model\n",
        "            if phase == 'val' and epoch_acc > best_acc:\n",
        "                best_acc = epoch_acc\n",
        "                best_model_wts = copy.deepcopy(model.state_dict())\n",
        "\n",
        "        print()\n",
        "\n",
        "    time_elapsed = time.time() - since\n",
        "    print(f'Training complete in {time_elapsed // 60:.0f}m {time_elapsed % 60:.0f}s')\n",
        "    print(f'Best val Acc: {best_acc:4f}')\n",
        "\n",
        "    # load best model weights\n",
        "    model.load_state_dict(best_model_wts)\n",
        "    return model"
      ],
      "metadata": {
        "id": "_7CdnA6wDDfx"
      },
      "execution_count": 4,
      "outputs": []
    },
    {
      "cell_type": "markdown",
      "source": [
        "<u>**Visualizing the model predictions**</u>"
      ],
      "metadata": {
        "id": "NPKx44pzDHoM"
      }
    },
    {
      "cell_type": "code",
      "source": [
        "# This is a generic function to display predictions for a few images\n",
        "def visualize_model(model, num_images=6):\n",
        "    was_training = model.training\n",
        "    model.eval()\n",
        "    images_so_far = 0\n",
        "    fig = plt.figure()\n",
        "\n",
        "    with torch.no_grad():\n",
        "        for i, (inputs, labels) in enumerate(dataloaders['val']):\n",
        "            inputs = inputs.to(device)\n",
        "            labels = labels.to(device)\n",
        "\n",
        "            outputs = model(inputs)\n",
        "            _, preds = torch.max(outputs, 1)\n",
        "\n",
        "            for j in range(inputs.size()[0]):\n",
        "                images_so_far += 1\n",
        "                ax = plt.subplot(num_images//2, 2, images_so_far)\n",
        "                ax.axis('off')\n",
        "                ax.set_title(f'predicted: {class_names[preds[j]]}')\n",
        "                imshow(inputs.cpu().data[j])\n",
        "\n",
        "                if images_so_far == num_images:\n",
        "                    model.train(mode=was_training)\n",
        "                    return\n",
        "        model.train(mode=was_training)"
      ],
      "metadata": {
        "id": "p8DvmGcCDMuN"
      },
      "execution_count": 5,
      "outputs": []
    },
    {
      "cell_type": "markdown",
      "source": [
        "Now, to use the ConvNet, as discussed before, we need to freeze the entire network expect the final layer. We also need to set requires_grad = False to freeze the parameters so that the gradients are not computed in backward()."
      ],
      "metadata": {
        "id": "AB0p8jYeEOwe"
      }
    },
    {
      "cell_type": "code",
      "source": [
        "model_conv = torchvision.models.resnet18(pretrained=True)\n",
        "for param in model_conv.parameters():\n",
        "    param.requires_grad = False\n",
        "\n",
        "# Parameters of newly constructed modules have requires_grad=True by default\n",
        "num_ftrs = model_conv.fc.in_features\n",
        "model_conv.fc = nn.Linear(num_ftrs, 2)\n",
        "\n",
        "model_conv = model_conv.to(device)\n",
        "\n",
        "criterion = nn.CrossEntropyLoss()\n",
        "\n",
        "# Observe that only parameters of final layer are being optimized as\n",
        "# opposed to before.\n",
        "optimizer_conv = optim.SGD(model_conv.fc.parameters(), lr=0.001, momentum=0.9)\n",
        "\n",
        "# Decay LR by a factor of 0.1 every 7 epochs\n",
        "exp_lr_scheduler = lr_scheduler.StepLR(optimizer_conv, step_size=7, gamma=0.1)"
      ],
      "metadata": {
        "id": "TkfwXIgHFIT-",
        "colab": {
          "base_uri": "https://localhost:8080/",
          "height": 158,
          "referenced_widgets": [
            "3ed66a7614374003b63549a5dca77ff8",
            "7bb51e9366174894b26f5d75815746c9",
            "4bfccf26980b40fca99d6b45b34b88ea",
            "7557b0647d3b4d23badb3f311c407511",
            "ec78fc6fc6474e5ab76a5bdbd816e479",
            "0b8f23dc786a44b3a562418228c19b0b",
            "d36cbd67ce6e44af9d4ccf195bacd1d5",
            "952b3703d53f420da886e1c6b859707e",
            "37d3b59295864f189c71b15803279547",
            "1a8a9dd660be420c94d1df8394fc6544",
            "de368affb4a34a909163ac86844a5939"
          ]
        },
        "outputId": "d0f0fe63-8fb0-4d40-be29-72b1877dc164"
      },
      "execution_count": 6,
      "outputs": [
        {
          "output_type": "stream",
          "name": "stderr",
          "text": [
            "/usr/local/lib/python3.9/dist-packages/torchvision/models/_utils.py:208: UserWarning: The parameter 'pretrained' is deprecated since 0.13 and may be removed in the future, please use 'weights' instead.\n",
            "  warnings.warn(\n",
            "/usr/local/lib/python3.9/dist-packages/torchvision/models/_utils.py:223: UserWarning: Arguments other than a weight enum or `None` for 'weights' are deprecated since 0.13 and may be removed in the future. The current behavior is equivalent to passing `weights=ResNet18_Weights.IMAGENET1K_V1`. You can also use `weights=ResNet18_Weights.DEFAULT` to get the most up-to-date weights.\n",
            "  warnings.warn(msg)\n",
            "Downloading: \"https://download.pytorch.org/models/resnet18-f37072fd.pth\" to /root/.cache/torch/hub/checkpoints/resnet18-f37072fd.pth\n"
          ]
        },
        {
          "output_type": "display_data",
          "data": {
            "text/plain": [
              "  0%|          | 0.00/44.7M [00:00<?, ?B/s]"
            ],
            "application/vnd.jupyter.widget-view+json": {
              "version_major": 2,
              "version_minor": 0,
              "model_id": "3ed66a7614374003b63549a5dca77ff8"
            }
          },
          "metadata": {}
        }
      ]
    },
    {
      "cell_type": "markdown",
      "source": [
        "<u>**Train and evaluate**</u>"
      ],
      "metadata": {
        "id": "TDf-bSYqFKKS"
      }
    },
    {
      "cell_type": "code",
      "source": [
        "model_conv = train_model(model_conv, criterion, optimizer_conv, exp_lr_scheduler, num_epochs=25)"
      ],
      "metadata": {
        "id": "gZXI4ASbFRLX",
        "colab": {
          "base_uri": "https://localhost:8080/"
        },
        "outputId": "febdd994-5b94-49f4-fbc1-73a03eb70741"
      },
      "execution_count": 7,
      "outputs": [
        {
          "output_type": "stream",
          "name": "stdout",
          "text": [
            "Epoch 0/24\n",
            "----------\n",
            "train Loss: 0.6194 Acc: 0.6844\n",
            "val Loss: 0.2135 Acc: 0.9346\n",
            "\n",
            "Epoch 1/24\n",
            "----------\n",
            "train Loss: 0.4921 Acc: 0.7500\n",
            "val Loss: 0.1917 Acc: 0.9281\n",
            "\n",
            "Epoch 2/24\n",
            "----------\n",
            "train Loss: 0.4125 Acc: 0.8320\n",
            "val Loss: 0.2044 Acc: 0.9346\n",
            "\n",
            "Epoch 3/24\n",
            "----------\n",
            "train Loss: 0.4526 Acc: 0.7992\n",
            "val Loss: 0.1839 Acc: 0.9216\n",
            "\n",
            "Epoch 4/24\n",
            "----------\n",
            "train Loss: 0.2973 Acc: 0.8852\n",
            "val Loss: 0.1865 Acc: 0.9477\n",
            "\n",
            "Epoch 5/24\n",
            "----------\n",
            "train Loss: 0.3553 Acc: 0.8484\n",
            "val Loss: 0.1902 Acc: 0.9346\n",
            "\n",
            "Epoch 6/24\n",
            "----------\n",
            "train Loss: 0.3792 Acc: 0.8320\n",
            "val Loss: 0.2030 Acc: 0.9281\n",
            "\n",
            "Epoch 7/24\n",
            "----------\n",
            "train Loss: 0.3329 Acc: 0.8443\n",
            "val Loss: 0.1989 Acc: 0.9346\n",
            "\n",
            "Epoch 8/24\n",
            "----------\n",
            "train Loss: 0.3588 Acc: 0.8566\n",
            "val Loss: 0.1751 Acc: 0.9346\n",
            "\n",
            "Epoch 9/24\n",
            "----------\n",
            "train Loss: 0.2598 Acc: 0.9057\n",
            "val Loss: 0.1738 Acc: 0.9477\n",
            "\n",
            "Epoch 10/24\n",
            "----------\n",
            "train Loss: 0.2475 Acc: 0.8730\n",
            "val Loss: 0.1815 Acc: 0.9412\n",
            "\n",
            "Epoch 11/24\n",
            "----------\n",
            "train Loss: 0.3152 Acc: 0.8484\n",
            "val Loss: 0.1823 Acc: 0.9412\n",
            "\n",
            "Epoch 12/24\n",
            "----------\n",
            "train Loss: 0.3297 Acc: 0.8607\n",
            "val Loss: 0.1790 Acc: 0.9412\n",
            "\n",
            "Epoch 13/24\n",
            "----------\n",
            "train Loss: 0.3965 Acc: 0.8238\n",
            "val Loss: 0.2150 Acc: 0.9281\n",
            "\n",
            "Epoch 14/24\n",
            "----------\n",
            "train Loss: 0.3507 Acc: 0.8525\n",
            "val Loss: 0.2014 Acc: 0.9412\n",
            "\n",
            "Epoch 15/24\n",
            "----------\n",
            "train Loss: 0.2950 Acc: 0.8730\n",
            "val Loss: 0.1826 Acc: 0.9412\n",
            "\n",
            "Epoch 16/24\n",
            "----------\n",
            "train Loss: 0.3559 Acc: 0.8402\n",
            "val Loss: 0.2083 Acc: 0.9542\n",
            "\n",
            "Epoch 17/24\n",
            "----------\n",
            "train Loss: 0.3192 Acc: 0.8730\n",
            "val Loss: 0.1795 Acc: 0.9346\n",
            "\n",
            "Epoch 18/24\n",
            "----------\n",
            "train Loss: 0.3250 Acc: 0.8730\n",
            "val Loss: 0.1896 Acc: 0.9346\n",
            "\n",
            "Epoch 19/24\n",
            "----------\n",
            "train Loss: 0.4173 Acc: 0.8361\n",
            "val Loss: 0.1976 Acc: 0.9346\n",
            "\n",
            "Epoch 20/24\n",
            "----------\n",
            "train Loss: 0.2859 Acc: 0.8607\n",
            "val Loss: 0.1815 Acc: 0.9412\n",
            "\n",
            "Epoch 21/24\n",
            "----------\n",
            "train Loss: 0.3678 Acc: 0.8197\n",
            "val Loss: 0.1896 Acc: 0.9346\n",
            "\n",
            "Epoch 22/24\n",
            "----------\n",
            "train Loss: 0.4338 Acc: 0.7828\n",
            "val Loss: 0.1978 Acc: 0.9412\n",
            "\n",
            "Epoch 23/24\n",
            "----------\n",
            "train Loss: 0.2895 Acc: 0.8770\n",
            "val Loss: 0.1785 Acc: 0.9412\n",
            "\n",
            "Epoch 24/24\n",
            "----------\n",
            "train Loss: 0.3292 Acc: 0.8361\n",
            "val Loss: 0.1667 Acc: 0.9542\n",
            "\n",
            "Training complete in 2m 14s\n",
            "Best val Acc: 0.954248\n"
          ]
        }
      ]
    },
    {
      "cell_type": "markdown",
      "source": [
        "<u>**Visualizing the predictions**</u>"
      ],
      "metadata": {
        "id": "dNtU7u6qFVK7"
      }
    },
    {
      "cell_type": "code",
      "source": [
        "visualize_model(model_conv)\n",
        "\n",
        "plt.ioff()\n",
        "plt.show()"
      ],
      "metadata": {
        "id": "GW-yC5KzFbG2",
        "colab": {
          "base_uri": "https://localhost:8080/",
          "height": 581
        },
        "outputId": "cbb164ae-7ad6-4005-df72-7aa0cc7742c7"
      },
      "execution_count": 8,
      "outputs": [
        {
          "output_type": "display_data",
          "data": {
            "text/plain": [
              "<Figure size 432x288 with 1 Axes>"
            ],
            "image/png": "[encoded data removed]"
          },
          "metadata": {
            "needs_background": "light"
          }
        },
        {
          "output_type": "display_data",
          "data": {
            "text/plain": [
              "<Figure size 432x288 with 1 Axes>"
            ],
            "image/png": "[encoded data removed]"
          },
          "metadata": {
            "needs_background": "light"
          }
        },
        {
          "output_type": "display_data",
          "data": {
            "text/plain": [
              "<Figure size 432x288 with 1 Axes>"
            ],
            "image/png": "[encoded data removed]"
          },
          "metadata": {
            "needs_background": "light"
          }
        },
        {
          "output_type": "display_data",
          "data": {
            "text/plain": [
              "<Figure size 432x288 with 1 Axes>"
            ],
            "image/png": "[encoded data removed]"
          },
          "metadata": {
            "needs_background": "light"
          }
        },
        {
          "output_type": "display_data",
          "data": {
            "text/plain": [
              "<Figure size 432x288 with 1 Axes>"
            ],
            "image/png": "[encoded data removed]"
          },
          "metadata": {
            "needs_background": "light"
          }
        },
        {
          "output_type": "display_data",
          "data": {
            "text/plain": [
              "<Figure size 432x288 with 1 Axes>"
            ],
            "image/png": "[encoded data removed]"
          },
          "metadata": {
            "needs_background": "light"
          }
        }
      ]
    },
    {
      "cell_type": "markdown",
      "source": [
        "## **Task 10**\n",
        "\n",
        "Write a function that outputs ResNet18 features for a given input image. Extract features for training images (in image_datasets['train']). You should get an Nx512 dimensional array. "
      ],
      "metadata": {
        "id": "_5PQjg31yrPn"
      }
    },
    {
      "cell_type": "code",
      "source": [
        "from PIL import Image\n",
        "from torch.autograd import Variable\n",
        "\n",
        "# Reference Used : https://becominghuman.ai/extract-a-feature-vector-for-any-image-with-pytorch-9717561d1d4c\n",
        "\n",
        "# ResNet-18 expects images to be at least 224x224, as well as normalized with a specific mean and standard deviation. \n",
        "# Hence, we will first define some PyTorch transforms:\n",
        "\n",
        "scaler = transforms.Resize((224, 224))\n",
        "normalize = transforms.Normalize(mean=[0.485, 0.456, 0.406],\n",
        "                                 std=[0.229, 0.224, 0.225])\n",
        "to_tensor = transforms.ToTensor()\n",
        "\n",
        "# Use the model object to select the desired layer\n",
        "layer = model_conv._modules.get('avgpool')"
      ],
      "metadata": {
        "id": "_4pv84Hd1_bk"
      },
      "execution_count": 9,
      "outputs": []
    },
    {
      "cell_type": "code",
      "source": [
        "# Additional reference used to get around a bug in the code : https://stackoverflow.com/questions/61606416/runtimeerror-output-with-shape-512-doesnt-match-the-broadcast-shape-1-512\n",
        "\n",
        "def get_vector(inputs):\n",
        "    # Create a PyTorch Variable with the transformed image\n",
        "    t_img = Variable(inputs.unsqueeze(0))\n",
        "    # Create a vector of zeros that will hold our feature vector\n",
        "    my_embedding = torch.zeros(512) # The 'avgpool' layer has an output size of 512\n",
        "    # Define an inner function that will copy the output of a layer\n",
        "    def copy_data(m, i, o):\n",
        "        my_embedding.copy_(o.data.reshape(o.data.size(1)))\n",
        "    # Attach that function to our selected layer\n",
        "    h = layer.register_forward_hook(copy_data)\n",
        "    # Run the model on our transformed image\n",
        "    model_conv(t_img)\n",
        "    # Detach our copy function from the layer\n",
        "    h.remove()\n",
        "    # Return the feature vector\n",
        "    return my_embedding"
      ],
      "metadata": {
        "id": "zbSZyy_g2I4_"
      },
      "execution_count": 10,
      "outputs": []
    },
    {
      "cell_type": "code",
      "source": [
        "features = np.zeros((512,1))\n",
        "labels = np.zeros((1,1))\n",
        "for img in image_datasets['train']: # img[0] is a PyTorch tensor whereas img[1] refers to the class : ants/bees\n",
        "    img_tensor = img[0].to(device)\n",
        "    img_feature = get_vector(img_tensor)\n",
        "    img_feature = img_feature.numpy()\n",
        "    img_feature = img_feature.reshape(len(img_feature),1)\n",
        "    features = np.concatenate((features, img_feature), axis = 1)\n",
        "    img_label = img[1]\n",
        "    img_label = np.array(img_label)\n",
        "    img_label = img_label.reshape(1,1)\n",
        "    labels = np.concatenate((labels, img_label), axis = 1)\n",
        "features = features.T\n",
        "labels = labels.T "
      ],
      "metadata": {
        "id": "sOnmsTpNoFQv"
      },
      "execution_count": 11,
      "outputs": []
    },
    {
      "cell_type": "code",
      "source": [
        "x = features[1:,:]\n",
        "y = labels[1:,:]"
      ],
      "metadata": {
        "id": "srDnRRHn_yf4"
      },
      "execution_count": 12,
      "outputs": []
    },
    {
      "cell_type": "markdown",
      "source": [
        "## **Task 11**\n",
        "\n",
        "Compare L2 regularized logistic regression, RBF kernel SVM (do grid search on kernel width and regularization), and random forest (do grid search on max depth and number of trees). Test the final model on test data and show the results -- accuracy and F1 score."
      ],
      "metadata": {
        "id": "gUVjhRm4ytBP"
      }
    },
    {
      "cell_type": "code",
      "source": [
        "# Reference Used : https://scikit-learn.org/stable/modules/generated/sklearn.linear_model.LogisticRegression.html#sklearn.linear_model.LogisticRegression\n",
        "# L2 regularized logistic regression (performing a grid search on maximum number of iterations and 'C' which is the inverse of regularization strength)\n",
        "hyper = {'C' : np.logspace(-3,3,7), 'max_iter' : [2000,3000,4000,5000]}\n",
        "lg = LogisticRegression(penalty='l2', solver='saga')\n",
        "scoring = ['balanced_accuracy','f1','roc_auc']\n",
        "for i in scoring:\n",
        "  clf = GridSearchCV(estimator = lg, param_grid = hyper, scoring = i) # since cv = None -> We wish to use the default 5-fold cross validation splitting strategy\n",
        "  clf.fit(np.array(x),np.squeeze(y))\n",
        "  print('Best hyperparameter : ', clf.best_params_) # Print best parameter after tuning\n",
        "  print('Best ' + i + ' : ' + str(clf.best_score_))"
      ],
      "metadata": {
        "colab": {
          "base_uri": "https://localhost:8080/"
        },
        "id": "rPyA1LWdyp3f",
        "outputId": "1f38ac6f-5396-4ccf-cad4-39154a27633c"
      },
      "execution_count": 42,
      "outputs": [
        {
          "output_type": "stream",
          "name": "stdout",
          "text": [
            "Best hyperparameter :  {'C': 0.01, 'max_iter': 2000}\n",
            "Best balanced_accuracy : 0.9423333333333332\n",
            "Best hyperparameter :  {'C': 0.01, 'max_iter': 2000}\n",
            "Best f1 : 0.9412050570459451\n",
            "Best hyperparameter :  {'C': 0.01, 'max_iter': 2000}\n",
            "Best roc_auc : 0.9865416666666667\n"
          ]
        }
      ]
    },
    {
      "cell_type": "code",
      "source": [
        "hyper = {'C' : [0.001,0.01,0.1,1,10], 'degree' : [2,3,5,7]} # Regularization and kernel width are the only hyperparameters that are to be tuned\n",
        "svc = svm.SVC(kernel='rbf', probability = True)\n",
        "scoring = ['balanced_accuracy', 'f1', 'roc_auc']\n",
        "\n",
        "for i in scoring:\n",
        "  clf = GridSearchCV(estimator = svc, param_grid = hyper, scoring = i) # since cv = None -> We wish to use the default 5-fold cross validation splitting strategy\n",
        "  clf.fit(np.array(x),np.squeeze(y))\n",
        "  print('Best hyperparameter : ', clf.best_params_) # Print best parameter after tuning\n",
        "  print('Best ' + i + ' : ' + str(clf.best_score_))"
      ],
      "metadata": {
        "colab": {
          "base_uri": "https://localhost:8080/"
        },
        "id": "MovGB6nOCl8N",
        "outputId": "fb61f4de-049d-41d8-d9df-dba946ff743f"
      },
      "execution_count": 26,
      "outputs": [
        {
          "output_type": "stream",
          "name": "stdout",
          "text": [
            "Best hyperparameter :  {'C': 10, 'degree': 2}\n",
            "Best balanced_accuracy : 0.9381666666666666\n",
            "Best hyperparameter :  {'C': 10, 'degree': 2}\n",
            "Best f1 : 0.9365797101449275\n",
            "Best hyperparameter :  {'C': 1, 'degree': 2}\n",
            "Best roc_auc : 0.9788055555555555\n"
          ]
        }
      ]
    },
    {
      "cell_type": "code",
      "source": [
        "from sklearn.ensemble import RandomForestClassifier\n",
        "\n",
        "rf = RandomForestClassifier()\n",
        "param = {'max_depth' : [2,4,6,8,10], 'max_features' : ['auto','sqrt','log2']}\n",
        "scoring = ['balanced_accuracy','f1','roc_auc']\n",
        "\n",
        "for i in scoring:\n",
        "  clf = GridSearchCV(estimator = rf, param_grid = param, scoring = i, n_jobs = -1)\n",
        "  clf.fit(np.array(x),np.squeeze(y))\n",
        "  print('Best hyperparameter : ', clf.best_params_) # Print best parameter after tuning\n",
        "  print('Best ' + i + ' : ' + str(clf.best_score_))"
      ],
      "metadata": {
        "colab": {
          "base_uri": "https://localhost:8080/"
        },
        "id": "vWnDa9BVDKxb",
        "outputId": "15e8cca5-12db-49b5-9864-25bd78e05b31"
      },
      "execution_count": 34,
      "outputs": [
        {
          "output_type": "stream",
          "name": "stderr",
          "text": [
            "/usr/local/lib/python3.9/dist-packages/sklearn/ensemble/_forest.py:424: FutureWarning: `max_features='auto'` has been deprecated in 1.1 and will be removed in 1.3. To keep the past behaviour, explicitly set `max_features='sqrt'` or remove this parameter as it is also the default value for RandomForestClassifiers and ExtraTreesClassifiers.\n",
            "  warn(\n"
          ]
        },
        {
          "output_type": "stream",
          "name": "stdout",
          "text": [
            "Best hyperparameter :  {'max_depth': 10, 'max_features': 'auto'}\n",
            "Best balanced_accuracy : 0.9381666666666668\n"
          ]
        },
        {
          "output_type": "stream",
          "name": "stderr",
          "text": [
            "/usr/local/lib/python3.9/dist-packages/sklearn/ensemble/_forest.py:424: FutureWarning: `max_features='auto'` has been deprecated in 1.1 and will be removed in 1.3. To keep the past behaviour, explicitly set `max_features='sqrt'` or remove this parameter as it is also the default value for RandomForestClassifiers and ExtraTreesClassifiers.\n",
            "  warn(\n"
          ]
        },
        {
          "output_type": "stream",
          "name": "stdout",
          "text": [
            "Best hyperparameter :  {'max_depth': 10, 'max_features': 'auto'}\n",
            "Best f1 : 0.9400899256683581\n",
            "Best hyperparameter :  {'max_depth': 6, 'max_features': 'log2'}\n",
            "Best roc_auc : 0.9795\n"
          ]
        }
      ]
    },
    {
      "cell_type": "code",
      "source": [
        "features_test = np.zeros((512,1))\n",
        "labels_test = np.zeros((1,1))\n",
        "for img in image_datasets['val']: # Due to the unavailability of the testing dataset, I am hence evaluating the performance of my model on the validation dataset\n",
        "    img_tensor = img[0].to(device)\n",
        "    img_feature = get_vector(img_tensor)\n",
        "    img_feature = img_feature.numpy()\n",
        "    img_feature = img_feature.reshape(len(img_feature),1)\n",
        "    features_test = np.concatenate((features_test, img_feature), axis = 1)\n",
        "    img_label = img[1]\n",
        "    img_label = np.array(img_label)\n",
        "    img_label = img_label.reshape(1,1)\n",
        "    labels_test = np.concatenate((labels_test, img_label), axis = 1)\n",
        "features_test = features_test.T\n",
        "labels_test = labels_test.T "
      ],
      "metadata": {
        "id": "K_Cb4cnAPPRp"
      },
      "execution_count": 14,
      "outputs": []
    },
    {
      "cell_type": "code",
      "source": [
        "x_test = features_test[1:,:]\n",
        "y_test = labels_test[1:,:]"
      ],
      "metadata": {
        "id": "ik_9rA5_RNGs"
      },
      "execution_count": 15,
      "outputs": []
    },
    {
      "cell_type": "code",
      "source": [
        "from sklearn.metrics import balanced_accuracy_score\n",
        "from sklearn.metrics import f1_score\n",
        "from sklearn.metrics import roc_auc_score\n",
        "\n",
        "# Best Model -> L2 regularized logistic regression with C = 0.01 and max_iter = 2000\n",
        "lg = LogisticRegression(penalty = 'l2', solver = 'saga', C = 0.01, max_iter = 2000)\n",
        "\n",
        "lg.fit(np.array(x),np.squeeze(y))\n",
        "\n",
        "# Predicted target variables for binary class\n",
        "y_pred = lg.predict(x_test) \n",
        "\n",
        "# Checking accuracy of model on test data\n",
        "f1 = f1_score(y_pred, y_test)\n",
        "print('f1: %.3f' % (f1*100))\n",
        "roc = roc_auc_score(y_pred, y_test)\n",
        "print('roc: %.3f' % (roc*100))\n",
        "balanced_accuracy = balanced_accuracy_score(y_pred, y_test)\n",
        "print('balanced_accuracy: %.3f' % (balanced_accuracy*100)) "
      ],
      "metadata": {
        "colab": {
          "base_uri": "https://localhost:8080/"
        },
        "id": "_drv_-q3RSrY",
        "outputId": "f082aba8-3817-4939-c4a7-789675b83efd"
      },
      "execution_count": 20,
      "outputs": [
        {
          "output_type": "stream",
          "name": "stdout",
          "text": [
            "f1: 94.410\n",
            "roc: 94.051\n",
            "balanced_accuracy: 94.051\n"
          ]
        }
      ]
    },
    {
      "cell_type": "markdown",
      "source": [
        "## **Task 12**\n",
        "Summarize your findings and write your references."
      ],
      "metadata": {
        "id": "34DL2upFTcUs"
      }
    },
    {
      "cell_type": "markdown",
      "source": [
        "<b> Observations </b>\n",
        "\n",
        "<table>\n",
        "  <tr>\n",
        "    <th>Model</th>\n",
        "    <th>Highest balanced_accuracy score</th>\n",
        "    <th>Highest f1 score</th>\n",
        "    <th>Highest roc_auc score</th>\n",
        "  </tr>\n",
        "  <tr>\n",
        "    <td>Logistic Regression with L2 penalty</td>\n",
        "    <td> 0.9423333333333332\n",
        "    </td>\n",
        "    <td> 0.9412050570459451\n",
        "    </td>\n",
        "    <td> 0.9865416666666667\n",
        "    </td>\n",
        "  </tr>\n",
        "\n",
        "  <tr>\n",
        "    <td>SVM with RBF kernel</td>\n",
        "    <td> 0.9381666666666666\n",
        "    </td>\n",
        "    <td> 0.9365797101449275\n",
        "    </td>\n",
        "    <td> 0.9788055555555555\n",
        "    </td>\n",
        "  </tr>\n",
        "\n",
        "  <tr>\n",
        "    <td>Random Forest</td>\n",
        "    <td> 0.9381666666666668\n",
        "    </td> \n",
        "    <td> 0.9400899256683581\n",
        "    </td>\n",
        "    <td> 0.9795\n",
        "    </td>\n",
        "  </tr>\n",
        "</table>\n",
        "\n",
        "1.  Here, we can clearly see that the Logistic Regression model with L2 penalty outperforms the other models in all the scenarios (balanced_accuracy, f1, roc_auc). \n",
        "2.  The best hyperparameter obtained for the Logistic Regression model was C = 0.01 and max_iter = 2000\n",
        "3.  Hence, the performance of this model was then evaluated on the validation dataset (due to the unavailablity of the testing dataset) and we obtained the following results : \n",
        "    \n",
        "    (a) f1: 94.410 <br>\n",
        "    (b) roc: 94.051 <br>\n",
        "    (c) balanced_accuracy: 94.051 "
      ],
      "metadata": {
        "id": "h-DBXF78GZZo"
      }
    },
    {
      "cell_type": "markdown",
      "source": [
        "<b> References </b>\n",
        "\n",
        "1.   For Python related syntax queries : [GeeksForGeeks](https://www.geeksforgeeks.org/)\n",
        "2.   For Python related debugging queries : [StackOverflow](https://stackoverflow.com/)\n",
        "3.   To get a better understanding of the problem statement : <u> **Feature Engineering and Selection** </u> Slides provided by Prof. Amit Sethi, IIT Bombay\n",
        "4.   Bishop - Pattern Recognition And Machine Learning - Springer - 2006 Edition\n",
        "5.   To understand and implement the functionalities provided by the <u> **PyTorch** </u> library - [PyTorch](https://pytorch.org/)\n",
        "6.   To understand and implement the functionalities provided by the <u> **scikit-learn** </u> library - [scikit-learn](https://scikit-learn.org/stable/)\n",
        "\n"
      ],
      "metadata": {
        "id": "NXBso4j4G5L5"
      }
    }
  ]
}